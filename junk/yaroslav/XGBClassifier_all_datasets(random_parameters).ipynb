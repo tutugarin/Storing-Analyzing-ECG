{
  "cells": [
    {
      "cell_type": "code",
      "execution_count": 3,
      "metadata": {
        "colab": {
          "base_uri": "https://localhost:8080/"
        },
        "id": "ME3WAPXtcz7O",
        "outputId": "a9e30080-3f78-458d-9887-cdf7bcf491da"
      },
      "outputs": [
        {
          "output_type": "execute_result",
          "data": {
            "text/plain": [
              "<analyse.utils.global_config.GlobalConfig at 0x7fd5aa2b1550>"
            ]
          },
          "metadata": {},
          "execution_count": 3
        }
      ],
      "source": [
        "import sys\n",
        "import numpy as np\n",
        "import pandas as pd\n",
        "import pickle\n",
        "import logging\n",
        "\n",
        "sys.path.append('/content/Storing-Analyzing-ECG/analyse')\n",
        "sys.path.append('/content/Storing-Analyzing-ECG/')\n",
        "\n",
        "from analyse.utils.global_config import GlobalConfig\n",
        "from analyse.utils.download_db import (\n",
        "    get_signals,\n",
        "    get_db,\n",
        ")\n",
        "\"\"\"\n",
        "logging.basicConfig(\n",
        "    filename='run-logs.log', \n",
        "    encoding='utf-8', \n",
        "    format='%(asctime)s %(levelname)s: %(message)s',\n",
        "    level=logging.DEBUG, \n",
        "    filemode='w'\n",
        ")\n",
        "\"\"\"\n",
        "GlobalConfig(r'/content/Storing-Analyzing-ECG/analyse/config/params.json')"
      ]
    },
    {
      "cell_type": "code",
      "execution_count": 8,
      "metadata": {
        "colab": {
          "base_uri": "https://localhost:8080/"
        },
        "id": "eU66dJYEcz7Q",
        "outputId": "b3abac35-0e37-4b87-c03c-88adff1780e1"
      },
      "outputs": [
        {
          "output_type": "stream",
          "name": "stderr",
          "text": [
            "WARNING:root:Record 00735 can't be read: sampto must be greater than sampfrom\n",
            "WARNING:root:Record 03665 can't be read: sampto must be greater than sampfrom\n"
          ]
        }
      ],
      "source": [
        "# Downloading datasets\n",
        "url1 = \"https://physionet.org/static/published-projects/vfdb/mit-bih-malignant-ventricular-ectopy-database-1.0.0.zip\"\n",
        "name1 = \"MIT-BIH-Malignant-Ventricular-Ectopy\"\n",
        "url2 = \"https://physionet.org/static/published-projects/afdb/mit-bih-atrial-fibrillation-database-1.0.0.zip\"\n",
        "name2 = \"MIT-BIH-AtrialFibrillation\"\n",
        "\n",
        "db_path1 = get_db(url1, name1, \"/content/Storing-Analyzing-ECG/analyse/data/\")\n",
        "db_path2 = get_db(url2, name2, \"/content/Storing-Analyzing-ECG/analyse/data/\")\n",
        "\n",
        "signals1 = get_signals(db_path1, reload=False)\n",
        "signals2 = get_signals(db_path2, reload=False)"
      ]
    },
    {
      "cell_type": "code",
      "execution_count": 9,
      "metadata": {
        "id": "RvHposvZcz7R"
      },
      "outputs": [],
      "source": [
        "# Splitting and preprocessing\n",
        "from analyse.utils.download_db import split_preprocess_signals\n",
        "X_train1, y_train1, X_test1, y_test1 = split_preprocess_signals(signals1)\n",
        "X_train2, y_train2, X_test2, y_test2 = split_preprocess_signals(signals2)"
      ]
    },
    {
      "cell_type": "code",
      "execution_count": 10,
      "metadata": {
        "id": "1uXk5CWzcz7R"
      },
      "outputs": [],
      "source": [
        "# Uniting two datasets\n",
        "X_train = pd.concat([X_train1, X_train2], axis=0)\n",
        "y_train = pd.concat([y_train1, y_train2], axis=0)\n",
        "X_test = pd.concat([X_test1, X_test2], axis=0)\n",
        "y_test = pd.concat([y_test1, y_test2], axis=0)"
      ]
    },
    {
      "cell_type": "code",
      "execution_count": 12,
      "metadata": {
        "scrolled": true,
        "id": "zMj8nF10cz7S"
      },
      "outputs": [],
      "source": [
        "# Training model on both datasets with previously found good hyper-parameters\n",
        "from xgboost import XGBClassifier\n",
        "from sklearn.model_selection import GridSearchCV\n",
        "\n",
        "xgb_clsf = XGBClassifier(\n",
        "    n_estimators=220,\n",
        "    subsample=0.84736842,\n",
        "    colsample_bytree=0.766666,\n",
        "    max_depth=12,\n",
        "    \n",
        "    n_jobs=-1\n",
        ")\n",
        "\n",
        "xgb_clsf_model = xgb_clsf.fit(X_train, y_train.values.ravel())"
      ]
    },
    {
      "cell_type": "code",
      "execution_count": 14,
      "metadata": {
        "colab": {
          "base_uri": "https://localhost:8080/"
        },
        "id": "-aXgAYNucz7T",
        "outputId": "515b3600-1237-417a-a0f7-dd1b6f06e23a"
      },
      "outputs": [
        {
          "output_type": "stream",
          "name": "stdout",
          "text": [
            "Test both: 0.9368190624380273\n",
            "Test 1: 0.7021704374788044\n",
            "Test 2: 0.9525891822195596\n"
          ]
        }
      ],
      "source": [
        "# Getting scores\n",
        "print(\"Test both:\", xgb_clsf_model.score(X_test, y_test))\n",
        "print(\"Test 1:\", xgb_clsf_model.score(X_test1, y_test1))\n",
        "print(\"Test 2:\", xgb_clsf_model.score(X_test2, y_test2))"
      ]
    },
    {
      "cell_type": "code",
      "execution_count": 16,
      "metadata": {
        "id": "elw6aLSWcz7U"
      },
      "outputs": [],
      "source": [
        "# Caching new model\n",
        "model_filename = \"/content/Storing-Analyzing-ECG/analyse/models/XGBClassifier_all_datasets.pickle\"\n",
        "\n",
        "with open(model_filename, 'wb') as bin_file:\n",
        "    pickle.dump(\n",
        "        xgb_clsf_model,\n",
        "        file=bin_file,\n",
        "        protocol=pickle.HIGHEST_PROTOCOL\n",
        "    )"
      ]
    }
  ],
  "metadata": {
    "kernelspec": {
      "display_name": "Python 3 (ipykernel)",
      "language": "python",
      "name": "python3"
    },
    "language_info": {
      "codemirror_mode": {
        "name": "ipython",
        "version": 3
      },
      "file_extension": ".py",
      "mimetype": "text/x-python",
      "name": "python",
      "nbconvert_exporter": "python",
      "pygments_lexer": "ipython3",
      "version": "3.9.10"
    },
    "colab": {
      "name": "XGBClassifier_all_datasets.ipynb",
      "provenance": [],
      "collapsed_sections": []
    }
  },
  "nbformat": 4,
  "nbformat_minor": 0
}