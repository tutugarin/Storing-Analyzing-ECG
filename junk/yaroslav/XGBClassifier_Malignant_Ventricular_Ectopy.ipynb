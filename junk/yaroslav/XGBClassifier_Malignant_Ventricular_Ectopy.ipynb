{
 "cells": [
  {
   "cell_type": "code",
   "execution_count": 1,
   "id": "568df8b2",
   "metadata": {},
   "outputs": [
    {
     "data": {
      "text/plain": [
       "<analyse.utils.global_config.GlobalConfig at 0x111000130>"
      ]
     },
     "execution_count": 1,
     "metadata": {},
     "output_type": "execute_result"
    }
   ],
   "source": [
    "import sys\n",
    "import os\n",
    "import numpy as np\n",
    "import pandas as pd\n",
    "import pickle\n",
    "import logging\n",
    "\n",
    "sys.path.append('../../analyse')\n",
    "sys.path.append('../../')\n",
    "\n",
    "from analyse.utils.global_config import GlobalConfig\n",
    "from analyse.utils.download_db import (\n",
    "    get_signals,\n",
    "    get_db,\n",
    ")\n",
    "\n",
    "logging.basicConfig(\n",
    "    filename='run-logs.log', \n",
    "    encoding='utf-8', \n",
    "    format='%(asctime)s %(levelname)s: %(message)s',\n",
    "    level=logging.DEBUG, \n",
    "    filemode='w'\n",
    ")\n",
    "GlobalConfig(r'../../analyse/config/params.json')"
   ]
  },
  {
   "cell_type": "code",
   "execution_count": 43,
   "id": "89430454",
   "metadata": {},
   "outputs": [],
   "source": [
    "# Downloading dataset\n",
    "url = \"https://physionet.org/static/published-projects/vfdb/mit-bih-malignant-ventricular-ectopy-database-1.0.0.zip\"\n",
    "name = \"MIT-BIH-Malignant-Ventricular-Ectopy\"\n",
    "\n",
    "db_path = get_db(url, name, \"../../analyse/data/\")\n",
    "\n",
    "signals = get_signals(db_path, reload=False)"
   ]
  },
  {
   "cell_type": "code",
   "execution_count": 52,
   "id": "9021ccf8",
   "metadata": {},
   "outputs": [
    {
     "name": "stdout",
     "output_type": "stream",
     "text": [
      "137638\n"
     ]
    }
   ],
   "source": [
    "# Preprocessing\n",
    "windows = []\n",
    "classification = []\n",
    "for sig in signals:\n",
    "    for window in sig.windows:\n",
    "        metrics, has_defect = window.get_data()\n",
    "        windows.append(metrics)\n",
    "        classification.append(has_defect)\n",
    "print(len(windows))"
   ]
  },
  {
   "cell_type": "code",
   "execution_count": 53,
   "id": "031c21e0",
   "metadata": {},
   "outputs": [
    {
     "name": "stdout",
     "output_type": "stream",
     "text": [
      "[[-2.19882729e-01 -1.41107676e-03  1.39524628e+00 ...  2.00000000e+00\n",
      "   1.00000000e+00  2.00000000e+00]\n",
      " [ 0.00000000e+00 -6.55222008e-04  3.98165094e-04 ...  0.00000000e+00\n",
      "   0.00000000e+00  0.00000000e+00]\n",
      " [-1.68241793e-02  1.03953335e-02  7.21503758e-02 ...  0.00000000e+00\n",
      "   1.00000000e+00  0.00000000e+00]\n",
      " ...\n",
      " [-7.49074178e-03  6.84665386e-02  1.94494871e-01 ...  4.00000000e+00\n",
      "   0.00000000e+00  0.00000000e+00]\n",
      " [-6.09756098e-02  3.29288199e-02  3.33371699e-01 ...  4.00000000e+00\n",
      "   2.00000000e+00  3.00000000e+00]\n",
      " [-3.82072829e-02  1.83617180e-02  5.84644005e-02 ...  0.00000000e+00\n",
      "   0.00000000e+00  0.00000000e+00]]\n",
      "110110\n"
     ]
    }
   ],
   "source": [
    "# Splitting dataset into training and testing datasets\n",
    "X = pd.DataFrame(windows)\n",
    "y = pd.DataFrame(classification)\n",
    "\n",
    "from sklearn.model_selection import train_test_split\n",
    "from xgboost import XGBClassifier\n",
    "from sklearn.model_selection import GridSearchCV\n",
    "\n",
    "X_train, X_test, y_train, y_test = train_test_split(X, y, test_size = 0.2, random_state = 21)\n",
    "\n",
    "print(X_test.iloc[:,0:-1].values)\n",
    "print(len(X_train))"
   ]
  },
  {
   "cell_type": "code",
   "execution_count": null,
   "id": "455c45db",
   "metadata": {},
   "outputs": [
    {
     "name": "stdout",
     "output_type": "stream",
     "text": [
      "Fitting 5 folds for each of 48 candidates, totalling 240 fits\n"
     ]
    }
   ],
   "source": [
    "# Searching for the best hyper-parameters:\n",
    "xgb_estimator = XGBClassifier()\n",
    "xgb_clsf = GridSearchCV(\n",
    "    estimator=xgb_estimator,\n",
    "    param_grid=GlobalConfig.get(\"est_params\"),\n",
    "    verbose=4,\n",
    "    n_jobs=-1,\n",
    "    refit=True,\n",
    "    scoring='roc_auc'\n",
    ")\n",
    "xgb_clsf_model = xgb_clsf.fit(X_train, y_train)"
   ]
  },
  {
   "cell_type": "code",
   "execution_count": null,
   "id": "e3e844a4",
   "metadata": {},
   "outputs": [],
   "source": [
    "# Caching model\n",
    "model_filename = \"../../analyse/models/XGBClassifier_Malignant_Ventricular_Ectopy.pickle\"\n",
    "\n",
    "with open(model_filename, 'wb') as bin_file:\n",
    "    pickle.dump(\n",
    "        xgb_clsf_model,\n",
    "        file=bin_file,\n",
    "        protocol=pickle.HIGHEST_PROTOCOL\n",
    "    )"
   ]
  },
  {
   "cell_type": "code",
   "execution_count": 51,
   "id": "95a308a0",
   "metadata": {},
   "outputs": [
    {
     "name": "stdout",
     "output_type": "stream",
     "text": [
      "{'fs': 250, 'sig_len': 525000, 'n_sig': 2, 'base_date': None, 'base_time': None, 'units': ['mV', 'mV'], 'sig_name': ['ECG', 'ECG'], 'comments': [], 'annotation': <wfdb.io.annotation.Annotation object at 0x140eac880>}\n"
     ]
    },
    {
     "data": {
      "text/plain": [
       "['(N\\x00',\n",
       " '(NOISE\\x00',\n",
       " '(N\\x00',\n",
       " '(NOISE\\x00',\n",
       " '(N\\x00',\n",
       " '(NOISE\\x00',\n",
       " '(N\\x00',\n",
       " '(NOISE\\x00',\n",
       " '(N\\x00',\n",
       " '(NOISE\\x00',\n",
       " '(N\\x00',\n",
       " '(NOISE\\x00',\n",
       " '(N\\x00',\n",
       " '(NOISE\\x00',\n",
       " '(N\\x00',\n",
       " '(NOISE\\x00',\n",
       " '(N\\x00',\n",
       " '(NOISE\\x00',\n",
       " '(N\\x00',\n",
       " '(NOISE\\x00',\n",
       " '(N\\x00',\n",
       " '(NOISE\\x00',\n",
       " '(N\\x00',\n",
       " '(NOISE\\x00',\n",
       " '(N\\x00',\n",
       " '(NOISE\\x00',\n",
       " '(N\\x00',\n",
       " '(VT\\x00',\n",
       " '(N\\x00',\n",
       " '(VT\\x00',\n",
       " '(N\\x00',\n",
       " '(VT\\x00',\n",
       " '(N\\x00',\n",
       " '(VT\\x00',\n",
       " '(N\\x00',\n",
       " '(VT\\x00',\n",
       " '(N\\x00',\n",
       " '(VT\\x00',\n",
       " '(N\\x00',\n",
       " '(VT\\x00',\n",
       " '(N\\x00',\n",
       " '(VT\\x00',\n",
       " '(N\\x00',\n",
       " '(VT\\x00',\n",
       " '(N\\x00',\n",
       " '(VT\\x00',\n",
       " '(N\\x00',\n",
       " '(VT\\x00',\n",
       " '(N\\x00',\n",
       " '(VT\\x00',\n",
       " '(N\\x00',\n",
       " '(VT\\x00',\n",
       " '(N\\x00',\n",
       " '(VT\\x00',\n",
       " '(N\\x00',\n",
       " '(VT\\x00',\n",
       " '(N\\x00',\n",
       " '(VT\\x00',\n",
       " '(N\\x00',\n",
       " '(VT\\x00',\n",
       " '(N\\x00',\n",
       " '(VT\\x00',\n",
       " '(N\\x00',\n",
       " '(NOISE\\x00',\n",
       " '(N\\x00',\n",
       " '(NOISE\\x00',\n",
       " '(N\\x00',\n",
       " '(VT\\x00',\n",
       " '(N\\x00',\n",
       " '(VT\\x00',\n",
       " '(N\\x00',\n",
       " '(VT\\x00',\n",
       " '(N\\x00',\n",
       " '(VT\\x00',\n",
       " '(N\\x00',\n",
       " '(VT\\x00',\n",
       " '(N\\x00',\n",
       " '(VT\\x00',\n",
       " '(N\\x00',\n",
       " '(VT\\x00',\n",
       " '(N\\x00',\n",
       " '(VT\\x00',\n",
       " '(N\\x00',\n",
       " '(VT\\x00',\n",
       " '(N\\x00',\n",
       " '(VT\\x00',\n",
       " '(N\\x00',\n",
       " '(VT\\x00',\n",
       " '(N\\x00',\n",
       " '(VT\\x00',\n",
       " '(N\\x00',\n",
       " '(VT\\x00',\n",
       " '(N\\x00',\n",
       " '(VT\\x00',\n",
       " '(N\\x00',\n",
       " '(VT\\x00',\n",
       " '(N\\x00',\n",
       " '(VT\\x00',\n",
       " '(N\\x00',\n",
       " '(VT\\x00',\n",
       " '(N\\x00',\n",
       " '(VT\\x00',\n",
       " '(N\\x00',\n",
       " '(VT\\x00',\n",
       " '(N\\x00',\n",
       " '(VT\\x00',\n",
       " '(N\\x00',\n",
       " '(VT\\x00',\n",
       " '(N\\x00',\n",
       " '(VT\\x00',\n",
       " '(N\\x00',\n",
       " '(VT\\x00',\n",
       " '(N\\x00',\n",
       " '(VT\\x00',\n",
       " '(NOISE\\x00',\n",
       " '(N\\x00',\n",
       " '(VT\\x00',\n",
       " '(N\\x00',\n",
       " '(VT\\x00',\n",
       " '(N\\x00',\n",
       " '(VT\\x00',\n",
       " '(N\\x00',\n",
       " '(VT\\x00',\n",
       " '(N\\x00',\n",
       " '(VT\\x00',\n",
       " '(N\\x00',\n",
       " '(VT\\x00',\n",
       " '(N\\x00',\n",
       " '(VT\\x00',\n",
       " '(N\\x00',\n",
       " '(VT\\x00',\n",
       " '(N\\x00',\n",
       " '(NOISE\\x00',\n",
       " '(N\\x00']"
      ]
     },
     "execution_count": 51,
     "metadata": {},
     "output_type": "execute_result"
    }
   ],
   "source": [
    "import wfdb\n",
    "data, info = wfdb.rdsamp(f\"{db_path}/421\")\n",
    "data = np.array(data)\n",
    "\n",
    "info['annotation'] = wfdb.rdann(f\"{db_path}/421\", 'atr')\n",
    "print(info)\n",
    "info['annotation'].__dict__['aux_note']"
   ]
  }
 ],
 "metadata": {
  "kernelspec": {
   "display_name": "Python 3 (ipykernel)",
   "language": "python",
   "name": "python3"
  },
  "language_info": {
   "codemirror_mode": {
    "name": "ipython",
    "version": 3
   },
   "file_extension": ".py",
   "mimetype": "text/x-python",
   "name": "python",
   "nbconvert_exporter": "python",
   "pygments_lexer": "ipython3",
   "version": "3.9.10"
  }
 },
 "nbformat": 4,
 "nbformat_minor": 5
}
