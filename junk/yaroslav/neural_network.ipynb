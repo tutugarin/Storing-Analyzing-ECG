{
 "cells": [
  {
   "cell_type": "code",
   "execution_count": 4,
   "metadata": {},
   "outputs": [
    {
     "data": {
      "text/plain": [
       "<analyse.utils.global_config.GlobalConfig at 0x125bf53a0>"
      ]
     },
     "execution_count": 4,
     "metadata": {},
     "output_type": "execute_result"
    }
   ],
   "source": [
    "import sys\n",
    "import os\n",
    "import numpy as np\n",
    "import pandas as pd\n",
    "import pickle\n",
    "import logging\n",
    "\n",
    "sys.path.append('../../analyse')\n",
    "sys.path.append('../../')\n",
    "\n",
    "from analyse.utils.global_config import GlobalConfig\n",
    "from analyse.utils.download_db import (\n",
    "    get_signals,\n",
    "    get_db,\n",
    ")\n",
    "\n",
    "logging.basicConfig(\n",
    "    filename='run-logs.log', \n",
    "    encoding='utf-8', \n",
    "    format='%(asctime)s %(levelname)s: %(message)s',\n",
    "    level=logging.DEBUG, \n",
    "    filemode='w'\n",
    ")\n",
    "GlobalConfig(r'../../analyse/config/params.json')"
   ]
  },
  {
   "cell_type": "code",
   "execution_count": 5,
   "metadata": {},
   "outputs": [],
   "source": [
    "url = \"https://physionet.org/static/published-projects/afdb/mit-bih-atrial-fibrillation-database-1.0.0.zip\"\n",
    "name = \"MIT-BIH-AtrialFibrillation\"\n",
    "\n",
    "db_path = get_db(url, name, \"../../analyse/data/\")\n",
    "\n",
    "signals = get_signals(db_path, reload=True)"
   ]
  },
  {
   "cell_type": "code",
   "execution_count": 6,
   "metadata": {},
   "outputs": [
    {
     "name": "stdout",
     "output_type": "stream",
     "text": [
      "2294582\n"
     ]
    }
   ],
   "source": [
    "windows = []\n",
    "classification = []\n",
    "for sig in signals:\n",
    "    for window in sig.windows:\n",
    "        metrics, has_defect = window.get_data()\n",
    "        windows.append(metrics)\n",
    "        classification.append(has_defect)\n",
    "print(len(windows))"
   ]
  },
  {
   "cell_type": "code",
   "execution_count": 9,
   "metadata": {},
   "outputs": [],
   "source": [
    "# splitting dataset into training and testing data\n",
    "X = pd.DataFrame(windows)\n",
    "y = pd.DataFrame(classification)\n",
    "clf = MLPClassifier(solver='lbfgs', alpha=1e-5, hidden_layer_sizes=(5, 2), random_state=974218425)\n",
    "\n",
    "from sklearn.model_selection import train_test_split\n",
    "from sklearn.neural_network import MLPClassifier\n",
    "\n",
    "X_train, X_test, y_train, y_test = train_test_split(X, y, test_size = 0.2, random_state = 21)"
   ]
  },
  {
   "cell_type": "code",
   "execution_count": 25,
   "metadata": {},
   "outputs": [
    {
     "data": {
      "text/plain": [
       "array([[ 1.85054883e-02,  5.54341216e-02,  1.28752746e-01, ...,\n",
       "         2.00000000e+00,  1.00000000e+00,  3.00000000e+00],\n",
       "       [-1.28792057e-02,  3.43998063e-03,  9.78299775e-03, ...,\n",
       "         0.00000000e+00,  0.00000000e+00,  0.00000000e+00],\n",
       "       [ 0.00000000e+00,  5.08800265e-04,  1.10685736e-04, ...,\n",
       "         0.00000000e+00,  0.00000000e+00,  0.00000000e+00],\n",
       "       ...,\n",
       "       [ 1.93325193e-02,  4.30025088e-02,  9.39711754e-02, ...,\n",
       "         2.00000000e+00,  0.00000000e+00,  0.00000000e+00],\n",
       "       [-1.63794875e-02,  7.80042349e-02,  1.91037307e-01, ...,\n",
       "         7.00000000e+00,  1.00000000e+00,  0.00000000e+00],\n",
       "       [ 6.38984158e-03,  1.83597968e-04,  3.66490773e-04, ...,\n",
       "         0.00000000e+00,  0.00000000e+00,  0.00000000e+00]])"
      ]
     },
     "execution_count": 25,
     "metadata": {},
     "output_type": "execute_result"
    }
   ],
   "source": [
    "X_test.iloc[:,0:-1].values"
   ]
  },
  {
   "cell_type": "code",
   "execution_count": 18,
   "metadata": {},
   "outputs": [
    {
     "data": {
      "text/plain": [
       "227272"
      ]
     },
     "execution_count": 18,
     "metadata": {},
     "output_type": "execute_result"
    }
   ],
   "source": [
    "len(X_test[X_test['AAA'] < 10])"
   ]
  },
  {
   "cell_type": "code",
   "execution_count": 20,
   "metadata": {},
   "outputs": [
    {
     "data": {
      "text/plain": [
       "196409"
      ]
     },
     "execution_count": 20,
     "metadata": {},
     "output_type": "execute_result"
    }
   ],
   "source": [
    "len(X_test[X_test['AAA'] < 5])"
   ]
  },
  {
   "cell_type": "code",
   "execution_count": 31,
   "metadata": {},
   "outputs": [],
   "source": [
    "# creating Multi-layer Perceptron classifier\n",
    "classifier = MLPClassifier(hidden_layer_sizes=(150, 100, 50), \n",
    "                           max_iter=300, \n",
    "                           activation = 'relu',\n",
    "                           solver='adam',\n",
    "                           random_state=9831235)"
   ]
  },
  {
   "cell_type": "code",
   "execution_count": null,
   "metadata": {},
   "outputs": [],
   "source": [
    "MLP_model = classifier.fit(X_train, y_train.values.ravel())"
   ]
  },
  {
   "cell_type": "code",
   "execution_count": null,
   "metadata": {},
   "outputs": [],
   "source": [
    "model_filename = \"../../analyse/models/MLPClassifier.pickle\"\n",
    " \n",
    "with open(model_filename, 'wb') as bin_file:\n",
    "    pickle.dump(\n",
    "        MLP_model,\n",
    "        file=bin_file,\n",
    "        protocol=pickle.HIGHEST_PROTOCOL\n",
    "    )"
   ]
  },
  {
   "cell_type": "code",
   "execution_count": 26,
   "metadata": {},
   "outputs": [],
   "source": [
    "# predicting with test set\n",
    "y_pred = classifier.predict(X_test)"
   ]
  },
  {
   "cell_type": "code",
   "execution_count": null,
   "metadata": {},
   "outputs": [],
   "source": [
    "print(MLP_model.score(X_test, y_test))"
   ]
  },
  {
   "cell_type": "code",
   "execution_count": null,
   "metadata": {},
   "outputs": [],
   "source": [
    "from sklearn.metrics import confusion_matrix\n",
    "\n",
    "# function for prediction accuracy calculation\n",
    "def accuracy(conf_matrix):\n",
    "    diag_sum = conf_matrix.trace()\n",
    "    all_sum = conf_matrix.sum()\n",
    "    return diag_sum / all_sum\n",
    "\n",
    "conf_matrix = confusion_matrix(y_pred, y_test)\n",
    "print(\"MLPClassifier accuracy:\", accuracy(conf_matrix))"
   ]
  }
 ],
 "metadata": {
  "kernelspec": {
   "display_name": "Python 3 (ipykernel)",
   "language": "python",
   "name": "python3"
  },
  "language_info": {
   "codemirror_mode": {
    "name": "ipython",
    "version": 3
   },
   "file_extension": ".py",
   "mimetype": "text/x-python",
   "name": "python",
   "nbconvert_exporter": "python",
   "pygments_lexer": "ipython3",
   "version": "3.9.10"
  }
 },
 "nbformat": 4,
 "nbformat_minor": 1
}
