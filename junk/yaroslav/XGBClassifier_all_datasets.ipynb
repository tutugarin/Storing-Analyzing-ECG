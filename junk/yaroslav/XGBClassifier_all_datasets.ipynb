{
 "cells": [
  {
   "cell_type": "code",
   "execution_count": 1,
   "metadata": {},
   "outputs": [
    {
     "data": {
      "text/plain": [
       "<analyse.utils.global_config.GlobalConfig at 0x103425cd0>"
      ]
     },
     "execution_count": 1,
     "metadata": {},
     "output_type": "execute_result"
    }
   ],
   "source": [
    "import sys\n",
    "import numpy as np\n",
    "import pandas as pd\n",
    "import pickle\n",
    "import logging\n",
    "\n",
    "sys.path.append('../../analyse')\n",
    "sys.path.append('../../')\n",
    "\n",
    "from analyse.utils.global_config import GlobalConfig\n",
    "from analyse.utils.download_db import (\n",
    "    get_signals,\n",
    "    get_db,\n",
    ")\n",
    "\n",
    "logging.basicConfig(\n",
    "    filename='run-logs.log', \n",
    "    encoding='utf-8', \n",
    "    format='%(asctime)s %(levelname)s: %(message)s',\n",
    "    level=logging.DEBUG, \n",
    "    filemode='w'\n",
    ")\n",
    "GlobalConfig(r'../../analyse/config/params.json')"
   ]
  },
  {
   "cell_type": "code",
   "execution_count": 2,
   "metadata": {},
   "outputs": [],
   "source": [
    "# Downloading datasets\n",
    "url1 = \"https://physionet.org/static/published-projects/vfdb/mit-bih-malignant-ventricular-ectopy-database-1.0.0.zip\"\n",
    "name1 = \"MIT-BIH-Malignant-Ventricular-Ectopy\"\n",
    "url2 = \"https://physionet.org/static/published-projects/afdb/mit-bih-atrial-fibrillation-database-1.0.0.zip\"\n",
    "name2 = \"MIT-BIH-AtrialFibrillation\"\n",
    "\n",
    "db_path1 = get_db(url1, name1, \"../../analyse/data/\")\n",
    "db_path2 = get_db(url2, name2, \"../../analyse/data/\")\n",
    "\n",
    "signals1 = get_signals(db_path1, reload=False)\n",
    "signals2 = get_signals(db_path2, reload=False)"
   ]
  },
  {
   "cell_type": "code",
   "execution_count": 9,
   "metadata": {},
   "outputs": [],
   "source": [
    "# Splitting and preprocessing\n",
    "from analyse.utils.download_db import split_preprocess_signals\n",
    "X_train1, y_train1, X_test1, y_test1 = split_preprocess_signals(signals1)\n",
    "X_train2, y_train2, X_test2, y_test2 = split_preprocess_signals(signals2)"
   ]
  },
  {
   "cell_type": "code",
   "execution_count": 16,
   "metadata": {},
   "outputs": [],
   "source": [
    "# Uniting two datasets\n",
    "X_train = pd.concat([X_train1, X_train2], axis=0)\n",
    "y_train = pd.concat([y_train1, y_train2], axis=0)\n",
    "X_test = pd.concat([X_test1, X_test2], axis=0)\n",
    "y_test = pd.concat([y_test1, y_test2], axis=0)"
   ]
  },
  {
   "cell_type": "code",
   "execution_count": null,
   "metadata": {},
   "outputs": [],
   "source": [
    "# Training model on both datasets with searching best hyper-parameters\n",
    "from xgboost import XGBClassifier\n",
    "from sklearn.model_selection import RandomizedSearchCV\n",
    "\n",
    "xgb_estimator = XGBClassifier()\n",
    "xgb_clsf = RandomizedSearchCV(\n",
    "    xgb_estimator,\n",
    "    {\n",
    "        \"max_depth\" : range(2, 16, 1),\n",
    "        \"n_estimators\" : range(60, 261, 40),\n",
    "        \"learning_rate\": np.linspace(0.01, 2, 20),\n",
    "        \"subsample\": np.linspace(0.7, 0.9, 20),\n",
    "        \"colsample_bytree\": np.linspace(0.5, 0.98, 10),\n",
    "        \"min_child_weight\": range(1, 9, 1)\n",
    "    },\n",
    "    cv=3,\n",
    "    scoring='roc_auc',\n",
    "    n_iter=300,\n",
    "    n_jobs=-1\n",
    ")\n",
    "\n",
    "xgb_clsf_model = xgb_clsf.fit(X_train, y_train)"
   ]
  },
  {
   "cell_type": "code",
   "execution_count": null,
   "metadata": {},
   "outputs": [],
   "source": []
  }
 ],
 "metadata": {
  "kernelspec": {
   "display_name": "Python 3 (ipykernel)",
   "language": "python",
   "name": "python3"
  },
  "language_info": {
   "codemirror_mode": {
    "name": "ipython",
    "version": 3
   },
   "file_extension": ".py",
   "mimetype": "text/x-python",
   "name": "python",
   "nbconvert_exporter": "python",
   "pygments_lexer": "ipython3",
   "version": "3.9.10"
  }
 },
 "nbformat": 4,
 "nbformat_minor": 1
}
