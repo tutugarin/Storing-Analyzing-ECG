{
 "cells": [
  {
   "cell_type": "code",
   "execution_count": 24,
   "metadata": {},
   "outputs": [
    {
     "data": {
      "text/plain": [
       "<analyse.utils.global_config.GlobalConfig at 0x17aef4c40>"
      ]
     },
     "execution_count": 24,
     "metadata": {},
     "output_type": "execute_result"
    }
   ],
   "source": [
    "import sys\n",
    "import numpy as np\n",
    "import pandas as pd\n",
    "import pickle\n",
    "import logging\n",
    "\n",
    "sys.path.append('../../analyse')\n",
    "sys.path.append('../../')\n",
    "\n",
    "from analyse.utils.global_config import GlobalConfig\n",
    "from analyse.utils.download_db import (\n",
    "    get_signals,\n",
    "    get_db,\n",
    ")\n",
    "\n",
    "logging.basicConfig(\n",
    "    filename='run-logs.log', \n",
    "    encoding='utf-8', \n",
    "    format='%(asctime)s %(levelname)s: %(message)s',\n",
    "    level=logging.DEBUG, \n",
    "    filemode='w'\n",
    ")\n",
    "GlobalConfig(r'../../analyse/config/params.json')"
   ]
  },
  {
   "cell_type": "code",
   "execution_count": 25,
   "metadata": {},
   "outputs": [],
   "source": [
    "# Downloading datasets\n",
    "url1 = \"https://physionet.org/static/published-projects/vfdb/mit-bih-malignant-ventricular-ectopy-database-1.0.0.zip\"\n",
    "name1 = \"MIT-BIH-Malignant-Ventricular-Ectopy\"\n",
    "url2 = \"https://physionet.org/static/published-projects/afdb/mit-bih-atrial-fibrillation-database-1.0.0.zip\"\n",
    "name2 = \"MIT-BIH-AtrialFibrillation\"\n",
    "\n",
    "db_path1 = get_db(url1, name1, \"../../analyse/data/\")\n",
    "db_path2 = get_db(url2, name2, \"../../analyse/data/\")\n",
    "\n",
    "signals1 = get_signals(db_path1, reload=False)\n",
    "signals2 = get_signals(db_path2, reload=False)"
   ]
  },
  {
   "cell_type": "code",
   "execution_count": 27,
   "metadata": {},
   "outputs": [],
   "source": [
    "# Splitting and preprocessing\n",
    "from analyse.utils.download_db import split_preprocess_signals\n",
    "X_train1, y_train1, X_test1, y_test1 = split_preprocess_signals(signals1, test_size=0.2)\n",
    "X_train2, y_train2, X_test2, y_test2 = split_preprocess_signals(signals2, test_size=0.45)"
   ]
  },
  {
   "cell_type": "code",
   "execution_count": 31,
   "metadata": {},
   "outputs": [],
   "source": [
    "# Uniting two datasets\n",
    "X_train = pd.concat([X_train1, X_train2], axis=0)\n",
    "y_train = pd.concat([y_train1, y_train2], axis=0)\n",
    "X_test = pd.concat([X_test1, X_test2], axis=0)\n",
    "y_test = pd.concat([y_test1, y_test2], axis=0)"
   ]
  },
  {
   "cell_type": "code",
   "execution_count": 32,
   "metadata": {
    "scrolled": true
   },
   "outputs": [
    {
     "name": "stdout",
     "output_type": "stream",
     "text": [
      "Fitting 3 folds for each of 50 candidates, totalling 150 fits\n",
      "[CV 1/3] END colsample_bytree=0.9266666666666666, learning_rate=0.01, max_depth=13, min_child_weight=6, n_estimators=100, subsample=0.8578947368421053;, score=0.946 total time=24.1min\n",
      "[CV 3/3] END colsample_bytree=0.6599999999999999, learning_rate=0.01, max_depth=7, min_child_weight=1, n_estimators=180, subsample=0.7105263157894737;, score=0.985 total time=14.6min\n",
      "[CV 1/3] END colsample_bytree=0.5, learning_rate=1.8952631578947368, max_depth=9, min_child_weight=7, n_estimators=100, subsample=0.8157894736842105;, score=0.925 total time= 5.6min\n",
      "[CV 1/3] END colsample_bytree=0.9266666666666666, learning_rate=1.6857894736842105, max_depth=13, min_child_weight=6, n_estimators=100, subsample=0.8157894736842105;, score=0.931 total time=13.8min\n",
      "[CV 2/3] END colsample_bytree=0.9266666666666666, learning_rate=1.5810526315789473, max_depth=6, min_child_weight=8, n_estimators=140, subsample=0.7736842105263158;, score=0.969 total time= 9.6min\n",
      "[CV 3/3] END colsample_bytree=0.8733333333333333, learning_rate=1.7905263157894737, max_depth=6, min_child_weight=8, n_estimators=140, subsample=0.8894736842105263;, score=0.908 total time= 9.2min\n",
      "[CV 1/3] END colsample_bytree=0.7666666666666666, learning_rate=1.8952631578947368, max_depth=9, min_child_weight=6, n_estimators=180, subsample=0.9;, score=0.876 total time=11.5min\n",
      "[CV 3/3] END colsample_bytree=0.7666666666666666, learning_rate=1.8952631578947368, max_depth=9, min_child_weight=6, n_estimators=180, subsample=0.9;, score=0.921 total time=14.6min\n",
      "[CV 1/3] END colsample_bytree=0.82, learning_rate=0.01, max_depth=11, min_child_weight=1, n_estimators=60, subsample=0.7842105263157895;, score=0.947 total time= 7.3min\n",
      "[CV 1/3] END colsample_bytree=0.6599999999999999, learning_rate=0.21947368421052632, max_depth=6, min_child_weight=7, n_estimators=140, subsample=0.7;, score=0.944 total time= 7.2min\n",
      "[CV 1/3] END colsample_bytree=0.7133333333333334, learning_rate=1.0573684210526315, max_depth=7, min_child_weight=2, n_estimators=220, subsample=0.8368421052631578;, score=0.938 total time=14.7min\n",
      "[CV 3/3] END colsample_bytree=0.82, learning_rate=1.266842105263158, max_depth=9, min_child_weight=8, n_estimators=60, subsample=0.7947368421052632;, score=0.973 total time= 5.7min\n",
      "[CV 1/3] END colsample_bytree=0.8733333333333333, learning_rate=0.42894736842105263, max_depth=8, min_child_weight=6, n_estimators=220, subsample=0.7947368421052632;, score=0.940 total time=19.3min\n",
      "[CV 2/3] END colsample_bytree=0.8733333333333333, learning_rate=1.4763157894736842, max_depth=8, min_child_weight=6, n_estimators=220, subsample=0.731578947368421;, score=0.969 total time=19.2min\n",
      "[CV 2/3] END colsample_bytree=0.98, learning_rate=1.8952631578947368, max_depth=14, min_child_weight=7, n_estimators=140, subsample=0.8578947368421053;, score=0.947 total time=22.6min\n",
      "[CV 2/3] END colsample_bytree=0.7666666666666666, learning_rate=1.0573684210526315, max_depth=5, min_child_weight=7, n_estimators=220, subsample=0.7526315789473684;, score=0.974 total time=11.0min\n",
      "[CV 2/3] END colsample_bytree=0.7666666666666666, learning_rate=0.8478947368421053, max_depth=14, min_child_weight=1, n_estimators=60, subsample=0.8368421052631578;, score=0.981 total time= 8.7min\n",
      "[CV 3/3] END colsample_bytree=0.98, learning_rate=0.7431578947368421, max_depth=15, min_child_weight=4, n_estimators=180, subsample=0.7736842105263158;, score=0.981 total time=30.3min\n",
      "[CV 2/3] END colsample_bytree=0.5533333333333333, learning_rate=1.7905263157894737, max_depth=14, min_child_weight=3, n_estimators=220, subsample=0.763157894736842;, score=0.964 total time=19.3min\n",
      "[CV 1/3] END colsample_bytree=0.8733333333333333, learning_rate=1.6857894736842105, max_depth=15, min_child_weight=1, n_estimators=100, subsample=0.7526315789473684;, score=0.936 total time=14.0min\n",
      "[CV 3/3] END colsample_bytree=0.6599999999999999, learning_rate=1.6857894736842105, max_depth=9, min_child_weight=6, n_estimators=100, subsample=0.7;, score=0.967 total time= 7.2min\n",
      "[CV 1/3] END colsample_bytree=0.98, learning_rate=2.0, max_depth=7, min_child_weight=3, n_estimators=100, subsample=0.7736842105263158;, score=0.842 total time= 7.4min\n",
      "[CV 2/3] END colsample_bytree=0.98, learning_rate=2.0, max_depth=7, min_child_weight=3, n_estimators=100, subsample=0.7736842105263158;, score=0.541 total time= 5.6min\n",
      "[CV 3/3] END colsample_bytree=0.98, learning_rate=2.0, max_depth=7, min_child_weight=3, n_estimators=100, subsample=0.7736842105263158;, score=0.543 total time= 7.2min\n",
      "[CV 2/3] END colsample_bytree=0.5, learning_rate=0.3242105263157895, max_depth=8, min_child_weight=2, n_estimators=60, subsample=0.8894736842105263;, score=0.985 total time= 3.4min\n",
      "[CV 3/3] END colsample_bytree=0.6599999999999999, learning_rate=1.5810526315789473, max_depth=9, min_child_weight=7, n_estimators=60, subsample=0.7526315789473684;, score=0.971 total time= 4.5min\n",
      "[CV 1/3] END colsample_bytree=0.98, learning_rate=0.7431578947368421, max_depth=8, min_child_weight=5, n_estimators=100, subsample=0.8263157894736842;, score=0.937 total time= 9.7min\n",
      "[CV 2/3] END colsample_bytree=0.98, learning_rate=0.7431578947368421, max_depth=8, min_child_weight=5, n_estimators=100, subsample=0.8263157894736842;, score=0.978 total time= 9.7min\n",
      "[CV 1/3] END colsample_bytree=0.82, learning_rate=0.7431578947368421, max_depth=5, min_child_weight=8, n_estimators=100, subsample=0.8894736842105263;, score=0.937 total time= 5.2min\n",
      "[CV 1/3] END colsample_bytree=0.7133333333333334, learning_rate=1.0573684210526315, max_depth=12, min_child_weight=4, n_estimators=60, subsample=0.7210526315789473;, score=0.937 total time= 6.2min\n",
      "[CV 2/3] END colsample_bytree=0.7133333333333334, learning_rate=1.1621052631578948, max_depth=12, min_child_weight=7, n_estimators=220, subsample=0.9;, score=0.977 total time=23.5min\n",
      "[CV 2/3] END colsample_bytree=0.5, learning_rate=0.3242105263157895, max_depth=9, min_child_weight=4, n_estimators=140, subsample=0.8368421052631578;, score=0.984 total time= 8.7min\n",
      "[CV 3/3] END colsample_bytree=0.5533333333333333, learning_rate=0.7431578947368421, max_depth=8, min_child_weight=7, n_estimators=180, subsample=0.7105263157894737;, score=0.978 total time= 9.9min\n",
      "[CV 1/3] END colsample_bytree=0.6599999999999999, learning_rate=1.4763157894736842, max_depth=9, min_child_weight=4, n_estimators=180, subsample=0.7842105263157895;, score=0.938 total time=12.9min\n",
      "[CV 2/3] END colsample_bytree=0.8733333333333333, learning_rate=0.3242105263157895, max_depth=15, min_child_weight=7, n_estimators=180, subsample=0.7842105263157895;, score=0.984 total time=27.7min\n",
      "[CV 1/3] END colsample_bytree=0.6599999999999999, learning_rate=0.11473684210526315, max_depth=10, min_child_weight=2, n_estimators=60, subsample=0.8157894736842105;, score=0.946 total time= 5.3min\n",
      "[CV 2/3] END colsample_bytree=0.6599999999999999, learning_rate=0.11473684210526315, max_depth=10, min_child_weight=2, n_estimators=60, subsample=0.8157894736842105;, score=0.986 total time= 5.3min\n",
      "[CV 1/3] END colsample_bytree=0.98, learning_rate=1.371578947368421, max_depth=11, min_child_weight=1, n_estimators=60, subsample=0.7210526315789473;, score=0.936 total time= 8.3min\n",
      "[CV 2/3] END colsample_bytree=0.6599999999999999, learning_rate=1.6857894736842105, max_depth=15, min_child_weight=6, n_estimators=180, subsample=0.7842105263157895;, score=0.970 total time=19.8min\n",
      "[CV 3/3] END colsample_bytree=0.6599999999999999, learning_rate=0.42894736842105263, max_depth=8, min_child_weight=6, n_estimators=60, subsample=0.8157894736842105;, score=0.980 total time= 6.3min\n",
      "[CV 3/3] END colsample_bytree=0.9266666666666666, learning_rate=0.01, max_depth=13, min_child_weight=6, n_estimators=100, subsample=0.8578947368421053;, score=0.984 total time=23.2min\n",
      "[CV 1/3] END colsample_bytree=0.5533333333333333, learning_rate=1.371578947368421, max_depth=9, min_child_weight=7, n_estimators=180, subsample=0.7;, score=0.933 total time=13.5min\n",
      "[CV 2/3] END colsample_bytree=0.5, learning_rate=1.8952631578947368, max_depth=9, min_child_weight=7, n_estimators=100, subsample=0.8157894736842105;, score=0.941 total time= 6.0min\n",
      "[CV 2/3] END colsample_bytree=0.9266666666666666, learning_rate=1.6857894736842105, max_depth=13, min_child_weight=6, n_estimators=100, subsample=0.8157894736842105;, score=0.961 total time=15.2min\n",
      "[CV 1/3] END colsample_bytree=0.8733333333333333, learning_rate=1.7905263157894737, max_depth=6, min_child_weight=8, n_estimators=140, subsample=0.8894736842105263;, score=0.906 total time= 7.9min\n",
      "[CV 3/3] END colsample_bytree=0.98, learning_rate=0.7431578947368421, max_depth=8, min_child_weight=7, n_estimators=180, subsample=0.9;, score=0.979 total time=18.4min\n",
      "[CV 2/3] END colsample_bytree=0.6599999999999999, learning_rate=0.9526315789473684, max_depth=9, min_child_weight=8, n_estimators=220, subsample=0.8894736842105263;, score=0.976 total time=17.5min\n",
      "[CV 3/3] END colsample_bytree=0.82, learning_rate=0.01, max_depth=11, min_child_weight=1, n_estimators=60, subsample=0.7842105263157895;, score=0.985 total time= 7.1min\n",
      "[CV 3/3] END colsample_bytree=0.6599999999999999, learning_rate=0.21947368421052632, max_depth=6, min_child_weight=7, n_estimators=140, subsample=0.7;, score=0.984 total time= 7.3min\n",
      "[CV 1/3] END colsample_bytree=0.82, learning_rate=1.266842105263158, max_depth=9, min_child_weight=8, n_estimators=60, subsample=0.7947368421052632;, score=0.930 total time= 5.6min\n",
      "[CV 2/3] END colsample_bytree=0.82, learning_rate=1.266842105263158, max_depth=9, min_child_weight=8, n_estimators=60, subsample=0.7947368421052632;, score=0.973 total time= 5.7min\n",
      "[CV 2/3] END colsample_bytree=0.82, learning_rate=1.7905263157894737, max_depth=11, min_child_weight=5, n_estimators=60, subsample=0.731578947368421;, score=0.959 total time= 6.8min\n",
      "[CV 3/3] END colsample_bytree=0.8733333333333333, learning_rate=0.42894736842105263, max_depth=8, min_child_weight=6, n_estimators=220, subsample=0.7947368421052632;, score=0.980 total time=19.4min\n",
      "[CV 1/3] END colsample_bytree=0.98, learning_rate=1.4763157894736842, max_depth=5, min_child_weight=5, n_estimators=220, subsample=0.7526315789473684;, score=0.923 total time=13.2min\n",
      "[CV 3/3] END colsample_bytree=0.98, learning_rate=1.4763157894736842, max_depth=5, min_child_weight=5, n_estimators=220, subsample=0.7526315789473684;, score=0.961 total time=14.0min\n",
      "[CV 1/3] END colsample_bytree=0.7666666666666666, learning_rate=0.42894736842105263, max_depth=11, min_child_weight=3, n_estimators=60, subsample=0.7842105263157895;, score=0.941 total time= 6.8min\n",
      "[CV 3/3] END colsample_bytree=0.7666666666666666, learning_rate=0.42894736842105263, max_depth=11, min_child_weight=3, n_estimators=60, subsample=0.7842105263157895;, score=0.981 total time= 6.8min\n",
      "[CV 1/3] END colsample_bytree=0.5, learning_rate=1.0573684210526315, max_depth=10, min_child_weight=8, n_estimators=60, subsample=0.7210526315789473;, score=0.931 total time= 4.1min\n",
      "[CV 2/3] END colsample_bytree=0.5, learning_rate=1.0573684210526315, max_depth=10, min_child_weight=8, n_estimators=60, subsample=0.7210526315789473;, score=0.974 total time= 4.2min\n",
      "[CV 1/3] END colsample_bytree=0.7666666666666666, learning_rate=0.8478947368421053, max_depth=14, min_child_weight=1, n_estimators=60, subsample=0.8368421052631578;, score=0.939 total time= 8.4min\n",
      "[CV 2/3] END colsample_bytree=0.98, learning_rate=0.7431578947368421, max_depth=15, min_child_weight=4, n_estimators=180, subsample=0.7736842105263158;, score=0.981 total time=30.8min\n",
      "[CV 1/3] END colsample_bytree=0.5533333333333333, learning_rate=1.7905263157894737, max_depth=14, min_child_weight=3, n_estimators=220, subsample=0.763157894736842;, score=0.937 total time=18.0min\n",
      "[CV 3/3] END colsample_bytree=0.6599999999999999, learning_rate=1.1621052631578948, max_depth=5, min_child_weight=8, n_estimators=180, subsample=0.8789473684210527;, score=0.972 total time= 7.7min\n",
      "[CV 1/3] END colsample_bytree=0.6599999999999999, learning_rate=1.6857894736842105, max_depth=9, min_child_weight=6, n_estimators=100, subsample=0.7;, score=0.935 total time= 6.8min\n",
      "[CV 2/3] END colsample_bytree=0.6599999999999999, learning_rate=1.6857894736842105, max_depth=9, min_child_weight=6, n_estimators=100, subsample=0.7;, score=0.964 total time= 7.0min\n",
      "[CV 3/3] END colsample_bytree=0.8733333333333333, learning_rate=1.6857894736842105, max_depth=15, min_child_weight=3, n_estimators=180, subsample=0.8157894736842105;, score=0.972 total time=24.7min\n",
      "[CV 1/3] END colsample_bytree=0.6599999999999999, learning_rate=1.5810526315789473, max_depth=9, min_child_weight=7, n_estimators=60, subsample=0.7526315789473684;, score=0.938 total time= 4.1min\n",
      "[CV 2/3] END colsample_bytree=0.82, learning_rate=0.7431578947368421, max_depth=10, min_child_weight=2, n_estimators=220, subsample=0.7526315789473684;, score=0.979 total time=21.8min\n",
      "[CV 2/3] END colsample_bytree=0.82, learning_rate=0.7431578947368421, max_depth=5, min_child_weight=8, n_estimators=100, subsample=0.8894736842105263;, score=0.980 total time= 5.2min\n",
      "[CV 2/3] END colsample_bytree=0.7133333333333334, learning_rate=1.0573684210526315, max_depth=12, min_child_weight=4, n_estimators=60, subsample=0.7210526315789473;, score=0.977 total time= 6.4min\n",
      "[CV 3/3] END colsample_bytree=0.7133333333333334, learning_rate=1.1621052631578948, max_depth=12, min_child_weight=7, n_estimators=220, subsample=0.9;, score=0.977 total time=23.4min\n",
      "[CV 3/3] END colsample_bytree=0.5, learning_rate=0.3242105263157895, max_depth=9, min_child_weight=4, n_estimators=140, subsample=0.8368421052631578;, score=0.982 total time= 8.7min\n",
      "[CV 1/3] END colsample_bytree=0.82, learning_rate=0.42894736842105263, max_depth=10, min_child_weight=7, n_estimators=140, subsample=0.8473684210526315;, score=0.942 total time=14.0min\n",
      "[CV 2/3] END colsample_bytree=0.6599999999999999, learning_rate=1.4763157894736842, max_depth=9, min_child_weight=4, n_estimators=180, subsample=0.7842105263157895;, score=0.970 total time=13.6min\n",
      "[CV 3/3] END colsample_bytree=0.8733333333333333, learning_rate=0.3242105263157895, max_depth=15, min_child_weight=7, n_estimators=180, subsample=0.7842105263157895;, score=0.981 total time=27.5min\n",
      "[CV 3/3] END colsample_bytree=0.6599999999999999, learning_rate=0.11473684210526315, max_depth=10, min_child_weight=2, n_estimators=60, subsample=0.8157894736842105;, score=0.984 total time= 5.2min\n",
      "[CV 2/3] END colsample_bytree=0.98, learning_rate=1.371578947368421, max_depth=11, min_child_weight=1, n_estimators=60, subsample=0.7210526315789473;, score=0.971 total time= 8.5min\n",
      "[CV 3/3] END colsample_bytree=0.6599999999999999, learning_rate=1.6857894736842105, max_depth=15, min_child_weight=6, n_estimators=180, subsample=0.7842105263157895;, score=0.969 total time=19.5min\n"
     ]
    },
    {
     "name": "stdout",
     "output_type": "stream",
     "text": [
      "[CV 2/3] END colsample_bytree=0.6599999999999999, learning_rate=0.42894736842105263, max_depth=8, min_child_weight=6, n_estimators=60, subsample=0.8157894736842105;, score=0.983 total time= 6.3min\n",
      "[CV 1/3] END colsample_bytree=0.6599999999999999, learning_rate=0.01, max_depth=7, min_child_weight=1, n_estimators=180, subsample=0.7105263157894737;, score=0.945 total time=16.7min\n",
      "[CV 2/3] END colsample_bytree=0.6599999999999999, learning_rate=0.01, max_depth=7, min_child_weight=1, n_estimators=180, subsample=0.7105263157894737;, score=0.988 total time=14.9min\n",
      "[CV 3/3] END colsample_bytree=0.5533333333333333, learning_rate=1.371578947368421, max_depth=9, min_child_weight=7, n_estimators=180, subsample=0.7;, score=0.972 total time=11.6min\n",
      "[CV 3/3] END colsample_bytree=0.9266666666666666, learning_rate=1.6857894736842105, max_depth=13, min_child_weight=6, n_estimators=100, subsample=0.8157894736842105;, score=0.971 total time=14.8min\n",
      "[CV 2/3] END colsample_bytree=0.8733333333333333, learning_rate=1.7905263157894737, max_depth=6, min_child_weight=8, n_estimators=140, subsample=0.8894736842105263;, score=0.552 total time= 5.9min\n",
      "[CV 2/3] END colsample_bytree=0.98, learning_rate=0.7431578947368421, max_depth=8, min_child_weight=7, n_estimators=180, subsample=0.9;, score=0.979 total time=18.4min\n",
      "[CV 1/3] END colsample_bytree=0.6599999999999999, learning_rate=0.9526315789473684, max_depth=9, min_child_weight=8, n_estimators=220, subsample=0.8894736842105263;, score=0.934 total time=17.2min\n",
      "[CV 2/3] END colsample_bytree=0.82, learning_rate=0.01, max_depth=11, min_child_weight=1, n_estimators=60, subsample=0.7842105263157895;, score=0.988 total time= 7.2min\n",
      "[CV 2/3] END colsample_bytree=0.6599999999999999, learning_rate=0.21947368421052632, max_depth=6, min_child_weight=7, n_estimators=140, subsample=0.7;, score=0.985 total time= 7.2min\n",
      "[CV 3/3] END colsample_bytree=0.7133333333333334, learning_rate=1.0573684210526315, max_depth=7, min_child_weight=2, n_estimators=220, subsample=0.8368421052631578;, score=0.976 total time=14.7min\n",
      "[CV 3/3] END colsample_bytree=0.82, learning_rate=1.7905263157894737, max_depth=11, min_child_weight=5, n_estimators=60, subsample=0.731578947368421;, score=0.959 total time= 6.7min\n",
      "[CV 1/3] END colsample_bytree=0.8733333333333333, learning_rate=1.4763157894736842, max_depth=8, min_child_weight=6, n_estimators=220, subsample=0.731578947368421;, score=0.933 total time=18.8min\n",
      "[CV 2/3] END colsample_bytree=0.98, learning_rate=1.4763157894736842, max_depth=5, min_child_weight=5, n_estimators=220, subsample=0.7526315789473684;, score=0.966 total time=13.2min\n",
      "[CV 1/3] END colsample_bytree=0.98, learning_rate=1.8952631578947368, max_depth=14, min_child_weight=7, n_estimators=140, subsample=0.8578947368421053;, score=0.846 total time=16.5min\n",
      "[CV 2/3] END colsample_bytree=0.7666666666666666, learning_rate=0.42894736842105263, max_depth=11, min_child_weight=3, n_estimators=60, subsample=0.7842105263157895;, score=0.982 total time= 6.8min\n",
      "[CV 1/3] END colsample_bytree=0.7666666666666666, learning_rate=1.0573684210526315, max_depth=5, min_child_weight=7, n_estimators=220, subsample=0.7526315789473684;, score=0.941 total time=11.0min\n",
      "[CV 3/3] END colsample_bytree=0.5, learning_rate=1.0573684210526315, max_depth=10, min_child_weight=8, n_estimators=60, subsample=0.7210526315789473;, score=0.977 total time= 4.2min\n",
      "[CV 1/3] END colsample_bytree=0.98, learning_rate=0.7431578947368421, max_depth=15, min_child_weight=4, n_estimators=180, subsample=0.7736842105263158;, score=0.939 total time=28.8min\n",
      "[CV 3/3] END colsample_bytree=0.6599999999999999, learning_rate=0.42894736842105263, max_depth=10, min_child_weight=4, n_estimators=180, subsample=0.8789473684210527;, score=0.981 total time=15.3min\n",
      "[CV 1/3] END colsample_bytree=0.6599999999999999, learning_rate=1.1621052631578948, max_depth=5, min_child_weight=8, n_estimators=180, subsample=0.8789473684210527;, score=0.939 total time= 7.6min\n",
      "[CV 2/3] END colsample_bytree=0.6599999999999999, learning_rate=1.1621052631578948, max_depth=5, min_child_weight=8, n_estimators=180, subsample=0.8789473684210527;, score=0.971 total time= 7.8min\n",
      "[CV 3/3] END colsample_bytree=0.8733333333333333, learning_rate=1.6857894736842105, max_depth=15, min_child_weight=1, n_estimators=100, subsample=0.7526315789473684;, score=0.971 total time=15.4min\n",
      "[CV 2/3] END colsample_bytree=0.8733333333333333, learning_rate=1.6857894736842105, max_depth=15, min_child_weight=3, n_estimators=180, subsample=0.8157894736842105;, score=0.968 total time=26.2min\n",
      "[CV 2/3] END colsample_bytree=0.6599999999999999, learning_rate=1.5810526315789473, max_depth=9, min_child_weight=7, n_estimators=60, subsample=0.7526315789473684;, score=0.970 total time= 4.5min\n",
      "[CV 3/3] END colsample_bytree=0.82, learning_rate=0.7431578947368421, max_depth=10, min_child_weight=2, n_estimators=220, subsample=0.7526315789473684;, score=0.980 total time=21.6min\n",
      "[CV 3/3] END colsample_bytree=0.82, learning_rate=0.7431578947368421, max_depth=5, min_child_weight=8, n_estimators=100, subsample=0.8894736842105263;, score=0.979 total time= 5.2min\n",
      "[CV 3/3] END colsample_bytree=0.7133333333333334, learning_rate=1.0573684210526315, max_depth=12, min_child_weight=4, n_estimators=60, subsample=0.7210526315789473;, score=0.976 total time= 6.4min\n",
      "[CV 1/3] END colsample_bytree=0.5, learning_rate=0.9526315789473684, max_depth=10, min_child_weight=3, n_estimators=140, subsample=0.8473684210526315;, score=0.934 total time= 9.4min\n",
      "[CV 2/3] END colsample_bytree=0.5, learning_rate=0.9526315789473684, max_depth=10, min_child_weight=3, n_estimators=140, subsample=0.8473684210526315;, score=0.977 total time= 9.6min\n",
      "[CV 1/3] END colsample_bytree=0.5, learning_rate=0.3242105263157895, max_depth=9, min_child_weight=4, n_estimators=140, subsample=0.8368421052631578;, score=0.940 total time= 8.6min\n",
      "[CV 2/3] END colsample_bytree=0.5533333333333333, learning_rate=0.7431578947368421, max_depth=8, min_child_weight=7, n_estimators=180, subsample=0.7105263157894737;, score=0.977 total time= 9.9min\n",
      "[CV 3/3] END colsample_bytree=0.82, learning_rate=0.42894736842105263, max_depth=10, min_child_weight=7, n_estimators=140, subsample=0.8473684210526315;, score=0.981 total time=14.1min\n",
      "[CV 1/3] END colsample_bytree=0.8733333333333333, learning_rate=0.3242105263157895, max_depth=15, min_child_weight=7, n_estimators=180, subsample=0.7842105263157895;, score=0.943 total time=26.5min\n",
      "[CV 2/3] END colsample_bytree=0.7666666666666666, learning_rate=0.9526315789473684, max_depth=9, min_child_weight=8, n_estimators=180, subsample=0.7842105263157895;, score=0.978 total time=15.5min\n",
      "[CV 3/3] END colsample_bytree=0.98, learning_rate=1.371578947368421, max_depth=11, min_child_weight=1, n_estimators=60, subsample=0.7210526315789473;, score=0.977 total time= 8.4min\n",
      "[CV 1/3] END colsample_bytree=0.9266666666666666, learning_rate=1.6857894736842105, max_depth=5, min_child_weight=2, n_estimators=180, subsample=0.763157894736842;, score=0.917 total time= 9.2min\n",
      "[CV 2/3] END colsample_bytree=0.9266666666666666, learning_rate=1.6857894736842105, max_depth=5, min_child_weight=2, n_estimators=180, subsample=0.763157894736842;, score=0.948 total time= 9.0min\n",
      "[CV 1/3] END colsample_bytree=0.6599999999999999, learning_rate=0.42894736842105263, max_depth=8, min_child_weight=6, n_estimators=60, subsample=0.8157894736842105;, score=0.942 total time= 6.3min\n",
      "[CV 2/3] END colsample_bytree=0.9266666666666666, learning_rate=0.01, max_depth=13, min_child_weight=6, n_estimators=100, subsample=0.8578947368421053;, score=0.986 total time=23.9min\n",
      "[CV 2/3] END colsample_bytree=0.5533333333333333, learning_rate=1.371578947368421, max_depth=9, min_child_weight=7, n_estimators=180, subsample=0.7;, score=0.972 total time=13.5min\n",
      "[CV 3/3] END colsample_bytree=0.5, learning_rate=1.8952631578947368, max_depth=9, min_child_weight=7, n_estimators=100, subsample=0.8157894736842105;, score=0.948 total time= 6.2min\n",
      "[CV 1/3] END colsample_bytree=0.9266666666666666, learning_rate=1.5810526315789473, max_depth=6, min_child_weight=8, n_estimators=140, subsample=0.7736842105263158;, score=0.931 total time= 9.5min\n",
      "[CV 3/3] END colsample_bytree=0.9266666666666666, learning_rate=1.5810526315789473, max_depth=6, min_child_weight=8, n_estimators=140, subsample=0.7736842105263158;, score=0.948 total time= 9.7min\n",
      "[CV 1/3] END colsample_bytree=0.98, learning_rate=0.7431578947368421, max_depth=8, min_child_weight=7, n_estimators=180, subsample=0.9;, score=0.937 total time=18.3min\n",
      "[CV 2/3] END colsample_bytree=0.7666666666666666, learning_rate=1.8952631578947368, max_depth=9, min_child_weight=6, n_estimators=180, subsample=0.9;, score=0.911 total time=13.2min\n",
      "[CV 3/3] END colsample_bytree=0.6599999999999999, learning_rate=0.9526315789473684, max_depth=9, min_child_weight=8, n_estimators=220, subsample=0.8894736842105263;, score=0.976 total time=17.4min\n",
      "[CV 2/3] END colsample_bytree=0.7133333333333334, learning_rate=1.0573684210526315, max_depth=7, min_child_weight=2, n_estimators=220, subsample=0.8368421052631578;, score=0.976 total time=14.7min\n",
      "[CV 1/3] END colsample_bytree=0.82, learning_rate=1.7905263157894737, max_depth=11, min_child_weight=5, n_estimators=60, subsample=0.731578947368421;, score=0.924 total time= 5.9min\n",
      "[CV 2/3] END colsample_bytree=0.8733333333333333, learning_rate=0.42894736842105263, max_depth=8, min_child_weight=6, n_estimators=220, subsample=0.7947368421052632;, score=0.981 total time=19.5min\n",
      "[CV 3/3] END colsample_bytree=0.8733333333333333, learning_rate=1.4763157894736842, max_depth=8, min_child_weight=6, n_estimators=220, subsample=0.731578947368421;, score=0.971 total time=19.2min\n",
      "[CV 3/3] END colsample_bytree=0.98, learning_rate=1.8952631578947368, max_depth=14, min_child_weight=7, n_estimators=140, subsample=0.8578947368421053;, score=0.876 total time=22.3min\n",
      "[CV 3/3] END colsample_bytree=0.7666666666666666, learning_rate=1.0573684210526315, max_depth=5, min_child_weight=7, n_estimators=220, subsample=0.7526315789473684;, score=0.974 total time=11.0min\n",
      "[CV 3/3] END colsample_bytree=0.7666666666666666, learning_rate=0.8478947368421053, max_depth=14, min_child_weight=1, n_estimators=60, subsample=0.8368421052631578;, score=0.980 total time= 8.7min\n",
      "[CV 1/3] END colsample_bytree=0.6599999999999999, learning_rate=0.42894736842105263, max_depth=10, min_child_weight=4, n_estimators=180, subsample=0.8789473684210527;, score=0.941 total time=15.3min\n",
      "[CV 2/3] END colsample_bytree=0.6599999999999999, learning_rate=0.42894736842105263, max_depth=10, min_child_weight=4, n_estimators=180, subsample=0.8789473684210527;, score=0.982 total time=15.4min\n",
      "[CV 3/3] END colsample_bytree=0.5533333333333333, learning_rate=1.7905263157894737, max_depth=14, min_child_weight=3, n_estimators=220, subsample=0.763157894736842;, score=0.958 total time=19.6min\n",
      "[CV 2/3] END colsample_bytree=0.8733333333333333, learning_rate=1.6857894736842105, max_depth=15, min_child_weight=1, n_estimators=100, subsample=0.7526315789473684;, score=0.972 total time=14.8min\n",
      "[CV 1/3] END colsample_bytree=0.8733333333333333, learning_rate=1.6857894736842105, max_depth=15, min_child_weight=3, n_estimators=180, subsample=0.8157894736842105;, score=0.941 total time=23.8min\n",
      "[CV 1/3] END colsample_bytree=0.5, learning_rate=0.3242105263157895, max_depth=8, min_child_weight=2, n_estimators=60, subsample=0.8894736842105263;, score=0.943 total time= 3.4min\n",
      "[CV 3/3] END colsample_bytree=0.5, learning_rate=0.3242105263157895, max_depth=8, min_child_weight=2, n_estimators=60, subsample=0.8894736842105263;, score=0.982 total time= 3.4min\n",
      "[CV 1/3] END colsample_bytree=0.82, learning_rate=0.7431578947368421, max_depth=10, min_child_weight=2, n_estimators=220, subsample=0.7526315789473684;, score=0.939 total time=21.4min\n",
      "[CV 3/3] END colsample_bytree=0.98, learning_rate=0.7431578947368421, max_depth=8, min_child_weight=5, n_estimators=100, subsample=0.8263157894736842;, score=0.978 total time= 9.8min\n",
      "[CV 1/3] END colsample_bytree=0.7133333333333334, learning_rate=1.1621052631578948, max_depth=12, min_child_weight=7, n_estimators=220, subsample=0.9;, score=0.936 total time=22.1min\n",
      "[CV 3/3] END colsample_bytree=0.5, learning_rate=0.9526315789473684, max_depth=10, min_child_weight=3, n_estimators=140, subsample=0.8473684210526315;, score=0.979 total time= 9.6min\n",
      "[CV 1/3] END colsample_bytree=0.5533333333333333, learning_rate=0.7431578947368421, max_depth=8, min_child_weight=7, n_estimators=180, subsample=0.7105263157894737;, score=0.935 total time= 9.9min\n",
      "[CV 2/3] END colsample_bytree=0.82, learning_rate=0.42894736842105263, max_depth=10, min_child_weight=7, n_estimators=140, subsample=0.8473684210526315;, score=0.981 total time=14.2min\n",
      "[CV 3/3] END colsample_bytree=0.6599999999999999, learning_rate=1.4763157894736842, max_depth=9, min_child_weight=4, n_estimators=180, subsample=0.7842105263157895;, score=0.973 total time=13.6min\n",
      "[CV 1/3] END colsample_bytree=0.7666666666666666, learning_rate=0.9526315789473684, max_depth=9, min_child_weight=8, n_estimators=180, subsample=0.7842105263157895;, score=0.933 total time=15.3min\n",
      "[CV 3/3] END colsample_bytree=0.7666666666666666, learning_rate=0.9526315789473684, max_depth=9, min_child_weight=8, n_estimators=180, subsample=0.7842105263157895;, score=0.977 total time=15.5min\n",
      "[CV 1/3] END colsample_bytree=0.6599999999999999, learning_rate=1.6857894736842105, max_depth=15, min_child_weight=6, n_estimators=180, subsample=0.7842105263157895;, score=0.926 total time=17.7min\n",
      "[CV 3/3] END colsample_bytree=0.9266666666666666, learning_rate=1.6857894736842105, max_depth=5, min_child_weight=2, n_estimators=180, subsample=0.763157894736842;, score=0.957 total time= 8.5min\n"
     ]
    }
   ],
   "source": [
    "# Training model on both datasets with searching best hyper-parameters\n",
    "from xgboost import XGBClassifier\n",
    "from sklearn.model_selection import RandomizedSearchCV\n",
    "\n",
    "xgb_estimator = XGBClassifier(n_jobs=-1)\n",
    "xgb_clsf = RandomizedSearchCV(\n",
    "    xgb_estimator,\n",
    "    {\n",
    "        \"max_depth\" : range(5, 16, 1),\n",
    "        \"n_estimators\" : range(60, 221, 40),\n",
    "        \"learning_rate\": np.linspace(0.01, 2, 20),\n",
    "        \"subsample\": np.linspace(0.7, 0.9, 20),\n",
    "        \"colsample_bytree\": np.linspace(0.5, 0.98, 10),\n",
    "        \"min_child_weight\": range(1, 9, 1)\n",
    "    },\n",
    "    cv=3,\n",
    "    scoring='roc_auc',\n",
    "    n_iter=50,\n",
    "    n_jobs=-1,\n",
    "    verbose=3\n",
    ")\n",
    "\n",
    "xgb_clsf_model = xgb_clsf.fit(X_train, y_train)"
   ]
  },
  {
   "cell_type": "code",
   "execution_count": 33,
   "metadata": {},
   "outputs": [
    {
     "data": {
      "text/plain": [
       "{'subsample': 0.7842105263157895,\n",
       " 'n_estimators': 60,\n",
       " 'min_child_weight': 1,\n",
       " 'max_depth': 11,\n",
       " 'learning_rate': 0.01,\n",
       " 'colsample_bytree': 0.82}"
      ]
     },
     "execution_count": 33,
     "metadata": {},
     "output_type": "execute_result"
    }
   ],
   "source": [
    "# Best hyper-parameters we got\n",
    "xgb_clsf.best_params_"
   ]
  },
  {
   "cell_type": "code",
   "execution_count": 34,
   "metadata": {},
   "outputs": [
    {
     "name": "stdout",
     "output_type": "stream",
     "text": [
      "Test both: 0.9735402948909538\n",
      "Test 1: 0.5882628833675645\n",
      "Test 2: 0.9799121296589737\n"
     ]
    }
   ],
   "source": [
    "# Getting scores\n",
    "print(\"Test both:\", xgb_clsf_model.score(X_test, y_test))\n",
    "print(\"Test 1:\", xgb_clsf_model.score(X_test1, y_test1))\n",
    "print(\"Test 2:\", xgb_clsf_model.score(X_test2, y_test2))"
   ]
  },
  {
   "cell_type": "code",
   "execution_count": 35,
   "metadata": {},
   "outputs": [],
   "source": [
    "# Caching new model\n",
    "model_filename = \"../../analyse/models/XGBClassifier_all_datasets.pickle\"\n",
    "\n",
    "with open(model_filename, 'wb') as bin_file:\n",
    "    pickle.dump(\n",
    "        xgb_clsf_model,\n",
    "        file=bin_file,\n",
    "        protocol=pickle.HIGHEST_PROTOCOL\n",
    "    )"
   ]
  },
  {
   "cell_type": "code",
   "execution_count": null,
   "metadata": {},
   "outputs": [],
   "source": []
  }
 ],
 "metadata": {
  "kernelspec": {
   "display_name": "Python 3 (ipykernel)",
   "language": "python",
   "name": "python3"
  },
  "language_info": {
   "codemirror_mode": {
    "name": "ipython",
    "version": 3
   },
   "file_extension": ".py",
   "mimetype": "text/x-python",
   "name": "python",
   "nbconvert_exporter": "python",
   "pygments_lexer": "ipython3",
   "version": "3.9.10"
  }
 },
 "nbformat": 4,
 "nbformat_minor": 1
}
