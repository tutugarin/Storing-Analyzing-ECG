{
 "cells": [
  {
   "cell_type": "code",
   "execution_count": 2,
   "metadata": {},
   "outputs": [
    {
     "data": {
      "text/plain": [
       "<analyse.utils.global_config.GlobalConfig at 0x10389d600>"
      ]
     },
     "execution_count": 2,
     "metadata": {},
     "output_type": "execute_result"
    }
   ],
   "source": [
    "import sys\n",
    "import wfdb\n",
    "import os\n",
    "import matplotlib.pyplot as plt\n",
    "from wfdb import processing \n",
    "import numpy as np\n",
    "import pickle\n",
    "import logging\n",
    "\n",
    "sys.path.append('../../analyse')\n",
    "sys.path.append('../../')\n",
    "\n",
    "from analyse.utils.download_db import (\n",
    "    get_signals,\n",
    "    get_db,\n",
    ")\n",
    "\n",
    "from analyse.utils.global_config import GlobalConfig\n",
    "\n",
    "logging.basicConfig(\n",
    "    filename='run-logs.log', \n",
    "    encoding='utf-8', \n",
    "    format='%(asctime)s %(levelname)s: %(message)s',\n",
    "    level=logging.DEBUG, \n",
    "    filemode='w'\n",
    ")\n",
    "GlobalConfig(r'../../analyse/config/params.json')"
   ]
  },
  {
   "cell_type": "markdown",
   "metadata": {},
   "source": [
    "# Download data and preprocess it"
   ]
  },
  {
   "cell_type": "code",
   "execution_count": 3,
   "metadata": {},
   "outputs": [],
   "source": [
    "url = \"https://physionet.org/static/published-projects/afdb/mit-bih-atrial-fibrillation-database-1.0.0.zip\"\n",
    "name = \"MIT-BIH-AtrialFibrillation\"\n",
    "\n",
    "db_path = get_db(url, name, \"../../analyse/data/\")\n",
    "\n",
    "signals = get_signals(db_path, reload=False)"
   ]
  },
  {
   "cell_type": "code",
   "execution_count": 4,
   "metadata": {},
   "outputs": [
    {
     "name": "stdout",
     "output_type": "stream",
     "text": [
      "2294582\n"
     ]
    }
   ],
   "source": [
    "windows = []\n",
    "classification = []\n",
    "for sig in signals:\n",
    "    for window in sig.windows:\n",
    "        metrics, has_defect = window.get_data()\n",
    "        windows.append(metrics)\n",
    "        classification.append(has_defect)\n",
    "print(len(windows))"
   ]
  },
  {
   "cell_type": "markdown",
   "metadata": {},
   "source": [
    "# Machine learning using Gradient Boosting"
   ]
  },
  {
   "cell_type": "code",
   "execution_count": 11,
   "metadata": {},
   "outputs": [
    {
     "name": "stdout",
     "output_type": "stream",
     "text": [
      "1.0\n"
     ]
    }
   ],
   "source": [
    "from sklearn.model_selection import train_test_split\n",
    "\n",
    "import pandas as pd\n",
    "\n",
    "\n",
    "windows_pd = pd.DataFrame(windows)\n",
    "classification_pd = pd.DataFrame(classification)\n",
    "\n",
    "X_train, X_test, y_train, y_test = train_test_split(windows_pd, classification_pd, train_size=0.5, random_state=42)\n",
    "\n",
    "print(len(X_train) / len(X_test))\n"
   ]
  },
  {
   "cell_type": "code",
   "execution_count": 12,
   "metadata": {},
   "outputs": [],
   "source": [
    "from sklearn.model_selection import GridSearchCV\n",
    "from xgboost import XGBClassifier\n",
    "\n",
    "rf = GridSearchCV(\n",
    "    estimator=XGBClassifier(),\n",
    "    param_grid=GlobalConfig.get(\"est_params\"),\n",
    "    n_jobs=-1,\n",
    "    scoring='roc_auc',\n",
    "    verbose=3,\n",
    "    refit=True\n",
    ")"
   ]
  },
  {
   "cell_type": "code",
   "execution_count": 13,
   "metadata": {},
   "outputs": [
    {
     "name": "stdout",
     "output_type": "stream",
     "text": [
      "Fitting 5 folds for each of 48 candidates, totalling 240 fits\n",
      "[CV 3/5] END eta=0.05, max_depth=6, n_estimators=50, verbosity=0;, score=0.989 total time= 5.4min\n",
      "[CV 5/5] END eta=0.05, max_depth=6, n_estimators=50, verbosity=0;, score=0.989 total time= 5.4min\n",
      "[CV 4/5] END eta=0.05, max_depth=6, n_estimators=50, verbosity=0;, score=0.990 total time= 5.4min\n",
      "[CV 2/5] END eta=0.05, max_depth=6, n_estimators=50, verbosity=0;, score=0.989 total time= 5.4min\n",
      "[CV 1/5] END eta=0.05, max_depth=6, n_estimators=50, verbosity=0;, score=0.989 total time= 5.4min\n",
      "[CV 1/5] END eta=0.05, max_depth=6, n_estimators=100, verbosity=0;, score=0.992 total time=10.7min\n",
      "[CV 3/5] END eta=0.05, max_depth=6, n_estimators=100, verbosity=0;, score=0.992 total time=10.8min\n",
      "[CV 2/5] END eta=0.05, max_depth=6, n_estimators=100, verbosity=0;, score=0.992 total time=10.9min\n",
      "[CV 5/5] END eta=0.05, max_depth=6, n_estimators=100, verbosity=0;, score=0.992 total time=11.0min\n",
      "[CV 4/5] END eta=0.05, max_depth=6, n_estimators=100, verbosity=0;, score=0.992 total time=11.0min\n",
      "[CV 1/5] END eta=0.05, max_depth=6, n_estimators=150, verbosity=0;, score=0.994 total time=16.4min\n",
      "[CV 3/5] END eta=0.05, max_depth=6, n_estimators=150, verbosity=0;, score=0.994 total time=16.4min\n",
      "[CV 2/5] END eta=0.05, max_depth=6, n_estimators=150, verbosity=0;, score=0.994 total time=16.5min\n",
      "[CV 4/5] END eta=0.05, max_depth=6, n_estimators=150, verbosity=0;, score=0.994 total time=16.6min\n",
      "[CV 5/5] END eta=0.05, max_depth=6, n_estimators=150, verbosity=0;, score=0.994 total time=16.7min\n",
      "[CV 1/5] END eta=0.05, max_depth=8, n_estimators=50, verbosity=0;, score=0.992 total time= 7.7min\n",
      "[CV 1/5] END eta=0.05, max_depth=6, n_estimators=200, verbosity=0;, score=0.994 total time=22.2min\n",
      "[CV 2/5] END eta=0.05, max_depth=8, n_estimators=50, verbosity=0;, score=0.992 total time= 7.6min\n",
      "[CV 3/5] END eta=0.05, max_depth=8, n_estimators=50, verbosity=0;, score=0.992 total time= 7.6min\n",
      "[CV 4/5] END eta=0.05, max_depth=8, n_estimators=50, verbosity=0;, score=0.993 total time= 7.6min\n",
      "[CV 2/5] END eta=0.05, max_depth=6, n_estimators=200, verbosity=0;, score=0.994 total time=21.9min\n",
      "[CV 3/5] END eta=0.05, max_depth=6, n_estimators=200, verbosity=0;, score=0.994 total time=22.0min\n",
      "[CV 5/5] END eta=0.05, max_depth=8, n_estimators=50, verbosity=0;, score=0.992 total time= 7.3min\n",
      "[CV 4/5] END eta=0.05, max_depth=6, n_estimators=200, verbosity=0;, score=0.995 total time=21.4min\n",
      "[CV 5/5] END eta=0.05, max_depth=6, n_estimators=200, verbosity=0;, score=0.995 total time=21.5min\n",
      "[CV 1/5] END eta=0.05, max_depth=8, n_estimators=100, verbosity=0;, score=0.995 total time=14.0min\n",
      "[CV 2/5] END eta=0.05, max_depth=8, n_estimators=100, verbosity=0;, score=0.995 total time=14.0min\n",
      "[CV 3/5] END eta=0.05, max_depth=8, n_estimators=100, verbosity=0;, score=0.995 total time=13.8min\n",
      "[CV 4/5] END eta=0.05, max_depth=8, n_estimators=100, verbosity=0;, score=0.995 total time=13.8min\n",
      "[CV 5/5] END eta=0.05, max_depth=8, n_estimators=100, verbosity=0;, score=0.995 total time=13.9min\n",
      "[CV 1/5] END eta=0.05, max_depth=8, n_estimators=150, verbosity=0;, score=0.996 total time=20.5min\n",
      "[CV 2/5] END eta=0.05, max_depth=8, n_estimators=150, verbosity=0;, score=0.996 total time=20.6min\n",
      "[CV 3/5] END eta=0.05, max_depth=8, n_estimators=150, verbosity=0;, score=0.996 total time=20.6min\n",
      "[CV 4/5] END eta=0.05, max_depth=8, n_estimators=150, verbosity=0;, score=0.997 total time=20.4min\n",
      "[CV 5/5] END eta=0.05, max_depth=8, n_estimators=150, verbosity=0;, score=0.996 total time=20.4min\n",
      "[CV 1/5] END eta=0.05, max_depth=10, n_estimators=50, verbosity=0;, score=0.994 total time= 8.7min\n",
      "[CV 1/5] END eta=0.05, max_depth=8, n_estimators=200, verbosity=0;, score=0.997 total time=26.8min\n",
      "[CV 2/5] END eta=0.05, max_depth=10, n_estimators=50, verbosity=0;, score=0.994 total time= 8.7min\n",
      "[CV 3/5] END eta=0.05, max_depth=10, n_estimators=50, verbosity=0;, score=0.995 total time= 8.7min\n",
      "[CV 2/5] END eta=0.05, max_depth=8, n_estimators=200, verbosity=0;, score=0.997 total time=26.7min\n",
      "[CV 3/5] END eta=0.05, max_depth=8, n_estimators=200, verbosity=0;, score=0.997 total time=26.9min\n",
      "[CV 4/5] END eta=0.05, max_depth=10, n_estimators=50, verbosity=0;, score=0.995 total time= 8.8min\n",
      "[CV 5/5] END eta=0.05, max_depth=10, n_estimators=50, verbosity=0;, score=0.994 total time= 8.8min\n",
      "[CV 4/5] END eta=0.05, max_depth=8, n_estimators=200, verbosity=0;, score=0.997 total time=26.7min\n",
      "[CV 5/5] END eta=0.05, max_depth=8, n_estimators=200, verbosity=0;, score=0.997 total time=26.5min\n",
      "[CV 1/5] END eta=0.05, max_depth=10, n_estimators=100, verbosity=0;, score=0.997 total time=17.3min\n",
      "[CV 2/5] END eta=0.05, max_depth=10, n_estimators=100, verbosity=0;, score=0.997 total time=17.6min\n",
      "[CV 3/5] END eta=0.05, max_depth=10, n_estimators=100, verbosity=0;, score=0.997 total time=17.5min\n",
      "[CV 4/5] END eta=0.05, max_depth=10, n_estimators=100, verbosity=0;, score=0.997 total time=17.6min\n",
      "[CV 5/5] END eta=0.05, max_depth=10, n_estimators=100, verbosity=0;, score=0.997 total time=17.5min\n",
      "[CV 1/5] END eta=0.05, max_depth=10, n_estimators=150, verbosity=0;, score=0.998 total time=25.9min\n",
      "[CV 2/5] END eta=0.05, max_depth=10, n_estimators=150, verbosity=0;, score=0.998 total time=25.8min\n",
      "[CV 3/5] END eta=0.05, max_depth=10, n_estimators=150, verbosity=0;, score=0.998 total time=25.8min\n",
      "[CV 4/5] END eta=0.05, max_depth=10, n_estimators=150, verbosity=0;, score=0.998 total time=25.9min\n",
      "[CV 5/5] END eta=0.05, max_depth=10, n_estimators=150, verbosity=0;, score=0.998 total time=25.9min\n",
      "[CV 1/5] END eta=0.05, max_depth=12, n_estimators=50, verbosity=0;, score=0.996 total time=10.9min\n",
      "[CV 1/5] END eta=0.05, max_depth=10, n_estimators=200, verbosity=0;, score=0.998 total time=33.7min\n",
      "[CV 2/5] END eta=0.05, max_depth=10, n_estimators=200, verbosity=0;, score=0.998 total time=33.9min\n",
      "[CV 2/5] END eta=0.05, max_depth=12, n_estimators=50, verbosity=0;, score=0.996 total time=10.8min\n",
      "[CV 3/5] END eta=0.05, max_depth=10, n_estimators=200, verbosity=0;, score=0.998 total time=33.5min\n",
      "[CV 3/5] END eta=0.05, max_depth=12, n_estimators=50, verbosity=0;, score=0.996 total time=11.0min\n",
      "[CV 4/5] END eta=0.05, max_depth=12, n_estimators=50, verbosity=0;, score=0.996 total time=10.9min\n",
      "[CV 5/5] END eta=0.05, max_depth=12, n_estimators=50, verbosity=0;, score=0.996 total time=10.7min\n",
      "[CV 4/5] END eta=0.05, max_depth=10, n_estimators=200, verbosity=0;, score=0.998 total time=33.7min\n",
      "[CV 5/5] END eta=0.05, max_depth=10, n_estimators=200, verbosity=0;, score=0.998 total time=33.7min\n",
      "[CV 1/5] END eta=0.05, max_depth=12, n_estimators=100, verbosity=0;, score=0.998 total time=21.5min\n",
      "[CV 2/5] END eta=0.05, max_depth=12, n_estimators=100, verbosity=0;, score=0.998 total time=21.5min\n",
      "[CV 3/5] END eta=0.05, max_depth=12, n_estimators=100, verbosity=0;, score=0.998 total time=21.5min\n",
      "[CV 4/5] END eta=0.05, max_depth=12, n_estimators=100, verbosity=0;, score=0.998 total time=21.4min\n",
      "[CV 5/5] END eta=0.05, max_depth=12, n_estimators=100, verbosity=0;, score=0.998 total time=21.5min\n",
      "[CV 1/5] END eta=0.05, max_depth=12, n_estimators=150, verbosity=0;, score=0.999 total time=31.2min\n",
      "[CV 2/5] END eta=0.05, max_depth=12, n_estimators=150, verbosity=0;, score=0.999 total time=31.0min\n",
      "[CV 3/5] END eta=0.05, max_depth=12, n_estimators=150, verbosity=0;, score=0.999 total time=31.6min\n",
      "[CV 1/5] END eta=0.15, max_depth=6, n_estimators=50, verbosity=0;, score=0.994 total time= 4.6min\n",
      "[CV 4/5] END eta=0.05, max_depth=12, n_estimators=150, verbosity=0;, score=0.999 total time=31.4min\n",
      "[CV 5/5] END eta=0.05, max_depth=12, n_estimators=150, verbosity=0;, score=0.999 total time=31.4min\n",
      "[CV 2/5] END eta=0.15, max_depth=6, n_estimators=50, verbosity=0;, score=0.993 total time= 4.9min\n",
      "[CV 3/5] END eta=0.15, max_depth=6, n_estimators=50, verbosity=0;, score=0.994 total time= 4.8min\n",
      "[CV 4/5] END eta=0.15, max_depth=6, n_estimators=50, verbosity=0;, score=0.994 total time= 4.9min\n",
      "[CV 5/5] END eta=0.15, max_depth=6, n_estimators=50, verbosity=0;, score=0.994 total time= 4.9min\n",
      "[CV 1/5] END eta=0.05, max_depth=12, n_estimators=200, verbosity=0;, score=0.999 total time=41.2min\n",
      "[CV 2/5] END eta=0.05, max_depth=12, n_estimators=200, verbosity=0;, score=0.999 total time=41.3min\n",
      "[CV 1/5] END eta=0.15, max_depth=6, n_estimators=100, verbosity=0;, score=0.996 total time= 9.8min\n",
      "[CV 2/5] END eta=0.15, max_depth=6, n_estimators=100, verbosity=0;, score=0.995 total time= 9.8min\n",
      "[CV 3/5] END eta=0.05, max_depth=12, n_estimators=200, verbosity=0;, score=0.999 total time=41.2min\n",
      "[CV 3/5] END eta=0.15, max_depth=6, n_estimators=100, verbosity=0;, score=0.995 total time= 9.8min\n",
      "[CV 4/5] END eta=0.15, max_depth=6, n_estimators=100, verbosity=0;, score=0.996 total time= 9.9min\n",
      "[CV 5/5] END eta=0.15, max_depth=6, n_estimators=100, verbosity=0;, score=0.996 total time= 9.9min\n",
      "[CV 1/5] END eta=0.15, max_depth=6, n_estimators=150, verbosity=0;, score=0.996 total time=14.9min\n",
      "[CV 2/5] END eta=0.15, max_depth=6, n_estimators=150, verbosity=0;, score=0.996 total time=15.0min\n",
      "[CV 4/5] END eta=0.05, max_depth=12, n_estimators=200, verbosity=0;, score=0.999 total time=42.9min\n",
      "[CV 3/5] END eta=0.15, max_depth=6, n_estimators=150, verbosity=0;, score=0.996 total time=15.0min\n",
      "[CV 4/5] END eta=0.15, max_depth=6, n_estimators=150, verbosity=0;, score=0.996 total time=15.1min\n",
      "[CV 5/5] END eta=0.15, max_depth=6, n_estimators=150, verbosity=0;, score=0.996 total time=15.2min\n",
      "[CV 5/5] END eta=0.05, max_depth=12, n_estimators=200, verbosity=0;, score=0.999 total time=43.3min\n",
      "[CV 1/5] END eta=0.15, max_depth=8, n_estimators=50, verbosity=0;, score=0.996 total time= 7.0min\n",
      "[CV 1/5] END eta=0.15, max_depth=6, n_estimators=200, verbosity=0;, score=0.997 total time=20.0min\n",
      "[CV 2/5] END eta=0.15, max_depth=8, n_estimators=50, verbosity=0;, score=0.996 total time= 7.1min\n",
      "[CV 3/5] END eta=0.15, max_depth=8, n_estimators=50, verbosity=0;, score=0.996 total time= 7.1min\n",
      "[CV 4/5] END eta=0.15, max_depth=8, n_estimators=50, verbosity=0;, score=0.996 total time= 7.1min\n",
      "[CV 5/5] END eta=0.15, max_depth=8, n_estimators=50, verbosity=0;, score=0.996 total time= 7.1min\n",
      "[CV 2/5] END eta=0.15, max_depth=6, n_estimators=200, verbosity=0;, score=0.997 total time=20.1min\n",
      "[CV 3/5] END eta=0.15, max_depth=6, n_estimators=200, verbosity=0;, score=0.997 total time=20.0min\n",
      "[CV 4/5] END eta=0.15, max_depth=6, n_estimators=200, verbosity=0;, score=0.997 total time=20.1min\n",
      "[CV 5/5] END eta=0.15, max_depth=6, n_estimators=200, verbosity=0;, score=0.997 total time=20.0min\n",
      "[CV 1/5] END eta=0.15, max_depth=8, n_estimators=100, verbosity=0;, score=0.997 total time=13.5min\n",
      "[CV 2/5] END eta=0.15, max_depth=8, n_estimators=100, verbosity=0;, score=0.997 total time=13.5min\n",
      "[CV 4/5] END eta=0.15, max_depth=8, n_estimators=100, verbosity=0;, score=0.997 total time=13.4min\n",
      "[CV 3/5] END eta=0.15, max_depth=8, n_estimators=100, verbosity=0;, score=0.998 total time=13.5min\n",
      "[CV 5/5] END eta=0.15, max_depth=8, n_estimators=100, verbosity=0;, score=0.997 total time=13.4min\n",
      "[CV 1/5] END eta=0.15, max_depth=8, n_estimators=150, verbosity=0;, score=0.998 total time=20.0min\n",
      "[CV 2/5] END eta=0.15, max_depth=8, n_estimators=150, verbosity=0;, score=0.998 total time=19.8min\n",
      "[CV 3/5] END eta=0.15, max_depth=8, n_estimators=150, verbosity=0;, score=0.998 total time=19.9min\n",
      "[CV 4/5] END eta=0.15, max_depth=8, n_estimators=150, verbosity=0;, score=0.998 total time=19.8min\n",
      "[CV 5/5] END eta=0.15, max_depth=8, n_estimators=150, verbosity=0;, score=0.998 total time=19.7min\n",
      "[CV 1/5] END eta=0.15, max_depth=10, n_estimators=50, verbosity=0;, score=0.998 total time= 8.7min\n",
      "[CV 2/5] END eta=0.15, max_depth=10, n_estimators=50, verbosity=0;, score=0.998 total time= 8.8min\n",
      "[CV 3/5] END eta=0.15, max_depth=10, n_estimators=50, verbosity=0;, score=0.998 total time= 8.9min\n",
      "[CV 1/5] END eta=0.15, max_depth=8, n_estimators=200, verbosity=0;, score=0.998 total time=26.0min\n",
      "[CV 2/5] END eta=0.15, max_depth=8, n_estimators=200, verbosity=0;, score=0.998 total time=26.2min\n",
      "[CV 3/5] END eta=0.15, max_depth=8, n_estimators=200, verbosity=0;, score=0.998 total time=26.1min\n",
      "[CV 4/5] END eta=0.15, max_depth=10, n_estimators=50, verbosity=0;, score=0.998 total time= 8.9min\n",
      "[CV 5/5] END eta=0.15, max_depth=10, n_estimators=50, verbosity=0;, score=0.998 total time= 8.9min\n",
      "[CV 5/5] END eta=0.15, max_depth=8, n_estimators=200, verbosity=0;, score=0.998 total time=25.9min\n",
      "[CV 4/5] END eta=0.15, max_depth=8, n_estimators=200, verbosity=0;, score=0.998 total time=26.2min\n",
      "[CV 1/5] END eta=0.15, max_depth=10, n_estimators=100, verbosity=0;, score=0.999 total time=16.8min\n",
      "[CV 2/5] END eta=0.15, max_depth=10, n_estimators=100, verbosity=0;, score=0.999 total time=16.6min\n",
      "[CV 3/5] END eta=0.15, max_depth=10, n_estimators=100, verbosity=0;, score=0.999 total time=16.8min\n",
      "[CV 4/5] END eta=0.15, max_depth=10, n_estimators=100, verbosity=0;, score=0.999 total time=16.7min\n",
      "[CV 5/5] END eta=0.15, max_depth=10, n_estimators=100, verbosity=0;, score=0.999 total time=16.7min\n",
      "[CV 1/5] END eta=0.15, max_depth=10, n_estimators=150, verbosity=0;, score=0.999 total time=24.7min\n",
      "[CV 2/5] END eta=0.15, max_depth=10, n_estimators=150, verbosity=0;, score=0.999 total time=24.7min\n",
      "[CV 3/5] END eta=0.15, max_depth=10, n_estimators=150, verbosity=0;, score=0.999 total time=24.9min\n",
      "[CV 4/5] END eta=0.15, max_depth=10, n_estimators=150, verbosity=0;, score=0.999 total time=24.9min\n",
      "[CV 5/5] END eta=0.15, max_depth=10, n_estimators=150, verbosity=0;, score=0.999 total time=25.1min\n",
      "[CV 1/5] END eta=0.15, max_depth=12, n_estimators=50, verbosity=0;, score=0.999 total time=10.9min\n",
      "[CV 1/5] END eta=0.15, max_depth=10, n_estimators=200, verbosity=0;, score=0.999 total time=33.0min\n",
      "[CV 2/5] END eta=0.15, max_depth=12, n_estimators=50, verbosity=0;, score=0.999 total time=10.7min\n",
      "[CV 2/5] END eta=0.15, max_depth=10, n_estimators=200, verbosity=0;, score=0.999 total time=33.0min\n",
      "[CV 3/5] END eta=0.15, max_depth=10, n_estimators=200, verbosity=0;, score=0.999 total time=33.0min\n",
      "[CV 3/5] END eta=0.15, max_depth=12, n_estimators=50, verbosity=0;, score=0.999 total time=10.7min\n",
      "[CV 4/5] END eta=0.15, max_depth=12, n_estimators=50, verbosity=0;, score=0.999 total time=10.8min\n",
      "[CV 5/5] END eta=0.15, max_depth=12, n_estimators=50, verbosity=0;, score=0.999 total time=10.8min\n",
      "[CV 4/5] END eta=0.15, max_depth=10, n_estimators=200, verbosity=0;, score=0.999 total time=32.7min\n",
      "[CV 5/5] END eta=0.15, max_depth=10, n_estimators=200, verbosity=0;, score=0.999 total time=32.8min\n",
      "[CV 1/5] END eta=0.15, max_depth=12, n_estimators=100, verbosity=0;, score=0.999 total time=20.3min\n",
      "[CV 2/5] END eta=0.15, max_depth=12, n_estimators=100, verbosity=0;, score=0.999 total time=20.6min\n",
      "[CV 3/5] END eta=0.15, max_depth=12, n_estimators=100, verbosity=0;, score=0.999 total time=20.3min\n",
      "[CV 4/5] END eta=0.15, max_depth=12, n_estimators=100, verbosity=0;, score=0.999 total time=20.4min\n",
      "[CV 5/5] END eta=0.15, max_depth=12, n_estimators=100, verbosity=0;, score=0.999 total time=20.4min\n",
      "[CV 1/5] END eta=0.15, max_depth=12, n_estimators=150, verbosity=0;, score=0.999 total time=30.9min\n",
      "[CV 2/5] END eta=0.15, max_depth=12, n_estimators=150, verbosity=0;, score=0.999 total time=31.1min\n",
      "[CV 3/5] END eta=0.15, max_depth=12, n_estimators=150, verbosity=0;, score=0.999 total time=31.0min\n",
      "[CV 4/5] END eta=0.15, max_depth=12, n_estimators=150, verbosity=0;, score=0.999 total time=31.5min\n",
      "[CV 5/5] END eta=0.15, max_depth=12, n_estimators=150, verbosity=0;, score=0.999 total time=31.5min\n",
      "[CV 1/5] END eta=0.3, max_depth=6, n_estimators=50, verbosity=0;, score=0.995 total time= 5.2min\n",
      "[CV 2/5] END eta=0.3, max_depth=6, n_estimators=50, verbosity=0;, score=0.995 total time= 5.4min\n",
      "[CV 4/5] END eta=0.3, max_depth=6, n_estimators=50, verbosity=0;, score=0.995 total time= 5.4min\n",
      "[CV 3/5] END eta=0.3, max_depth=6, n_estimators=50, verbosity=0;, score=0.995 total time= 5.4min\n",
      "[CV 5/5] END eta=0.3, max_depth=6, n_estimators=50, verbosity=0;, score=0.995 total time= 5.1min\n",
      "[CV 1/5] END eta=0.15, max_depth=12, n_estimators=200, verbosity=0;, score=0.999 total time=41.9min\n",
      "[CV 2/5] END eta=0.15, max_depth=12, n_estimators=200, verbosity=0;, score=1.000 total time=42.1min\n",
      "[CV 1/5] END eta=0.3, max_depth=6, n_estimators=100, verbosity=0;, score=0.997 total time= 9.7min\n",
      "[CV 2/5] END eta=0.3, max_depth=6, n_estimators=100, verbosity=0;, score=0.997 total time= 9.8min\n",
      "[CV 3/5] END eta=0.15, max_depth=12, n_estimators=200, verbosity=0;, score=0.999 total time=42.3min\n",
      "[CV 3/5] END eta=0.3, max_depth=6, n_estimators=100, verbosity=0;, score=0.997 total time=10.0min\n",
      "[CV 4/5] END eta=0.3, max_depth=6, n_estimators=100, verbosity=0;, score=0.997 total time= 9.9min\n",
      "[CV 5/5] END eta=0.3, max_depth=6, n_estimators=100, verbosity=0;, score=0.997 total time=10.0min\n",
      "[CV 1/5] END eta=0.3, max_depth=6, n_estimators=150, verbosity=0;, score=0.997 total time=14.8min\n",
      "[CV 2/5] END eta=0.3, max_depth=6, n_estimators=150, verbosity=0;, score=0.997 total time=14.7min\n",
      "[CV 3/5] END eta=0.3, max_depth=6, n_estimators=150, verbosity=0;, score=0.998 total time=14.8min\n",
      "[CV 4/5] END eta=0.15, max_depth=12, n_estimators=200, verbosity=0;, score=1.000 total time=42.7min\n",
      "[CV 5/5] END eta=0.15, max_depth=12, n_estimators=200, verbosity=0;, score=0.999 total time=42.5min\n",
      "[CV 4/5] END eta=0.3, max_depth=6, n_estimators=150, verbosity=0;, score=0.998 total time=14.8min\n",
      "[CV 5/5] END eta=0.3, max_depth=6, n_estimators=150, verbosity=0;, score=0.998 total time=14.7min\n",
      "[CV 1/5] END eta=0.3, max_depth=8, n_estimators=50, verbosity=0;, score=0.997 total time= 6.9min\n",
      "[CV 2/5] END eta=0.3, max_depth=8, n_estimators=50, verbosity=0;, score=0.997 total time= 6.9min\n",
      "[CV 1/5] END eta=0.3, max_depth=6, n_estimators=200, verbosity=0;, score=0.998 total time=19.6min\n",
      "[CV 3/5] END eta=0.3, max_depth=8, n_estimators=50, verbosity=0;, score=0.997 total time= 6.9min\n",
      "[CV 4/5] END eta=0.3, max_depth=8, n_estimators=50, verbosity=0;, score=0.997 total time= 7.0min\n",
      "[CV 5/5] END eta=0.3, max_depth=8, n_estimators=50, verbosity=0;, score=0.997 total time= 6.9min\n",
      "[CV 2/5] END eta=0.3, max_depth=6, n_estimators=200, verbosity=0;, score=0.998 total time=19.9min\n",
      "[CV 3/5] END eta=0.3, max_depth=6, n_estimators=200, verbosity=0;, score=0.998 total time=20.0min\n",
      "[CV 4/5] END eta=0.3, max_depth=6, n_estimators=200, verbosity=0;, score=0.998 total time=19.9min\n",
      "[CV 5/5] END eta=0.3, max_depth=6, n_estimators=200, verbosity=0;, score=0.998 total time=20.0min\n",
      "[CV 1/5] END eta=0.3, max_depth=8, n_estimators=100, verbosity=0;, score=0.998 total time=13.5min\n",
      "[CV 2/5] END eta=0.3, max_depth=8, n_estimators=100, verbosity=0;, score=0.998 total time=13.5min\n",
      "[CV 3/5] END eta=0.3, max_depth=8, n_estimators=100, verbosity=0;, score=0.998 total time=13.3min\n",
      "[CV 4/5] END eta=0.3, max_depth=8, n_estimators=100, verbosity=0;, score=0.998 total time=13.4min\n",
      "[CV 5/5] END eta=0.3, max_depth=8, n_estimators=100, verbosity=0;, score=0.998 total time=13.3min\n",
      "[CV 1/5] END eta=0.3, max_depth=8, n_estimators=150, verbosity=0;, score=0.999 total time=19.7min\n",
      "[CV 2/5] END eta=0.3, max_depth=8, n_estimators=150, verbosity=0;, score=0.999 total time=19.7min\n",
      "[CV 3/5] END eta=0.3, max_depth=8, n_estimators=150, verbosity=0;, score=0.999 total time=19.9min\n",
      "[CV 4/5] END eta=0.3, max_depth=8, n_estimators=150, verbosity=0;, score=0.999 total time=19.7min\n",
      "[CV 5/5] END eta=0.3, max_depth=8, n_estimators=150, verbosity=0;, score=0.999 total time=19.9min\n",
      "[CV 1/5] END eta=0.3, max_depth=10, n_estimators=50, verbosity=0;, score=0.999 total time= 8.7min\n",
      "[CV 2/5] END eta=0.3, max_depth=10, n_estimators=50, verbosity=0;, score=0.999 total time= 8.8min\n",
      "[CV 3/5] END eta=0.3, max_depth=10, n_estimators=50, verbosity=0;, score=0.999 total time= 8.7min\n",
      "[CV 1/5] END eta=0.3, max_depth=8, n_estimators=200, verbosity=0;, score=0.999 total time=26.5min\n",
      "[CV 2/5] END eta=0.3, max_depth=8, n_estimators=200, verbosity=0;, score=0.999 total time=26.6min\n",
      "[CV 4/5] END eta=0.3, max_depth=10, n_estimators=50, verbosity=0;, score=0.999 total time= 9.1min\n",
      "[CV 3/5] END eta=0.3, max_depth=8, n_estimators=200, verbosity=0;, score=0.999 total time=26.8min\n",
      "[CV 5/5] END eta=0.3, max_depth=10, n_estimators=50, verbosity=0;, score=0.999 total time= 9.4min\n",
      "[CV 4/5] END eta=0.3, max_depth=8, n_estimators=200, verbosity=0;, score=0.999 total time=27.3min\n",
      "[CV 5/5] END eta=0.3, max_depth=8, n_estimators=200, verbosity=0;, score=0.999 total time=27.6min\n",
      "[CV 1/5] END eta=0.3, max_depth=10, n_estimators=100, verbosity=0;, score=0.999 total time=18.4min\n",
      "[CV 2/5] END eta=0.3, max_depth=10, n_estimators=100, verbosity=0;, score=0.999 total time=18.4min\n",
      "[CV 3/5] END eta=0.3, max_depth=10, n_estimators=100, verbosity=0;, score=0.999 total time=18.4min\n",
      "[CV 4/5] END eta=0.3, max_depth=10, n_estimators=100, verbosity=0;, score=0.999 total time=18.5min\n",
      "[CV 5/5] END eta=0.3, max_depth=10, n_estimators=100, verbosity=0;, score=0.999 total time=18.5min\n",
      "[CV 1/5] END eta=0.3, max_depth=10, n_estimators=150, verbosity=0;, score=0.999 total time=27.3min\n",
      "[CV 2/5] END eta=0.3, max_depth=10, n_estimators=150, verbosity=0;, score=0.999 total time=27.4min\n",
      "[CV 3/5] END eta=0.3, max_depth=10, n_estimators=150, verbosity=0;, score=0.999 total time=27.2min\n",
      "[CV 4/5] END eta=0.3, max_depth=10, n_estimators=150, verbosity=0;, score=0.999 total time=27.2min\n",
      "[CV 5/5] END eta=0.3, max_depth=10, n_estimators=150, verbosity=0;, score=0.999 total time=27.4min\n",
      "[CV 1/5] END eta=0.3, max_depth=12, n_estimators=50, verbosity=0;, score=0.999 total time=11.6min\n",
      "[CV 2/5] END eta=0.3, max_depth=12, n_estimators=50, verbosity=0;, score=0.999 total time=11.7min\n",
      "[CV 1/5] END eta=0.3, max_depth=10, n_estimators=200, verbosity=0;, score=0.999 total time=36.1min\n",
      "[CV 2/5] END eta=0.3, max_depth=10, n_estimators=200, verbosity=0;, score=1.000 total time=36.3min\n",
      "[CV 3/5] END eta=0.3, max_depth=10, n_estimators=200, verbosity=0;, score=0.999 total time=36.1min\n",
      "[CV 3/5] END eta=0.3, max_depth=12, n_estimators=50, verbosity=0;, score=0.999 total time=11.7min\n",
      "[CV 4/5] END eta=0.3, max_depth=12, n_estimators=50, verbosity=0;, score=0.999 total time=11.7min\n",
      "[CV 5/5] END eta=0.3, max_depth=12, n_estimators=50, verbosity=0;, score=0.999 total time=11.5min\n",
      "[CV 4/5] END eta=0.3, max_depth=10, n_estimators=200, verbosity=0;, score=1.000 total time=35.6min\n",
      "[CV 5/5] END eta=0.3, max_depth=10, n_estimators=200, verbosity=0;, score=0.999 total time=35.9min\n",
      "[CV 1/5] END eta=0.3, max_depth=12, n_estimators=100, verbosity=0;, score=0.999 total time=21.6min\n",
      "[CV 2/5] END eta=0.3, max_depth=12, n_estimators=100, verbosity=0;, score=1.000 total time=21.8min\n",
      "[CV 3/5] END eta=0.3, max_depth=12, n_estimators=100, verbosity=0;, score=1.000 total time=21.7min\n",
      "[CV 4/5] END eta=0.3, max_depth=12, n_estimators=100, verbosity=0;, score=0.999 total time=21.5min\n",
      "[CV 5/5] END eta=0.3, max_depth=12, n_estimators=100, verbosity=0;, score=0.999 total time=21.4min\n",
      "[CV 1/5] END eta=0.3, max_depth=12, n_estimators=150, verbosity=0;, score=1.000 total time=32.0min\n",
      "[CV 2/5] END eta=0.3, max_depth=12, n_estimators=150, verbosity=0;, score=1.000 total time=32.3min\n",
      "[CV 3/5] END eta=0.3, max_depth=12, n_estimators=150, verbosity=0;, score=1.000 total time=31.8min\n",
      "[CV 4/5] END eta=0.3, max_depth=12, n_estimators=150, verbosity=0;, score=1.000 total time=30.7min\n",
      "[CV 5/5] END eta=0.3, max_depth=12, n_estimators=150, verbosity=0;, score=1.000 total time=30.1min\n",
      "[CV 1/5] END eta=0.3, max_depth=12, n_estimators=200, verbosity=0;, score=1.000 total time=33.9min\n",
      "[CV 2/5] END eta=0.3, max_depth=12, n_estimators=200, verbosity=0;, score=1.000 total time=33.0min\n",
      "[CV 3/5] END eta=0.3, max_depth=12, n_estimators=200, verbosity=0;, score=1.000 total time=31.5min\n",
      "[CV 4/5] END eta=0.3, max_depth=12, n_estimators=200, verbosity=0;, score=1.000 total time=20.1min\n",
      "[CV 5/5] END eta=0.3, max_depth=12, n_estimators=200, verbosity=0;, score=1.000 total time=17.5min\n"
     ]
    }
   ],
   "source": [
    "rf_model = rf.fit(X_train, y_train)"
   ]
  },
  {
   "cell_type": "code",
   "execution_count": 23,
   "metadata": {},
   "outputs": [],
   "source": [
    "mode_file_name = \"../../analyse/models/XGBClassifier.pickle\" \n",
    " \n",
    "with open(mode_file_name, 'wb') as bin_file:\n",
    "    pickle.dump(\n",
    "        rf_model,\n",
    "        file=bin_file,\n",
    "        protocol=pickle.HIGHEST_PROTOCOL\n",
    "    )"
   ]
  },
  {
   "cell_type": "code",
   "execution_count": 24,
   "metadata": {},
   "outputs": [
    {
     "name": "stdout",
     "output_type": "stream",
     "text": [
      "XGBClassifier(base_score=0.5, booster='gbtree', callbacks=None,\n",
      "              colsample_bylevel=1, colsample_bynode=1, colsample_bytree=1,\n",
      "              early_stopping_rounds=None, enable_categorical=False, eta=0.3,\n",
      "              eval_metric=None, gamma=0, gpu_id=-1, grow_policy='depthwise',\n",
      "              importance_type=None, interaction_constraints='',\n",
      "              learning_rate=0.300000012, max_bin=256, max_cat_to_onehot=4,\n",
      "              max_delta_step=0, max_depth=12, max_leaves=0, min_child_weight=1,\n",
      "              missing=nan, monotone_constraints='()', n_estimators=200,\n",
      "              n_jobs=0, num_parallel_tree=1, predictor='auto', random_state=0,\n",
      "              reg_alpha=0, ...)\n"
     ]
    }
   ],
   "source": [
    "print(rf_model.best_estimator_)"
   ]
  },
  {
   "cell_type": "markdown",
   "metadata": {},
   "source": [
    "# TESTS"
   ]
  },
  {
   "cell_type": "markdown",
   "metadata": {},
   "source": [
    "**Check test dataset**"
   ]
  },
  {
   "cell_type": "code",
   "execution_count": 15,
   "metadata": {},
   "outputs": [
    {
     "name": "stdout",
     "output_type": "stream",
     "text": [
      "0.9997132910989879\n"
     ]
    }
   ],
   "source": [
    "print(rf_model.score(X_test, y_test))"
   ]
  },
  {
   "cell_type": "markdown",
   "metadata": {},
   "source": [
    "**Create some more datasets for testing and get mean**"
   ]
  },
  {
   "cell_type": "code",
   "execution_count": 17,
   "metadata": {},
   "outputs": [
    {
     "name": "stdout",
     "output_type": "stream",
     "text": [
      "average: 0.9998702403517342\n",
      "min: 0.9997048967447011\n",
      "max: 0.9998920911084009\n"
     ]
    }
   ],
   "source": [
    "results = []\n",
    "\n",
    "for i in range(100):\n",
    "    X_train, X_test, y_train, y_test = train_test_split(windows_pd, classification_pd, random_state=i)\n",
    "    results.append(rf_model.score(X_test, y_test))\n",
    "\n",
    "print(\"average:\", np.mean(results))\n",
    "print(\"min:\", np.min(results))\n",
    "print(\"max:\", np.max(results))"
   ]
  },
  {
   "cell_type": "markdown",
   "metadata": {},
   "source": [
    "**Let's try to create dataset full of ecg siganls with defects**"
   ]
  },
  {
   "cell_type": "code",
   "execution_count": 18,
   "metadata": {},
   "outputs": [
    {
     "name": "stdout",
     "output_type": "stream",
     "text": [
      "1071632\n"
     ]
    }
   ],
   "source": [
    "only_bad_window = []\n",
    "for i in range(len(windows)):\n",
    "    if classification[i] == 1:\n",
    "        only_bad_window.append(windows[i])\n",
    "\n",
    "only_bad_window = pd.DataFrame(only_bad_window)\n",
    "\n",
    "print(len(only_bad_window))"
   ]
  },
  {
   "cell_type": "code",
   "execution_count": 19,
   "metadata": {},
   "outputs": [
    {
     "name": "stdout",
     "output_type": "stream",
     "text": [
      "0.9955833719037879\n"
     ]
    }
   ],
   "source": [
    "print(\n",
    "    len([i for i in rf_model.predict(only_bad_window) if i == 1]) / len(only_bad_window)\n",
    ")\n"
   ]
  },
  {
   "cell_type": "markdown",
   "metadata": {},
   "source": [
    "**Let's try to create dataset full of ecg siganls without defects**"
   ]
  },
  {
   "cell_type": "code",
   "execution_count": 20,
   "metadata": {},
   "outputs": [
    {
     "name": "stdout",
     "output_type": "stream",
     "text": [
      "1222950\n"
     ]
    }
   ],
   "source": [
    "only_good_window = []\n",
    "for i in range(len(windows)):\n",
    "    if classification[i] == 0:\n",
    "        only_good_window.append(windows[i])\n",
    "\n",
    "only_good_window = pd.DataFrame(only_good_window)\n",
    "\n",
    "print(len(only_good_window))"
   ]
  },
  {
   "cell_type": "code",
   "execution_count": 21,
   "metadata": {},
   "outputs": [
    {
     "name": "stdout",
     "output_type": "stream",
     "text": [
      "0.9980015536203443\n"
     ]
    }
   ],
   "source": [
    "print(\n",
    "    len([i for i in rf_model.predict(only_good_window) if i == 0]) / len(only_good_window)\n",
    ")"
   ]
  },
  {
   "cell_type": "markdown",
   "metadata": {},
   "source": [
    "**Check all ecg signals at once**"
   ]
  },
  {
   "cell_type": "code",
   "execution_count": 22,
   "metadata": {},
   "outputs": [
    {
     "name": "stdout",
     "output_type": "stream",
     "text": [
      "0.9998726263213067\n"
     ]
    }
   ],
   "source": [
    "print(rf_model.score(windows_pd, classification_pd))"
   ]
  }
 ],
 "metadata": {
  "interpreter": {
   "hash": "aee8b7b246df8f9039afb4144a1f6fd8d2ca17a180786b69acc140d282b71a49"
  },
  "kernelspec": {
   "display_name": "Python 3 (ipykernel)",
   "language": "python",
   "name": "python3"
  },
  "language_info": {
   "codemirror_mode": {
    "name": "ipython",
    "version": 3
   },
   "file_extension": ".py",
   "mimetype": "text/x-python",
   "name": "python",
   "nbconvert_exporter": "python",
   "pygments_lexer": "ipython3",
   "version": "3.9.10"
  }
 },
 "nbformat": 4,
 "nbformat_minor": 2
}
