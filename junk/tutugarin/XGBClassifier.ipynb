{
 "cells": [
  {
   "cell_type": "code",
   "execution_count": 1,
   "metadata": {},
   "outputs": [],
   "source": [
    "import sys\n",
    "import numpy as np\n",
    "import pickle\n",
    "import logging\n",
    "\n",
    "sys.path.append('../../analyse')\n",
    "sys.path.append('../../')\n",
    "\n",
    "from analyse.utils import download_db as ddb\n",
    "from analyse.utils.global_config import CONFIG\n",
    "\n",
    "logging.basicConfig(\n",
    "    filename='run-logs.log', \n",
    "    encoding='utf-8', \n",
    "    format='%(asctime)s %(levelname)s: %(message)s',\n",
    "    level=logging.DEBUG, \n",
    "    filemode='w'\n",
    ")"
   ]
  },
  {
   "cell_type": "markdown",
   "metadata": {},
   "source": [
    "# Download data and preprocess it"
   ]
  },
  {
   "cell_type": "code",
   "execution_count": 2,
   "metadata": {},
   "outputs": [],
   "source": [
    "signals = ddb.get_all_signals()"
   ]
  },
  {
   "cell_type": "code",
   "execution_count": 3,
   "metadata": {},
   "outputs": [
    {
     "name": "stdout",
     "output_type": "stream",
     "text": [
      "2432220\n"
     ]
    }
   ],
   "source": [
    "windows = []\n",
    "classification = []\n",
    "for sig in signals:\n",
    "    for window in sig.windows:\n",
    "        metrics, has_defect = window.get_data()\n",
    "        windows.append(metrics)\n",
    "        classification.append(has_defect)\n",
    "print(len(windows))"
   ]
  },
  {
   "cell_type": "markdown",
   "metadata": {},
   "source": [
    "# Machine learning using Gradient Boosting"
   ]
  },
  {
   "cell_type": "code",
   "execution_count": 4,
   "metadata": {},
   "outputs": [
    {
     "name": "stdout",
     "output_type": "stream",
     "text": [
      "1.0\n"
     ]
    }
   ],
   "source": [
    "from sklearn.model_selection import train_test_split\n",
    "\n",
    "import pandas as pd\n",
    "\n",
    "\n",
    "windows_pd = pd.DataFrame(windows)\n",
    "classification_pd = pd.DataFrame(classification)\n",
    "\n",
    "X_train, X_test, y_train, y_test = train_test_split(windows_pd, classification_pd, train_size=0.5, random_state=42)\n",
    "\n",
    "print(len(X_train) / len(X_test))\n"
   ]
  },
  {
   "cell_type": "code",
   "execution_count": 5,
   "metadata": {},
   "outputs": [
    {
     "data": {
      "text/html": [
       "<div>\n",
       "<style scoped>\n",
       "    .dataframe tbody tr th:only-of-type {\n",
       "        vertical-align: middle;\n",
       "    }\n",
       "\n",
       "    .dataframe tbody tr th {\n",
       "        vertical-align: top;\n",
       "    }\n",
       "\n",
       "    .dataframe thead th {\n",
       "        text-align: right;\n",
       "    }\n",
       "</style>\n",
       "<table border=\"1\" class=\"dataframe\">\n",
       "  <thead>\n",
       "    <tr style=\"text-align: right;\">\n",
       "      <th></th>\n",
       "      <th>median</th>\n",
       "      <th>mean</th>\n",
       "      <th>variance</th>\n",
       "      <th>mean_abs</th>\n",
       "      <th>max</th>\n",
       "      <th>min</th>\n",
       "      <th>sum</th>\n",
       "      <th>AAA</th>\n",
       "      <th>AAB</th>\n",
       "      <th>AAC</th>\n",
       "      <th>...</th>\n",
       "      <th>BCC</th>\n",
       "      <th>CAA</th>\n",
       "      <th>CAB</th>\n",
       "      <th>CAC</th>\n",
       "      <th>CBA</th>\n",
       "      <th>CBB</th>\n",
       "      <th>CBC</th>\n",
       "      <th>CCA</th>\n",
       "      <th>CCB</th>\n",
       "      <th>CCC</th>\n",
       "    </tr>\n",
       "  </thead>\n",
       "  <tbody>\n",
       "    <tr>\n",
       "      <th>0</th>\n",
       "      <td>-0.002326</td>\n",
       "      <td>0.055419</td>\n",
       "      <td>0.099190</td>\n",
       "      <td>0.222344</td>\n",
       "      <td>0.923729</td>\n",
       "      <td>-0.420833</td>\n",
       "      <td>1.662562</td>\n",
       "      <td>4</td>\n",
       "      <td>0</td>\n",
       "      <td>2</td>\n",
       "      <td>...</td>\n",
       "      <td>0</td>\n",
       "      <td>2</td>\n",
       "      <td>0</td>\n",
       "      <td>0</td>\n",
       "      <td>1</td>\n",
       "      <td>4</td>\n",
       "      <td>0</td>\n",
       "      <td>0</td>\n",
       "      <td>0</td>\n",
       "      <td>0</td>\n",
       "    </tr>\n",
       "    <tr>\n",
       "      <th>1</th>\n",
       "      <td>-0.004695</td>\n",
       "      <td>0.038917</td>\n",
       "      <td>0.093349</td>\n",
       "      <td>0.207399</td>\n",
       "      <td>0.923729</td>\n",
       "      <td>-0.420833</td>\n",
       "      <td>1.167500</td>\n",
       "      <td>5</td>\n",
       "      <td>0</td>\n",
       "      <td>2</td>\n",
       "      <td>...</td>\n",
       "      <td>0</td>\n",
       "      <td>2</td>\n",
       "      <td>0</td>\n",
       "      <td>0</td>\n",
       "      <td>1</td>\n",
       "      <td>4</td>\n",
       "      <td>0</td>\n",
       "      <td>0</td>\n",
       "      <td>0</td>\n",
       "      <td>0</td>\n",
       "    </tr>\n",
       "    <tr>\n",
       "      <th>2</th>\n",
       "      <td>-0.004695</td>\n",
       "      <td>0.040613</td>\n",
       "      <td>0.091894</td>\n",
       "      <td>0.205703</td>\n",
       "      <td>0.923729</td>\n",
       "      <td>-0.420833</td>\n",
       "      <td>1.218393</td>\n",
       "      <td>5</td>\n",
       "      <td>0</td>\n",
       "      <td>3</td>\n",
       "      <td>...</td>\n",
       "      <td>0</td>\n",
       "      <td>2</td>\n",
       "      <td>0</td>\n",
       "      <td>0</td>\n",
       "      <td>1</td>\n",
       "      <td>3</td>\n",
       "      <td>0</td>\n",
       "      <td>0</td>\n",
       "      <td>0</td>\n",
       "      <td>0</td>\n",
       "    </tr>\n",
       "    <tr>\n",
       "      <th>3</th>\n",
       "      <td>-0.004695</td>\n",
       "      <td>0.038467</td>\n",
       "      <td>0.091732</td>\n",
       "      <td>0.203557</td>\n",
       "      <td>0.923729</td>\n",
       "      <td>-0.420833</td>\n",
       "      <td>1.154017</td>\n",
       "      <td>5</td>\n",
       "      <td>0</td>\n",
       "      <td>3</td>\n",
       "      <td>...</td>\n",
       "      <td>0</td>\n",
       "      <td>2</td>\n",
       "      <td>0</td>\n",
       "      <td>0</td>\n",
       "      <td>1</td>\n",
       "      <td>3</td>\n",
       "      <td>0</td>\n",
       "      <td>0</td>\n",
       "      <td>0</td>\n",
       "      <td>0</td>\n",
       "    </tr>\n",
       "    <tr>\n",
       "      <th>4</th>\n",
       "      <td>-0.004785</td>\n",
       "      <td>0.015771</td>\n",
       "      <td>0.082734</td>\n",
       "      <td>0.188534</td>\n",
       "      <td>0.923729</td>\n",
       "      <td>-0.420833</td>\n",
       "      <td>0.473120</td>\n",
       "      <td>5</td>\n",
       "      <td>0</td>\n",
       "      <td>3</td>\n",
       "      <td>...</td>\n",
       "      <td>0</td>\n",
       "      <td>2</td>\n",
       "      <td>0</td>\n",
       "      <td>1</td>\n",
       "      <td>1</td>\n",
       "      <td>3</td>\n",
       "      <td>0</td>\n",
       "      <td>0</td>\n",
       "      <td>0</td>\n",
       "      <td>0</td>\n",
       "    </tr>\n",
       "    <tr>\n",
       "      <th>...</th>\n",
       "      <td>...</td>\n",
       "      <td>...</td>\n",
       "      <td>...</td>\n",
       "      <td>...</td>\n",
       "      <td>...</td>\n",
       "      <td>...</td>\n",
       "      <td>...</td>\n",
       "      <td>...</td>\n",
       "      <td>...</td>\n",
       "      <td>...</td>\n",
       "      <td>...</td>\n",
       "      <td>...</td>\n",
       "      <td>...</td>\n",
       "      <td>...</td>\n",
       "      <td>...</td>\n",
       "      <td>...</td>\n",
       "      <td>...</td>\n",
       "      <td>...</td>\n",
       "      <td>...</td>\n",
       "      <td>...</td>\n",
       "      <td>...</td>\n",
       "    </tr>\n",
       "    <tr>\n",
       "      <th>2432215</th>\n",
       "      <td>0.029740</td>\n",
       "      <td>0.144267</td>\n",
       "      <td>0.373776</td>\n",
       "      <td>0.458281</td>\n",
       "      <td>1.949367</td>\n",
       "      <td>-0.658747</td>\n",
       "      <td>4.328006</td>\n",
       "      <td>0</td>\n",
       "      <td>0</td>\n",
       "      <td>0</td>\n",
       "      <td>...</td>\n",
       "      <td>3</td>\n",
       "      <td>0</td>\n",
       "      <td>0</td>\n",
       "      <td>0</td>\n",
       "      <td>0</td>\n",
       "      <td>4</td>\n",
       "      <td>4</td>\n",
       "      <td>0</td>\n",
       "      <td>5</td>\n",
       "      <td>0</td>\n",
       "    </tr>\n",
       "    <tr>\n",
       "      <th>2432216</th>\n",
       "      <td>-0.048210</td>\n",
       "      <td>0.124958</td>\n",
       "      <td>0.378138</td>\n",
       "      <td>0.456837</td>\n",
       "      <td>1.949367</td>\n",
       "      <td>-0.658747</td>\n",
       "      <td>3.748738</td>\n",
       "      <td>0</td>\n",
       "      <td>0</td>\n",
       "      <td>0</td>\n",
       "      <td>...</td>\n",
       "      <td>2</td>\n",
       "      <td>0</td>\n",
       "      <td>0</td>\n",
       "      <td>0</td>\n",
       "      <td>0</td>\n",
       "      <td>4</td>\n",
       "      <td>5</td>\n",
       "      <td>0</td>\n",
       "      <td>5</td>\n",
       "      <td>0</td>\n",
       "    </tr>\n",
       "    <tr>\n",
       "      <th>2432217</th>\n",
       "      <td>0.029740</td>\n",
       "      <td>0.153716</td>\n",
       "      <td>0.374756</td>\n",
       "      <td>0.462206</td>\n",
       "      <td>1.949367</td>\n",
       "      <td>-0.658747</td>\n",
       "      <td>4.611483</td>\n",
       "      <td>0</td>\n",
       "      <td>0</td>\n",
       "      <td>0</td>\n",
       "      <td>...</td>\n",
       "      <td>2</td>\n",
       "      <td>0</td>\n",
       "      <td>0</td>\n",
       "      <td>0</td>\n",
       "      <td>0</td>\n",
       "      <td>4</td>\n",
       "      <td>5</td>\n",
       "      <td>0</td>\n",
       "      <td>4</td>\n",
       "      <td>0</td>\n",
       "    </tr>\n",
       "    <tr>\n",
       "      <th>2432218</th>\n",
       "      <td>0.029740</td>\n",
       "      <td>0.152094</td>\n",
       "      <td>0.376591</td>\n",
       "      <td>0.463828</td>\n",
       "      <td>1.949367</td>\n",
       "      <td>-0.658747</td>\n",
       "      <td>4.562824</td>\n",
       "      <td>0</td>\n",
       "      <td>0</td>\n",
       "      <td>0</td>\n",
       "      <td>...</td>\n",
       "      <td>2</td>\n",
       "      <td>0</td>\n",
       "      <td>0</td>\n",
       "      <td>0</td>\n",
       "      <td>0</td>\n",
       "      <td>4</td>\n",
       "      <td>5</td>\n",
       "      <td>0</td>\n",
       "      <td>4</td>\n",
       "      <td>0</td>\n",
       "    </tr>\n",
       "    <tr>\n",
       "      <th>2432219</th>\n",
       "      <td>0.029740</td>\n",
       "      <td>0.107266</td>\n",
       "      <td>0.318526</td>\n",
       "      <td>0.419000</td>\n",
       "      <td>1.949367</td>\n",
       "      <td>-0.658747</td>\n",
       "      <td>3.217984</td>\n",
       "      <td>0</td>\n",
       "      <td>0</td>\n",
       "      <td>0</td>\n",
       "      <td>...</td>\n",
       "      <td>2</td>\n",
       "      <td>0</td>\n",
       "      <td>0</td>\n",
       "      <td>0</td>\n",
       "      <td>0</td>\n",
       "      <td>4</td>\n",
       "      <td>5</td>\n",
       "      <td>0</td>\n",
       "      <td>4</td>\n",
       "      <td>0</td>\n",
       "    </tr>\n",
       "  </tbody>\n",
       "</table>\n",
       "<p>2432220 rows × 34 columns</p>\n",
       "</div>"
      ],
      "text/plain": [
       "           median      mean  variance  mean_abs       max       min       sum  \\\n",
       "0       -0.002326  0.055419  0.099190  0.222344  0.923729 -0.420833  1.662562   \n",
       "1       -0.004695  0.038917  0.093349  0.207399  0.923729 -0.420833  1.167500   \n",
       "2       -0.004695  0.040613  0.091894  0.205703  0.923729 -0.420833  1.218393   \n",
       "3       -0.004695  0.038467  0.091732  0.203557  0.923729 -0.420833  1.154017   \n",
       "4       -0.004785  0.015771  0.082734  0.188534  0.923729 -0.420833  0.473120   \n",
       "...           ...       ...       ...       ...       ...       ...       ...   \n",
       "2432215  0.029740  0.144267  0.373776  0.458281  1.949367 -0.658747  4.328006   \n",
       "2432216 -0.048210  0.124958  0.378138  0.456837  1.949367 -0.658747  3.748738   \n",
       "2432217  0.029740  0.153716  0.374756  0.462206  1.949367 -0.658747  4.611483   \n",
       "2432218  0.029740  0.152094  0.376591  0.463828  1.949367 -0.658747  4.562824   \n",
       "2432219  0.029740  0.107266  0.318526  0.419000  1.949367 -0.658747  3.217984   \n",
       "\n",
       "         AAA  AAB  AAC  ...  BCC  CAA  CAB  CAC  CBA  CBB  CBC  CCA  CCB  CCC  \n",
       "0          4    0    2  ...    0    2    0    0    1    4    0    0    0    0  \n",
       "1          5    0    2  ...    0    2    0    0    1    4    0    0    0    0  \n",
       "2          5    0    3  ...    0    2    0    0    1    3    0    0    0    0  \n",
       "3          5    0    3  ...    0    2    0    0    1    3    0    0    0    0  \n",
       "4          5    0    3  ...    0    2    0    1    1    3    0    0    0    0  \n",
       "...      ...  ...  ...  ...  ...  ...  ...  ...  ...  ...  ...  ...  ...  ...  \n",
       "2432215    0    0    0  ...    3    0    0    0    0    4    4    0    5    0  \n",
       "2432216    0    0    0  ...    2    0    0    0    0    4    5    0    5    0  \n",
       "2432217    0    0    0  ...    2    0    0    0    0    4    5    0    4    0  \n",
       "2432218    0    0    0  ...    2    0    0    0    0    4    5    0    4    0  \n",
       "2432219    0    0    0  ...    2    0    0    0    0    4    5    0    4    0  \n",
       "\n",
       "[2432220 rows x 34 columns]"
      ]
     },
     "execution_count": 5,
     "metadata": {},
     "output_type": "execute_result"
    }
   ],
   "source": [
    "windows_pd"
   ]
  },
  {
   "cell_type": "code",
   "execution_count": 6,
   "metadata": {},
   "outputs": [
    {
     "data": {
      "text/html": [
       "<div>\n",
       "<style scoped>\n",
       "    .dataframe tbody tr th:only-of-type {\n",
       "        vertical-align: middle;\n",
       "    }\n",
       "\n",
       "    .dataframe tbody tr th {\n",
       "        vertical-align: top;\n",
       "    }\n",
       "\n",
       "    .dataframe thead th {\n",
       "        text-align: right;\n",
       "    }\n",
       "</style>\n",
       "<table border=\"1\" class=\"dataframe\">\n",
       "  <thead>\n",
       "    <tr style=\"text-align: right;\">\n",
       "      <th></th>\n",
       "      <th>0</th>\n",
       "    </tr>\n",
       "  </thead>\n",
       "  <tbody>\n",
       "    <tr>\n",
       "      <th>0</th>\n",
       "      <td>False</td>\n",
       "    </tr>\n",
       "    <tr>\n",
       "      <th>1</th>\n",
       "      <td>False</td>\n",
       "    </tr>\n",
       "    <tr>\n",
       "      <th>2</th>\n",
       "      <td>False</td>\n",
       "    </tr>\n",
       "    <tr>\n",
       "      <th>3</th>\n",
       "      <td>False</td>\n",
       "    </tr>\n",
       "    <tr>\n",
       "      <th>4</th>\n",
       "      <td>False</td>\n",
       "    </tr>\n",
       "    <tr>\n",
       "      <th>...</th>\n",
       "      <td>...</td>\n",
       "    </tr>\n",
       "    <tr>\n",
       "      <th>2432215</th>\n",
       "      <td>True</td>\n",
       "    </tr>\n",
       "    <tr>\n",
       "      <th>2432216</th>\n",
       "      <td>True</td>\n",
       "    </tr>\n",
       "    <tr>\n",
       "      <th>2432217</th>\n",
       "      <td>True</td>\n",
       "    </tr>\n",
       "    <tr>\n",
       "      <th>2432218</th>\n",
       "      <td>True</td>\n",
       "    </tr>\n",
       "    <tr>\n",
       "      <th>2432219</th>\n",
       "      <td>True</td>\n",
       "    </tr>\n",
       "  </tbody>\n",
       "</table>\n",
       "<p>2432220 rows × 1 columns</p>\n",
       "</div>"
      ],
      "text/plain": [
       "             0\n",
       "0        False\n",
       "1        False\n",
       "2        False\n",
       "3        False\n",
       "4        False\n",
       "...        ...\n",
       "2432215   True\n",
       "2432216   True\n",
       "2432217   True\n",
       "2432218   True\n",
       "2432219   True\n",
       "\n",
       "[2432220 rows x 1 columns]"
      ]
     },
     "execution_count": 6,
     "metadata": {},
     "output_type": "execute_result"
    }
   ],
   "source": [
    "classification_pd"
   ]
  },
  {
   "cell_type": "code",
   "execution_count": 7,
   "metadata": {},
   "outputs": [
    {
     "name": "stdout",
     "output_type": "stream",
     "text": [
      "Fitting 5 folds for each of 8 candidates, totalling 40 fits\n",
      "[CV 4/5] END eta=0.15, max_depth=12, n_estimators=200, verbosity=0;, score=0.998 total time=42.7min\n",
      "[CV 1/5] END eta=0.15, max_depth=12, n_estimators=200, verbosity=0;, score=0.998 total time=42.7min\n",
      "[CV 5/5] END eta=0.15, max_depth=12, n_estimators=200, verbosity=0;, score=0.998 total time=42.7min\n",
      "[CV 3/5] END eta=0.15, max_depth=12, n_estimators=200, verbosity=0;, score=0.998 total time=42.8min\n",
      "[CV 2/5] END eta=0.15, max_depth=12, n_estimators=200, verbosity=0;, score=0.998 total time=42.9min\n",
      "[CV 2/5] END eta=0.15, max_depth=12, n_estimators=250, verbosity=0;, score=0.998 total time=52.5min\n",
      "[CV 3/5] END eta=0.15, max_depth=12, n_estimators=250, verbosity=0;, score=0.999 total time=52.6min\n",
      "[CV 1/5] END eta=0.15, max_depth=12, n_estimators=250, verbosity=0;, score=0.999 total time=52.6min\n",
      "[CV 5/5] END eta=0.15, max_depth=12, n_estimators=250, verbosity=0;, score=0.998 total time=50.7min\n",
      "[CV 4/5] END eta=0.15, max_depth=12, n_estimators=250, verbosity=0;, score=0.999 total time=50.8min\n",
      "[CV 1/5] END eta=0.15, max_depth=16, n_estimators=200, verbosity=0;, score=0.999 total time=55.7min\n",
      "[CV 2/5] END eta=0.15, max_depth=16, n_estimators=200, verbosity=0;, score=0.999 total time=55.6min\n",
      "[CV 3/5] END eta=0.15, max_depth=16, n_estimators=200, verbosity=0;, score=0.999 total time=55.9min\n",
      "[CV 4/5] END eta=0.15, max_depth=16, n_estimators=200, verbosity=0;, score=0.999 total time=55.2min\n",
      "[CV 5/5] END eta=0.15, max_depth=16, n_estimators=200, verbosity=0;, score=0.999 total time=55.4min\n",
      "[CV 1/5] END eta=0.15, max_depth=16, n_estimators=250, verbosity=0;, score=0.999 total time=69.0min\n",
      "[CV 1/5] END eta=0.3, max_depth=12, n_estimators=200, verbosity=0;, score=0.999 total time=40.0min\n",
      "[CV 2/5] END eta=0.3, max_depth=12, n_estimators=200, verbosity=0;, score=0.999 total time=40.2min\n",
      "[CV 3/5] END eta=0.3, max_depth=12, n_estimators=200, verbosity=0;, score=0.999 total time=40.2min\n",
      "[CV 2/5] END eta=0.15, max_depth=16, n_estimators=250, verbosity=0;, score=0.999 total time=68.5min\n",
      "[CV 4/5] END eta=0.3, max_depth=12, n_estimators=200, verbosity=0;, score=0.999 total time=40.5min\n",
      "[CV 3/5] END eta=0.15, max_depth=16, n_estimators=250, verbosity=0;, score=0.999 total time=68.9min\n",
      "[CV 5/5] END eta=0.15, max_depth=16, n_estimators=250, verbosity=0;, score=0.999 total time=68.5min\n",
      "[CV 4/5] END eta=0.15, max_depth=16, n_estimators=250, verbosity=0;, score=0.999 total time=68.6min\n",
      "[CV 5/5] END eta=0.3, max_depth=12, n_estimators=200, verbosity=0;, score=0.999 total time=40.4min\n",
      "[CV 1/5] END eta=0.3, max_depth=12, n_estimators=250, verbosity=0;, score=0.999 total time=50.5min\n",
      "[CV 2/5] END eta=0.3, max_depth=12, n_estimators=250, verbosity=0;, score=0.999 total time=50.4min\n",
      "[CV 3/5] END eta=0.3, max_depth=12, n_estimators=250, verbosity=0;, score=0.999 total time=50.5min\n",
      "[CV 4/5] END eta=0.3, max_depth=12, n_estimators=250, verbosity=0;, score=0.999 total time=50.3min\n",
      "[CV 5/5] END eta=0.3, max_depth=12, n_estimators=250, verbosity=0;, score=0.999 total time=50.5min\n",
      "[CV 1/5] END eta=0.3, max_depth=16, n_estimators=200, verbosity=0;, score=0.999 total time=54.3min\n",
      "[CV 2/5] END eta=0.3, max_depth=16, n_estimators=200, verbosity=0;, score=0.999 total time=54.3min\n",
      "[CV 3/5] END eta=0.3, max_depth=16, n_estimators=200, verbosity=0;, score=0.999 total time=54.0min\n",
      "[CV 4/5] END eta=0.3, max_depth=16, n_estimators=200, verbosity=0;, score=0.999 total time=48.3min\n",
      "[CV 5/5] END eta=0.3, max_depth=16, n_estimators=200, verbosity=0;, score=0.999 total time=48.1min\n",
      "[CV 2/5] END eta=0.3, max_depth=16, n_estimators=250, verbosity=0;, score=0.999 total time=45.3min\n",
      "[CV 1/5] END eta=0.3, max_depth=16, n_estimators=250, verbosity=0;, score=0.999 total time=45.5min\n",
      "[CV 3/5] END eta=0.3, max_depth=16, n_estimators=250, verbosity=0;, score=0.999 total time=45.2min\n",
      "[CV 4/5] END eta=0.3, max_depth=16, n_estimators=250, verbosity=0;, score=0.999 total time=39.2min\n",
      "[CV 5/5] END eta=0.3, max_depth=16, n_estimators=250, verbosity=0;, score=0.999 total time=39.2min\n"
     ]
    }
   ],
   "source": [
    "from sklearn.model_selection import GridSearchCV\n",
    "from xgboost import XGBClassifier\n",
    "\n",
    "classifier = GridSearchCV(\n",
    "    estimator=XGBClassifier(),\n",
    "    param_grid=CONFIG.get(\"est_params\"),\n",
    "    n_jobs=-1,\n",
    "    scoring='roc_auc',\n",
    "    verbose=3,\n",
    "    refit=True\n",
    ")\n",
    "model = classifier.fit(X_train, y_train)"
   ]
  },
  {
   "cell_type": "markdown",
   "metadata": {},
   "source": [
    "# TESTS"
   ]
  },
  {
   "cell_type": "markdown",
   "metadata": {},
   "source": [
    "**Check test dataset**"
   ]
  },
  {
   "cell_type": "code",
   "execution_count": 8,
   "metadata": {},
   "outputs": [
    {
     "name": "stdout",
     "output_type": "stream",
     "text": [
      "0.9993620588906265\n"
     ]
    }
   ],
   "source": [
    "print(model.score(X_test, y_test))"
   ]
  },
  {
   "cell_type": "markdown",
   "metadata": {},
   "source": [
    "**Create some more datasets for testing and get mean**"
   ]
  },
  {
   "cell_type": "code",
   "execution_count": 9,
   "metadata": {},
   "outputs": [
    {
     "name": "stdout",
     "output_type": "stream",
     "text": [
      "average: 0.9997302147602533\n",
      "min: 0.9993765581072673\n",
      "max: 0.9997560368324663\n"
     ]
    }
   ],
   "source": [
    "results = []\n",
    "\n",
    "for i in range(100):\n",
    "    X_train, X_test, y_train, y_test = train_test_split(windows_pd, classification_pd, random_state=i)\n",
    "    results.append(model.score(X_test, y_test))\n",
    "\n",
    "print(\"average:\", np.mean(results))\n",
    "print(\"min:\", np.min(results))\n",
    "print(\"max:\", np.max(results))"
   ]
  },
  {
   "cell_type": "code",
   "execution_count": 10,
   "metadata": {},
   "outputs": [],
   "source": [
    "mode_file_name = \"../../analyse/models/XGBClassifier.pickle\" \n",
    " \n",
    "with open(mode_file_name, 'wb') as bin_file:\n",
    "    pickle.dump(\n",
    "        model,\n",
    "        file=bin_file,\n",
    "        protocol=pickle.HIGHEST_PROTOCOL\n",
    "    )"
   ]
  },
  {
   "cell_type": "markdown",
   "metadata": {},
   "source": [
    "**Let's try to create dataset full of ecg siganls with defects**"
   ]
  },
  {
   "cell_type": "code",
   "execution_count": 11,
   "metadata": {},
   "outputs": [
    {
     "name": "stdout",
     "output_type": "stream",
     "text": [
      "1170323\n"
     ]
    }
   ],
   "source": [
    "only_bad_window = []\n",
    "for i in range(len(windows)):\n",
    "    if classification[i] == 1:\n",
    "        only_bad_window.append(windows[i])\n",
    "\n",
    "only_bad_window = pd.DataFrame(only_bad_window)\n",
    "\n",
    "print(len(only_bad_window))"
   ]
  },
  {
   "cell_type": "code",
   "execution_count": 12,
   "metadata": {},
   "outputs": [
    {
     "name": "stdout",
     "output_type": "stream",
     "text": [
      "0.9939973836282804\n"
     ]
    }
   ],
   "source": [
    "print(\n",
    "    len([i for i in model.predict(only_bad_window) if i == 1]) / len(only_bad_window)\n",
    ")\n"
   ]
  },
  {
   "cell_type": "markdown",
   "metadata": {},
   "source": [
    "**Let's try to create dataset full of ecg siganls without defects**"
   ]
  },
  {
   "cell_type": "code",
   "execution_count": 13,
   "metadata": {},
   "outputs": [
    {
     "name": "stdout",
     "output_type": "stream",
     "text": [
      "1261897\n"
     ]
    }
   ],
   "source": [
    "only_good_window = []\n",
    "for i in range(len(windows)):\n",
    "    if classification[i] == 0:\n",
    "        only_good_window.append(windows[i])\n",
    "\n",
    "only_good_window = pd.DataFrame(only_good_window)\n",
    "\n",
    "print(len(only_good_window))"
   ]
  },
  {
   "cell_type": "code",
   "execution_count": 14,
   "metadata": {},
   "outputs": [
    {
     "name": "stdout",
     "output_type": "stream",
     "text": [
      "0.9970243213194104\n"
     ]
    }
   ],
   "source": [
    "print(\n",
    "    len([i for i in model.predict(only_good_window) if i == 0]) / len(only_good_window)\n",
    ")"
   ]
  },
  {
   "cell_type": "markdown",
   "metadata": {},
   "source": [
    "**Check all ecg signals at once**"
   ]
  },
  {
   "cell_type": "code",
   "execution_count": 15,
   "metadata": {},
   "outputs": [
    {
     "name": "stdout",
     "output_type": "stream",
     "text": [
      "0.9997324742570611\n"
     ]
    }
   ],
   "source": [
    "print(model.score(windows_pd, classification_pd))"
   ]
  }
 ],
 "metadata": {
  "interpreter": {
   "hash": "aee8b7b246df8f9039afb4144a1f6fd8d2ca17a180786b69acc140d282b71a49"
  },
  "kernelspec": {
   "display_name": "Python 3 (ipykernel)",
   "language": "python",
   "name": "python3"
  },
  "language_info": {
   "codemirror_mode": {
    "name": "ipython",
    "version": 3
   },
   "file_extension": ".py",
   "mimetype": "text/x-python",
   "name": "python",
   "nbconvert_exporter": "python",
   "pygments_lexer": "ipython3",
   "version": "3.9.10"
  }
 },
 "nbformat": 4,
 "nbformat_minor": 2
}
