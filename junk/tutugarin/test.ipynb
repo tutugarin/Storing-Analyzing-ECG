{
 "cells": [
  {
   "cell_type": "code",
   "execution_count": 1,
   "metadata": {},
   "outputs": [],
   "source": [
    "import sys\n",
    "import numpy as np\n",
    "import pickle\n",
    "import logging\n",
    "import wfdb\n",
    "\n",
    "sys.path.append('../../analyse')\n",
    "sys.path.append('../../')\n",
    "\n",
    "from analyse.utils import download_db as ddb\n",
    "from analyse.utils.global_config import CONFIG\n",
    "\n",
    "logging.basicConfig(\n",
    "    filename='run-logs.log', \n",
    "    encoding='utf-8', \n",
    "    format='%(asctime)s %(levelname)s: %(message)s',\n",
    "    level=logging.DEBUG, \n",
    "    filemode='w'\n",
    ")"
   ]
  },
  {
   "cell_type": "code",
   "execution_count": 2,
   "metadata": {},
   "outputs": [],
   "source": [
    "url = \"https://www.physionet.org/static/published-projects/ltdb/mit-bih-long-term-ecg-database-1.0.0.zip\"\n",
    "name = \"MIT-BIH-LongTerm-ECG-Database\"\n",
    "\n",
    "db_path = ddb.get_db(url, name, \"../../analyse/data/\")\n",
    "\n",
    "signals = ddb.get_signals(db_path, reload=False)"
   ]
  },
  {
   "cell_type": "code",
   "execution_count": null,
   "metadata": {},
   "outputs": [],
   "source": [
    "path = \"../../analyse/data/MIT-BIH-LongTerm-ECG-Database\"\n",
    "all_records = f'{path}/RECORDS'\n",
    "with open(all_records, encoding='UTF-8') as file:\n",
    "    for rec in file:\n",
    "        rec = rec.replace('\\n', '')\n",
    "        info = wfdb.rdann(f\"{path}/{rec}\", 'atr')\n",
    "        print(f\"{rec}: {info.__dict__['aux_note']}\")\n",
    "        print(f\"{rec}: {info.__dict__['sample']}\\n\")"
   ]
  }
 ],
 "metadata": {
  "interpreter": {
   "hash": "aee8b7b246df8f9039afb4144a1f6fd8d2ca17a180786b69acc140d282b71a49"
  },
  "kernelspec": {
   "display_name": "Python 3.10.0 64-bit",
   "language": "python",
   "name": "python3"
  },
  "language_info": {
   "codemirror_mode": {
    "name": "ipython",
    "version": 3
   },
   "file_extension": ".py",
   "mimetype": "text/x-python",
   "name": "python",
   "nbconvert_exporter": "python",
   "pygments_lexer": "ipython3",
   "version": "3.10.0"
  },
  "orig_nbformat": 4
 },
 "nbformat": 4,
 "nbformat_minor": 2
}
