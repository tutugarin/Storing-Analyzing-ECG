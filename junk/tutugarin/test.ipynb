{
 "cells": [
  {
   "cell_type": "code",
   "execution_count": 1,
   "metadata": {},
   "outputs": [
    {
     "data": {
      "text/plain": [
       "<analyse.utils.global_config.GlobalConfig at 0x108e23f10>"
      ]
     },
     "execution_count": 1,
     "metadata": {},
     "output_type": "execute_result"
    }
   ],
   "source": [
    "import sys\n",
    "import wfdb\n",
    "import os\n",
    "import matplotlib.pyplot as plt\n",
    "from wfdb import processing \n",
    "import numpy as np\n",
    "import pickle\n",
    "import logging\n",
    "\n",
    "sys.path.append('../../analyse')\n",
    "sys.path.append('../../')\n",
    "\n",
    "from analyse.utils.download_db import (\n",
    "    get_signals,\n",
    "    get_db,\n",
    ")\n",
    "\n",
    "from analyse.utils.global_config import GlobalConfig\n",
    "\n",
    "logging.basicConfig(\n",
    "    filename='run-logs.log', \n",
    "    encoding='utf-8', \n",
    "    format='%(asctime)s %(levelname)s: %(message)s',\n",
    "    level=logging.DEBUG, \n",
    "    filemode='w'\n",
    ")\n",
    "GlobalConfig(r'../../analyse/config/params.json')"
   ]
  },
  {
   "cell_type": "code",
   "execution_count": 2,
   "metadata": {},
   "outputs": [],
   "source": [
    "url = \"https://physionet.org/static/published-projects/afdb/mit-bih-atrial-fibrillation-database-1.0.0.zip\"\n",
    "name = \"MIT-BIH-AtrialFibrillation\"\n",
    "\n",
    "db_path = get_db(url, name, \"../../analyse/data/\")\n",
    "\n",
    "signals = get_signals(db_path, reload=False)"
   ]
  },
  {
   "cell_type": "code",
   "execution_count": 3,
   "metadata": {},
   "outputs": [
    {
     "name": "stdout",
     "output_type": "stream",
     "text": [
      "2294582\n"
     ]
    }
   ],
   "source": [
    "windows = []\n",
    "classification = []\n",
    "for sig in signals:\n",
    "    for window in sig.windows:\n",
    "        metrics, has_defect = window.get_data()\n",
    "        windows.append(metrics)\n",
    "        classification.append(has_defect)\n",
    "print(len(windows))"
   ]
  },
  {
   "cell_type": "code",
   "execution_count": 4,
   "metadata": {},
   "outputs": [
    {
     "name": "stdout",
     "output_type": "stream",
     "text": [
      "{'median': -0.004695249641794352, 'mean': 0.03891665901297154, 'variance': 0.09334862334380883, 'mean_abs': 0.20739941875907825, 'max': 0.923728813559322, 'min': -0.4208333333333333, 'sum': 1.167499770389146, 'AAA': 5, 'AAB': 0, 'AAC': 2, 'ABA': 1, 'ABB': 0, 'ABC': 0, 'ACA': 1, 'ACB': 2, 'ACC': 0, 'BAA': 1, 'BAB': 1, 'BAC': 1, 'BBA': 1, 'BBB': 0, 'BBC': 3, 'BCA': 1, 'BCB': 2, 'BCC': 0, 'CAA': 2, 'CAB': 0, 'CAC': 0, 'CBA': 1, 'CBB': 4, 'CBC': 0, 'CCA': 0, 'CCB': 0, 'CCC': 0}\n"
     ]
    }
   ],
   "source": [
    "print(windows[1])"
   ]
  },
  {
   "cell_type": "code",
   "execution_count": 5,
   "metadata": {},
   "outputs": [
    {
     "name": "stdout",
     "output_type": "stream",
     "text": [
      "CBBCBBCAAAACAACBABACBBCBBAAAAA\n"
     ]
    }
   ],
   "source": [
    "print(''.join(signals[0].windows[1].alphabet))"
   ]
  },
  {
   "cell_type": "code",
   "execution_count": 6,
   "metadata": {},
   "outputs": [],
   "source": [
    "from sklearn.model_selection import train_test_split\n",
    "\n",
    "import pandas as pd\n",
    "\n",
    "\n",
    "windows_pd = pd.DataFrame(windows)\n",
    "classification_pd = pd.DataFrame(classification)\n",
    "\n",
    "X_train, X_test, y_train, y_test = train_test_split(windows_pd, classification_pd, random_state=0)\n"
   ]
  },
  {
   "cell_type": "code",
   "execution_count": 8,
   "metadata": {},
   "outputs": [],
   "source": [
    "from sklearn.ensemble import RandomForestClassifier\n",
    "from sklearn.model_selection import GridSearchCV\n",
    "from xgboost import XGBClassifier\n",
    "\n",
    "rf = GridSearchCV(\n",
    "    estimator=XGBClassifier(),\n",
    "    param_grid=GlobalConfig.get(\"est_params\"),\n",
    "    n_jobs=-1,\n",
    "    scoring='roc_auc',\n",
    "    verbose=3,\n",
    "    refit=True\n",
    ")"
   ]
  },
  {
   "cell_type": "code",
   "execution_count": 9,
   "metadata": {},
   "outputs": [
    {
     "name": "stdout",
     "output_type": "stream",
     "text": [
      "Fitting 5 folds for each of 18 candidates, totalling 90 fits\n",
      "[CV 2/5] END eta=0.05, max_depth=6, n_estimators=50, verbosity=0;, score=0.990 total time=16.7min\n",
      "[CV 3/5] END eta=0.05, max_depth=6, n_estimators=50, verbosity=0;, score=0.990 total time=16.7min\n",
      "[CV 4/5] END eta=0.05, max_depth=6, n_estimators=50, verbosity=0;, score=0.990 total time=16.7min\n",
      "[CV 1/5] END eta=0.05, max_depth=6, n_estimators=50, verbosity=0;, score=0.989 total time=17.0min\n",
      "[CV 5/5] END eta=0.05, max_depth=6, n_estimators=50, verbosity=0;, score=0.989 total time=17.1min\n",
      "[CV 3/5] END eta=0.05, max_depth=6, n_estimators=100, verbosity=0;, score=0.992 total time=31.0min\n",
      "[CV 2/5] END eta=0.05, max_depth=6, n_estimators=100, verbosity=0;, score=0.992 total time=31.3min\n",
      "[CV 1/5] END eta=0.05, max_depth=6, n_estimators=100, verbosity=0;, score=0.992 total time=31.3min\n",
      "[CV 4/5] END eta=0.05, max_depth=6, n_estimators=100, verbosity=0;, score=0.992 total time=29.5min\n",
      "[CV 5/5] END eta=0.05, max_depth=6, n_estimators=100, verbosity=0;, score=0.992 total time=29.5min\n",
      "[CV 1/5] END eta=0.05, max_depth=8, n_estimators=50, verbosity=0;, score=0.992 total time=22.7min\n",
      "[CV 1/5] END eta=0.05, max_depth=6, n_estimators=150, verbosity=0;, score=0.994 total time=44.1min\n",
      "[CV 2/5] END eta=0.05, max_depth=6, n_estimators=150, verbosity=0;, score=0.994 total time=44.2min\n",
      "[CV 3/5] END eta=0.05, max_depth=6, n_estimators=150, verbosity=0;, score=0.994 total time=44.1min\n",
      "[CV 2/5] END eta=0.05, max_depth=8, n_estimators=50, verbosity=0;, score=0.992 total time=22.5min\n",
      "[CV 3/5] END eta=0.05, max_depth=8, n_estimators=50, verbosity=0;, score=0.992 total time=22.9min\n",
      "[CV 4/5] END eta=0.05, max_depth=6, n_estimators=150, verbosity=0;, score=0.994 total time=44.4min\n",
      "[CV 5/5] END eta=0.05, max_depth=6, n_estimators=150, verbosity=0;, score=0.994 total time=44.5min\n",
      "[CV 4/5] END eta=0.05, max_depth=8, n_estimators=50, verbosity=0;, score=0.993 total time=21.9min\n",
      "[CV 5/5] END eta=0.05, max_depth=8, n_estimators=50, verbosity=0;, score=0.992 total time=19.2min\n",
      "[CV 2/5] END eta=0.05, max_depth=8, n_estimators=100, verbosity=0;, score=0.995 total time=32.3min\n",
      "[CV 1/5] END eta=0.05, max_depth=8, n_estimators=100, verbosity=0;, score=0.995 total time=32.6min\n",
      "[CV 3/5] END eta=0.05, max_depth=8, n_estimators=100, verbosity=0;, score=0.995 total time=30.0min\n",
      "[CV 4/5] END eta=0.05, max_depth=8, n_estimators=100, verbosity=0;, score=0.995 total time=29.9min\n",
      "[CV 5/5] END eta=0.05, max_depth=8, n_estimators=100, verbosity=0;, score=0.995 total time=27.8min\n",
      "[CV 1/5] END eta=0.15, max_depth=6, n_estimators=50, verbosity=0;, score=0.994 total time= 9.8min\n",
      "[CV 2/5] END eta=0.15, max_depth=6, n_estimators=50, verbosity=0;, score=0.994 total time= 9.7min\n",
      "[CV 3/5] END eta=0.15, max_depth=6, n_estimators=50, verbosity=0;, score=0.994 total time= 9.6min\n",
      "[CV 1/5] END eta=0.05, max_depth=8, n_estimators=150, verbosity=0;, score=0.996 total time=40.9min\n",
      "[CV 2/5] END eta=0.05, max_depth=8, n_estimators=150, verbosity=0;, score=0.996 total time=40.9min\n",
      "[CV 4/5] END eta=0.15, max_depth=6, n_estimators=50, verbosity=0;, score=0.994 total time= 9.4min\n",
      "[CV 5/5] END eta=0.15, max_depth=6, n_estimators=50, verbosity=0;, score=0.994 total time= 9.4min\n",
      "[CV 3/5] END eta=0.05, max_depth=8, n_estimators=150, verbosity=0;, score=0.997 total time=41.0min\n",
      "[CV 1/5] END eta=0.15, max_depth=6, n_estimators=100, verbosity=0;, score=0.996 total time=18.5min\n",
      "[CV 4/5] END eta=0.05, max_depth=8, n_estimators=150, verbosity=0;, score=0.996 total time=40.7min\n",
      "[CV 5/5] END eta=0.05, max_depth=8, n_estimators=150, verbosity=0;, score=0.996 total time=40.7min\n",
      "[CV 2/5] END eta=0.15, max_depth=6, n_estimators=100, verbosity=0;, score=0.996 total time=18.7min\n",
      "[CV 3/5] END eta=0.15, max_depth=6, n_estimators=100, verbosity=0;, score=0.996 total time=18.8min\n",
      "[CV 4/5] END eta=0.15, max_depth=6, n_estimators=100, verbosity=0;, score=0.996 total time=18.6min\n",
      "[CV 5/5] END eta=0.15, max_depth=6, n_estimators=100, verbosity=0;, score=0.995 total time=18.6min\n",
      "[CV 1/5] END eta=0.15, max_depth=6, n_estimators=150, verbosity=0;, score=0.996 total time=27.4min\n",
      "[CV 1/5] END eta=0.15, max_depth=8, n_estimators=50, verbosity=0;, score=0.996 total time=12.8min\n",
      "[CV 2/5] END eta=0.15, max_depth=8, n_estimators=50, verbosity=0;, score=0.996 total time=12.7min\n",
      "[CV 3/5] END eta=0.15, max_depth=8, n_estimators=50, verbosity=0;, score=0.996 total time=12.6min\n",
      "[CV 2/5] END eta=0.15, max_depth=6, n_estimators=150, verbosity=0;, score=0.996 total time=26.7min\n",
      "[CV 4/5] END eta=0.15, max_depth=8, n_estimators=50, verbosity=0;, score=0.996 total time=12.6min\n",
      "[CV 3/5] END eta=0.15, max_depth=6, n_estimators=150, verbosity=0;, score=0.997 total time=26.8min\n",
      "[CV 4/5] END eta=0.15, max_depth=6, n_estimators=150, verbosity=0;, score=0.996 total time=26.6min\n",
      "[CV 5/5] END eta=0.15, max_depth=8, n_estimators=50, verbosity=0;, score=0.996 total time=12.7min\n",
      "[CV 5/5] END eta=0.15, max_depth=6, n_estimators=150, verbosity=0;, score=0.996 total time=26.5min\n",
      "[CV 1/5] END eta=0.15, max_depth=8, n_estimators=100, verbosity=0;, score=0.998 total time=23.9min\n",
      "[CV 2/5] END eta=0.15, max_depth=8, n_estimators=100, verbosity=0;, score=0.998 total time=23.9min\n",
      "[CV 3/5] END eta=0.15, max_depth=8, n_estimators=100, verbosity=0;, score=0.998 total time=23.8min\n",
      "[CV 4/5] END eta=0.15, max_depth=8, n_estimators=100, verbosity=0;, score=0.998 total time=23.9min\n",
      "[CV 5/5] END eta=0.15, max_depth=8, n_estimators=100, verbosity=0;, score=0.998 total time=24.2min\n",
      "[CV 1/5] END eta=0.3, max_depth=6, n_estimators=50, verbosity=0;, score=0.995 total time= 9.0min\n",
      "[CV 2/5] END eta=0.3, max_depth=6, n_estimators=50, verbosity=0;, score=0.995 total time= 8.6min\n",
      "[CV 3/5] END eta=0.3, max_depth=6, n_estimators=50, verbosity=0;, score=0.995 total time= 8.6min\n",
      "[CV 2/5] END eta=0.15, max_depth=8, n_estimators=150, verbosity=0;, score=0.998 total time=35.1min\n",
      "[CV 1/5] END eta=0.15, max_depth=8, n_estimators=150, verbosity=0;, score=0.998 total time=35.3min\n",
      "[CV 3/5] END eta=0.15, max_depth=8, n_estimators=150, verbosity=0;, score=0.998 total time=35.3min\n",
      "[CV 4/5] END eta=0.3, max_depth=6, n_estimators=50, verbosity=0;, score=0.995 total time= 9.1min\n",
      "[CV 5/5] END eta=0.3, max_depth=6, n_estimators=50, verbosity=0;, score=0.995 total time= 9.2min\n",
      "[CV 5/5] END eta=0.15, max_depth=8, n_estimators=150, verbosity=0;, score=0.998 total time=36.0min\n",
      "[CV 4/5] END eta=0.15, max_depth=8, n_estimators=150, verbosity=0;, score=0.998 total time=36.1min\n",
      "[CV 1/5] END eta=0.3, max_depth=6, n_estimators=100, verbosity=0;, score=0.997 total time=17.6min\n",
      "[CV 2/5] END eta=0.3, max_depth=6, n_estimators=100, verbosity=0;, score=0.997 total time=17.6min\n",
      "[CV 3/5] END eta=0.3, max_depth=6, n_estimators=100, verbosity=0;, score=0.997 total time=17.7min\n",
      "[CV 4/5] END eta=0.3, max_depth=6, n_estimators=100, verbosity=0;, score=0.997 total time=17.6min\n",
      "[CV 5/5] END eta=0.3, max_depth=6, n_estimators=100, verbosity=0;, score=0.997 total time=17.3min\n",
      "[CV 1/5] END eta=0.3, max_depth=8, n_estimators=50, verbosity=0;, score=0.997 total time=12.0min\n",
      "[CV 2/5] END eta=0.3, max_depth=8, n_estimators=50, verbosity=0;, score=0.997 total time=12.1min\n",
      "[CV 1/5] END eta=0.3, max_depth=6, n_estimators=150, verbosity=0;, score=0.998 total time=25.6min\n",
      "[CV 3/5] END eta=0.3, max_depth=8, n_estimators=50, verbosity=0;, score=0.998 total time=12.3min\n",
      "[CV 2/5] END eta=0.3, max_depth=6, n_estimators=150, verbosity=0;, score=0.998 total time=26.0min\n",
      "[CV 3/5] END eta=0.3, max_depth=6, n_estimators=150, verbosity=0;, score=0.998 total time=26.1min\n",
      "[CV 4/5] END eta=0.3, max_depth=6, n_estimators=150, verbosity=0;, score=0.998 total time=26.3min\n",
      "[CV 4/5] END eta=0.3, max_depth=8, n_estimators=50, verbosity=0;, score=0.997 total time=12.7min\n",
      "[CV 5/5] END eta=0.3, max_depth=8, n_estimators=50, verbosity=0;, score=0.997 total time=12.8min\n",
      "[CV 5/5] END eta=0.3, max_depth=6, n_estimators=150, verbosity=0;, score=0.998 total time=26.3min\n",
      "[CV 1/5] END eta=0.3, max_depth=8, n_estimators=100, verbosity=0;, score=0.999 total time=24.7min\n",
      "[CV 2/5] END eta=0.3, max_depth=8, n_estimators=100, verbosity=0;, score=0.998 total time=24.6min\n",
      "[CV 3/5] END eta=0.3, max_depth=8, n_estimators=100, verbosity=0;, score=0.999 total time=25.2min\n",
      "[CV 4/5] END eta=0.3, max_depth=8, n_estimators=100, verbosity=0;, score=0.999 total time=25.0min\n",
      "[CV 5/5] END eta=0.3, max_depth=8, n_estimators=100, verbosity=0;, score=0.998 total time=24.3min\n",
      "[CV 1/5] END eta=0.3, max_depth=8, n_estimators=150, verbosity=0;, score=0.999 total time=30.9min\n",
      "[CV 2/5] END eta=0.3, max_depth=8, n_estimators=150, verbosity=0;, score=0.999 total time=30.2min\n",
      "[CV 3/5] END eta=0.3, max_depth=8, n_estimators=150, verbosity=0;, score=0.999 total time=29.9min\n",
      "[CV 4/5] END eta=0.3, max_depth=8, n_estimators=150, verbosity=0;, score=0.999 total time=20.3min\n",
      "[CV 5/5] END eta=0.3, max_depth=8, n_estimators=150, verbosity=0;, score=0.999 total time=19.2min\n"
     ]
    }
   ],
   "source": [
    "rf_model = rf.fit(X_train, y_train)\n"
   ]
  },
  {
   "cell_type": "code",
   "execution_count": 13,
   "metadata": {},
   "outputs": [
    {
     "name": "stdout",
     "output_type": "stream",
     "text": [
      "0.9990214641343784\n"
     ]
    }
   ],
   "source": [
    "print(rf_model.score(X_test, y_test))"
   ]
  },
  {
   "cell_type": "code",
   "execution_count": 17,
   "metadata": {},
   "outputs": [
    {
     "name": "stdout",
     "output_type": "stream",
     "text": [
      "0.999336115629704\n"
     ]
    }
   ],
   "source": [
    "results = []\n",
    "\n",
    "for i in range(100):\n",
    "    X_train, X_test, y_train, y_test = train_test_split(windows_pd, classification_pd, random_state=i)\n",
    "    results.append(rf_model.score(X_test, y_test))\n",
    "\n",
    "print(np.mean(results))"
   ]
  },
  {
   "cell_type": "code",
   "execution_count": 20,
   "metadata": {},
   "outputs": [
    {
     "name": "stdout",
     "output_type": "stream",
     "text": [
      "1071632\n"
     ]
    }
   ],
   "source": [
    "only_bad_window = []\n",
    "only_bad_classification = []\n",
    "for i in range(len(windows)):\n",
    "    if classification[i] == 1:\n",
    "        only_bad_window.append(windows[i])\n",
    "        only_bad_classification.append(1)\n",
    "\n",
    "only_bad_window = pd.DataFrame(only_bad_window)\n",
    "only_bad_classification = pd.DataFrame(only_bad_classification)\n",
    "\n",
    "print(len(only_bad_window))"
   ]
  },
  {
   "cell_type": "code",
   "execution_count": 26,
   "metadata": {},
   "outputs": [
    {
     "name": "stdout",
     "output_type": "stream",
     "text": [
      "0.9866241396300223\n"
     ]
    }
   ],
   "source": [
    "print(\n",
    "    len([i for i in rf_model.predict(only_bad_window) if i == 1]) / len(only_bad_window)\n",
    ")\n",
    "\n"
   ]
  },
  {
   "cell_type": "code",
   "execution_count": 27,
   "metadata": {},
   "outputs": [
    {
     "name": "stdout",
     "output_type": "stream",
     "text": [
      "1222950\n"
     ]
    }
   ],
   "source": [
    "only_good_window = []\n",
    "only_good_classification = []\n",
    "for i in range(len(windows)):\n",
    "    if classification[i] == 0:\n",
    "        only_good_window.append(windows[i])\n",
    "        only_good_classification.append(1)\n",
    "\n",
    "only_good_window = pd.DataFrame(only_good_window)\n",
    "only_good_classification = pd.DataFrame(only_good_classification)\n",
    "\n",
    "print(len(only_good_window))"
   ]
  },
  {
   "cell_type": "code",
   "execution_count": 29,
   "metadata": {},
   "outputs": [
    {
     "name": "stdout",
     "output_type": "stream",
     "text": [
      "0.9926750889243223\n"
     ]
    }
   ],
   "source": [
    "print(\n",
    "    len([i for i in rf_model.predict(only_good_window) if i == 0]) / len(only_good_window)\n",
    ")"
   ]
  },
  {
   "cell_type": "code",
   "execution_count": 12,
   "metadata": {},
   "outputs": [],
   "source": [
    "mode_file_name = \"model.pickle\" \n",
    " \n",
    "with open(mode_file_name, 'wb') as bin_file:\n",
    "    pickle.dump(\n",
    "        rf_model,\n",
    "        file=bin_file,\n",
    "        protocol=pickle.HIGHEST_PROTOCOL\n",
    "    )"
   ]
  }
 ],
 "metadata": {
  "interpreter": {
   "hash": "aee8b7b246df8f9039afb4144a1f6fd8d2ca17a180786b69acc140d282b71a49"
  },
  "kernelspec": {
   "display_name": "Python 3.10.0 64-bit",
   "language": "python",
   "name": "python3"
  },
  "language_info": {
   "codemirror_mode": {
    "name": "ipython",
    "version": 3
   },
   "file_extension": ".py",
   "mimetype": "text/x-python",
   "name": "python",
   "nbconvert_exporter": "python",
   "pygments_lexer": "ipython3",
   "version": "3.10.0"
  },
  "orig_nbformat": 4
 },
 "nbformat": 4,
 "nbformat_minor": 2
}
