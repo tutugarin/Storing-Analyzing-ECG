{
 "cells": [
  {
   "cell_type": "code",
   "execution_count": 1,
   "metadata": {},
   "outputs": [],
   "source": [
    "import sys\n",
    "import wfdb\n",
    "import os\n",
    "import matplotlib.pyplot as plt\n",
    "from wfdb import processing \n",
    "import numpy as np\n",
    "import pickle\n",
    "import logging\n",
    "\n",
    "sys.path.append('../../analyse')\n",
    "sys.path.append('../../')\n",
    "\n",
    "from analyse.utils.download_db import (\n",
    "    get_signals,\n",
    "    get_db,\n",
    ")\n",
    "\n",
    "from analyse.utils.global_config import GlobalConfig\n",
    "\n",
    "logging.basicConfig(\n",
    "    filename='run-logs.log', \n",
    "    encoding='utf-8', \n",
    "    format='%(asctime)s %(levelname)s: %(message)s',\n",
    "    level=logging.DEBUG, \n",
    "    filemode='w'\n",
    ")"
   ]
  },
  {
   "cell_type": "markdown",
   "metadata": {},
   "source": [
    "# Download data and preprocess it"
   ]
  },
  {
   "cell_type": "code",
   "execution_count": 2,
   "metadata": {},
   "outputs": [],
   "source": [
    "url = \"https://physionet.org/static/published-projects/afdb/mit-bih-atrial-fibrillation-database-1.0.0.zip\"\n",
    "name = \"MIT-BIH-AtrialFibrillation\"\n",
    "\n",
    "db_path = get_db(url, name, \"../../analyse/data/\")\n",
    "\n",
    "signals = get_signals(db_path, reload=False)"
   ]
  },
  {
   "cell_type": "code",
   "execution_count": null,
   "metadata": {},
   "outputs": [
    {
     "name": "stdout",
     "output_type": "stream",
     "text": [
      "2294582\n"
     ]
    }
   ],
   "source": [
    "windows = []\n",
    "classification = []\n",
    "for sig in signals:\n",
    "    for window in sig.windows:\n",
    "        metrics, has_defect = window.get_data()\n",
    "        windows.append(metrics)\n",
    "        classification.append(has_defect)\n",
    "print(len(windows))"
   ]
  },
  {
   "cell_type": "markdown",
   "metadata": {},
   "source": [
    "# Machine learning using Random Forest Classifier"
   ]
  },
  {
   "cell_type": "code",
   "execution_count": 6,
   "metadata": {},
   "outputs": [
    {
     "name": "stdout",
     "output_type": "stream",
     "text": [
      "2.9999965135292497\n"
     ]
    }
   ],
   "source": [
    "from sklearn.model_selection import train_test_split\n",
    "\n",
    "import pandas as pd\n",
    "\n",
    "\n",
    "windows_pd = pd.DataFrame(windows)\n",
    "classification_pd = pd.DataFrame(classification)\n",
    "\n",
    "X_train, X_test, y_train, y_test = train_test_split(windows_pd, classification_pd, random_state=0)\n",
    "\n",
    "print(len(X_train) / len(X_test))\n"
   ]
  },
  {
   "cell_type": "code",
   "execution_count": 7,
   "metadata": {},
   "outputs": [],
   "source": [
    "from sklearn.model_selection import GridSearchCV\n",
    "from sklearn.ensemble import RandomForestClassifier\n",
    "\n",
    "rf = GridSearchCV(\n",
    "    estimator=RandomForestClassifier(),\n",
    "    param_grid=GlobalConfig.get(\"rf_params\"),\n",
    "    n_jobs=-1,\n",
    "    scoring='roc_auc',\n",
    "    verbose=3,\n",
    "    refit=True\n",
    ")"
   ]
  },
  {
   "cell_type": "code",
   "execution_count": 8,
   "metadata": {},
   "outputs": [
    {
     "name": "stdout",
     "output_type": "stream",
     "text": [
      "Fitting 5 folds for each of 54 candidates, totalling 270 fits\n",
      "[CV 1/5] END bootstrap=True, max_depth=6, max_features=sqrt, n_estimators=50;, score=0.986 total time= 1.1min\n",
      "[CV 5/5] END bootstrap=True, max_depth=6, max_features=sqrt, n_estimators=50;, score=0.985 total time= 1.1min\n",
      "[CV 2/5] END bootstrap=True, max_depth=6, max_features=sqrt, n_estimators=50;, score=0.986 total time= 1.1min\n",
      "[CV 4/5] END bootstrap=True, max_depth=6, max_features=sqrt, n_estimators=50;, score=0.986 total time= 1.2min\n",
      "[CV 3/5] END bootstrap=True, max_depth=6, max_features=sqrt, n_estimators=50;, score=0.986 total time= 1.2min\n",
      "[CV 4/5] END bootstrap=True, max_depth=6, max_features=sqrt, n_estimators=100;, score=0.986 total time= 2.2min\n",
      "[CV 2/5] END bootstrap=True, max_depth=6, max_features=sqrt, n_estimators=100;, score=0.986 total time= 2.2min\n",
      "[CV 3/5] END bootstrap=True, max_depth=6, max_features=sqrt, n_estimators=100;, score=0.986 total time= 2.2min\n",
      "[CV 5/5] END bootstrap=True, max_depth=6, max_features=sqrt, n_estimators=100;, score=0.985 total time= 2.3min\n",
      "[CV 1/5] END bootstrap=True, max_depth=6, max_features=sqrt, n_estimators=100;, score=0.986 total time= 2.3min\n",
      "[CV 2/5] END bootstrap=True, max_depth=6, max_features=log2, n_estimators=50;, score=0.986 total time= 1.1min\n",
      "[CV 1/5] END bootstrap=True, max_depth=6, max_features=log2, n_estimators=50;, score=0.986 total time= 1.1min\n",
      "[CV 3/5] END bootstrap=True, max_depth=6, max_features=log2, n_estimators=50;, score=0.986 total time= 1.1min\n",
      "[CV 4/5] END bootstrap=True, max_depth=6, max_features=log2, n_estimators=50;, score=0.986 total time= 1.1min\n",
      "[CV 5/5] END bootstrap=True, max_depth=6, max_features=log2, n_estimators=50;, score=0.985 total time= 1.2min\n",
      "[CV 1/5] END bootstrap=True, max_depth=6, max_features=sqrt, n_estimators=150;, score=0.986 total time= 3.4min\n",
      "[CV 2/5] END bootstrap=True, max_depth=6, max_features=sqrt, n_estimators=150;, score=0.986 total time= 3.4min\n",
      "[CV 3/5] END bootstrap=True, max_depth=6, max_features=sqrt, n_estimators=150;, score=0.986 total time= 3.4min\n",
      "[CV 5/5] END bootstrap=True, max_depth=6, max_features=sqrt, n_estimators=150;, score=0.986 total time= 3.4min\n",
      "[CV 4/5] END bootstrap=True, max_depth=6, max_features=sqrt, n_estimators=150;, score=0.986 total time= 3.4min\n",
      "[CV 2/5] END bootstrap=True, max_depth=6, max_features=log2, n_estimators=100;, score=0.986 total time= 2.2min\n",
      "[CV 3/5] END bootstrap=True, max_depth=6, max_features=log2, n_estimators=100;, score=0.986 total time= 2.3min\n",
      "[CV 1/5] END bootstrap=True, max_depth=6, max_features=log2, n_estimators=100;, score=0.986 total time= 2.3min\n",
      "[CV 4/5] END bootstrap=True, max_depth=6, max_features=log2, n_estimators=100;, score=0.986 total time= 2.3min\n",
      "[CV 5/5] END bootstrap=True, max_depth=6, max_features=log2, n_estimators=100;, score=0.986 total time= 2.3min\n",
      "[CV 1/5] END bootstrap=True, max_depth=6, max_features=log2, n_estimators=150;, score=0.986 total time= 3.2min\n",
      "[CV 2/5] END bootstrap=True, max_depth=6, max_features=log2, n_estimators=150;, score=0.986 total time= 3.2min\n",
      "[CV 3/5] END bootstrap=True, max_depth=6, max_features=log2, n_estimators=150;, score=0.986 total time= 3.2min\n",
      "[CV 4/5] END bootstrap=True, max_depth=6, max_features=log2, n_estimators=150;, score=0.986 total time= 3.3min\n",
      "[CV 5/5] END bootstrap=True, max_depth=6, max_features=log2, n_estimators=150;, score=0.986 total time= 3.3min\n",
      "[CV 1/5] END bootstrap=True, max_depth=6, max_features=None, n_estimators=50;, score=0.983 total time= 5.9min\n",
      "[CV 2/5] END bootstrap=True, max_depth=6, max_features=None, n_estimators=50;, score=0.983 total time= 5.9min\n",
      "[CV 3/5] END bootstrap=True, max_depth=6, max_features=None, n_estimators=50;, score=0.984 total time= 5.9min\n",
      "[CV 4/5] END bootstrap=True, max_depth=6, max_features=None, n_estimators=50;, score=0.984 total time= 6.1min\n",
      "[CV 5/5] END bootstrap=True, max_depth=6, max_features=None, n_estimators=50;, score=0.983 total time= 6.1min\n",
      "[CV 1/5] END bootstrap=True, max_depth=6, max_features=None, n_estimators=100;, score=0.983 total time=11.9min\n",
      "[CV 2/5] END bootstrap=True, max_depth=6, max_features=None, n_estimators=100;, score=0.983 total time=11.9min\n",
      "[CV 3/5] END bootstrap=True, max_depth=6, max_features=None, n_estimators=100;, score=0.983 total time=11.8min\n",
      "[CV 4/5] END bootstrap=True, max_depth=6, max_features=None, n_estimators=100;, score=0.984 total time=11.9min\n",
      "[CV 5/5] END bootstrap=True, max_depth=6, max_features=None, n_estimators=100;, score=0.983 total time=12.3min\n",
      "[CV 2/5] END bootstrap=True, max_depth=8, max_features=sqrt, n_estimators=50;, score=0.988 total time= 1.4min\n",
      "[CV 1/5] END bootstrap=True, max_depth=8, max_features=sqrt, n_estimators=50;, score=0.988 total time= 1.4min\n",
      "[CV 3/5] END bootstrap=True, max_depth=8, max_features=sqrt, n_estimators=50;, score=0.988 total time= 1.4min\n",
      "[CV 4/5] END bootstrap=True, max_depth=8, max_features=sqrt, n_estimators=50;, score=0.988 total time= 1.4min\n",
      "[CV 5/5] END bootstrap=True, max_depth=8, max_features=sqrt, n_estimators=50;, score=0.988 total time= 1.4min\n",
      "[CV 3/5] END bootstrap=True, max_depth=8, max_features=sqrt, n_estimators=100;, score=0.988 total time= 2.8min\n",
      "[CV 1/5] END bootstrap=True, max_depth=8, max_features=sqrt, n_estimators=100;, score=0.988 total time= 2.8min\n",
      "[CV 2/5] END bootstrap=True, max_depth=8, max_features=sqrt, n_estimators=100;, score=0.988 total time= 2.9min\n",
      "[CV 4/5] END bootstrap=True, max_depth=8, max_features=sqrt, n_estimators=100;, score=0.989 total time= 2.9min\n",
      "[CV 5/5] END bootstrap=True, max_depth=8, max_features=sqrt, n_estimators=100;, score=0.988 total time= 2.9min\n",
      "[CV 2/5] END bootstrap=True, max_depth=8, max_features=sqrt, n_estimators=150;, score=0.988 total time= 4.1min\n",
      "[CV 1/5] END bootstrap=True, max_depth=8, max_features=sqrt, n_estimators=150;, score=0.988 total time= 4.1min\n",
      "[CV 3/5] END bootstrap=True, max_depth=8, max_features=sqrt, n_estimators=150;, score=0.988 total time= 4.1min\n",
      "[CV 4/5] END bootstrap=True, max_depth=8, max_features=sqrt, n_estimators=150;, score=0.989 total time= 4.1min\n",
      "[CV 5/5] END bootstrap=True, max_depth=8, max_features=sqrt, n_estimators=150;, score=0.988 total time= 4.2min\n",
      "[CV 1/5] END bootstrap=True, max_depth=8, max_features=log2, n_estimators=50;, score=0.988 total time= 1.3min\n",
      "[CV 2/5] END bootstrap=True, max_depth=8, max_features=log2, n_estimators=50;, score=0.988 total time= 1.3min\n",
      "[CV 3/5] END bootstrap=True, max_depth=8, max_features=log2, n_estimators=50;, score=0.988 total time= 1.3min\n",
      "[CV 4/5] END bootstrap=True, max_depth=8, max_features=log2, n_estimators=50;, score=0.988 total time= 1.3min\n",
      "[CV 1/5] END bootstrap=True, max_depth=6, max_features=None, n_estimators=150;, score=0.983 total time=18.0min\n",
      "[CV 2/5] END bootstrap=True, max_depth=6, max_features=None, n_estimators=150;, score=0.983 total time=17.9min\n",
      "[CV 3/5] END bootstrap=True, max_depth=6, max_features=None, n_estimators=150;, score=0.984 total time=18.0min\n",
      "[CV 5/5] END bootstrap=True, max_depth=8, max_features=log2, n_estimators=50;, score=0.988 total time= 1.4min\n",
      "[CV 4/5] END bootstrap=True, max_depth=6, max_features=None, n_estimators=150;, score=0.984 total time=18.6min\n",
      "[CV 5/5] END bootstrap=True, max_depth=6, max_features=None, n_estimators=150;, score=0.983 total time=18.5min\n",
      "[CV 1/5] END bootstrap=True, max_depth=8, max_features=log2, n_estimators=100;, score=0.988 total time= 2.7min\n",
      "[CV 2/5] END bootstrap=True, max_depth=8, max_features=log2, n_estimators=100;, score=0.988 total time= 2.7min\n",
      "[CV 3/5] END bootstrap=True, max_depth=8, max_features=log2, n_estimators=100;, score=0.988 total time= 2.7min\n",
      "[CV 4/5] END bootstrap=True, max_depth=8, max_features=log2, n_estimators=100;, score=0.988 total time= 2.7min\n",
      "[CV 5/5] END bootstrap=True, max_depth=8, max_features=log2, n_estimators=100;, score=0.988 total time= 2.8min\n",
      "[CV 1/5] END bootstrap=True, max_depth=8, max_features=log2, n_estimators=150;, score=0.988 total time= 4.0min\n",
      "[CV 2/5] END bootstrap=True, max_depth=8, max_features=log2, n_estimators=150;, score=0.988 total time= 4.0min\n",
      "[CV 3/5] END bootstrap=True, max_depth=8, max_features=log2, n_estimators=150;, score=0.988 total time= 4.1min\n",
      "[CV 5/5] END bootstrap=True, max_depth=8, max_features=log2, n_estimators=150;, score=0.988 total time= 4.1min\n",
      "[CV 4/5] END bootstrap=True, max_depth=8, max_features=log2, n_estimators=150;, score=0.989 total time= 4.2min\n",
      "[CV 1/5] END bootstrap=True, max_depth=8, max_features=None, n_estimators=50;, score=0.986 total time= 7.4min\n",
      "[CV 2/5] END bootstrap=True, max_depth=8, max_features=None, n_estimators=50;, score=0.987 total time= 7.4min\n",
      "[CV 3/5] END bootstrap=True, max_depth=8, max_features=None, n_estimators=50;, score=0.987 total time= 7.4min\n",
      "[CV 4/5] END bootstrap=True, max_depth=8, max_features=None, n_estimators=50;, score=0.987 total time= 7.4min\n",
      "[CV 5/5] END bootstrap=True, max_depth=8, max_features=None, n_estimators=50;, score=0.986 total time= 7.4min\n",
      "[CV 1/5] END bootstrap=True, max_depth=8, max_features=None, n_estimators=100;, score=0.987 total time=14.8min\n",
      "[CV 2/5] END bootstrap=True, max_depth=8, max_features=None, n_estimators=100;, score=0.987 total time=14.8min\n",
      "[CV 3/5] END bootstrap=True, max_depth=8, max_features=None, n_estimators=100;, score=0.987 total time=15.3min\n",
      "[CV 4/5] END bootstrap=True, max_depth=8, max_features=None, n_estimators=100;, score=0.987 total time=15.3min\n",
      "[CV 1/5] END bootstrap=True, max_depth=10, max_features=sqrt, n_estimators=50;, score=0.990 total time= 1.6min\n",
      "[CV 5/5] END bootstrap=True, max_depth=8, max_features=None, n_estimators=100;, score=0.987 total time=15.3min\n",
      "[CV 2/5] END bootstrap=True, max_depth=10, max_features=sqrt, n_estimators=50;, score=0.991 total time= 1.6min\n",
      "[CV 3/5] END bootstrap=True, max_depth=10, max_features=sqrt, n_estimators=50;, score=0.990 total time= 1.7min\n",
      "[CV 4/5] END bootstrap=True, max_depth=10, max_features=sqrt, n_estimators=50;, score=0.991 total time= 1.7min\n",
      "[CV 5/5] END bootstrap=True, max_depth=10, max_features=sqrt, n_estimators=50;, score=0.990 total time= 1.6min\n",
      "[CV 2/5] END bootstrap=True, max_depth=10, max_features=sqrt, n_estimators=100;, score=0.991 total time= 3.3min\n",
      "[CV 1/5] END bootstrap=True, max_depth=10, max_features=sqrt, n_estimators=100;, score=0.990 total time= 3.5min\n",
      "[CV 3/5] END bootstrap=True, max_depth=10, max_features=sqrt, n_estimators=100;, score=0.991 total time= 3.4min\n",
      "[CV 5/5] END bootstrap=True, max_depth=10, max_features=sqrt, n_estimators=100;, score=0.990 total time= 3.4min\n",
      "[CV 4/5] END bootstrap=True, max_depth=10, max_features=sqrt, n_estimators=100;, score=0.991 total time= 3.5min\n",
      "[CV 1/5] END bootstrap=True, max_depth=10, max_features=sqrt, n_estimators=150;, score=0.991 total time= 5.0min\n",
      "[CV 2/5] END bootstrap=True, max_depth=10, max_features=sqrt, n_estimators=150;, score=0.991 total time= 5.2min\n",
      "[CV 4/5] END bootstrap=True, max_depth=10, max_features=sqrt, n_estimators=150;, score=0.991 total time= 5.0min\n",
      "[CV 3/5] END bootstrap=True, max_depth=10, max_features=sqrt, n_estimators=150;, score=0.991 total time= 5.2min\n",
      "[CV 5/5] END bootstrap=True, max_depth=10, max_features=sqrt, n_estimators=150;, score=0.990 total time= 5.1min\n",
      "[CV 1/5] END bootstrap=True, max_depth=10, max_features=log2, n_estimators=50;, score=0.990 total time= 1.8min\n",
      "[CV 2/5] END bootstrap=True, max_depth=10, max_features=log2, n_estimators=50;, score=0.991 total time= 1.8min\n",
      "[CV 3/5] END bootstrap=True, max_depth=10, max_features=log2, n_estimators=50;, score=0.990 total time= 1.7min\n",
      "[CV 4/5] END bootstrap=True, max_depth=10, max_features=log2, n_estimators=50;, score=0.991 total time= 1.7min\n",
      "[CV 5/5] END bootstrap=True, max_depth=10, max_features=log2, n_estimators=50;, score=0.990 total time= 1.7min\n",
      "[CV 1/5] END bootstrap=True, max_depth=8, max_features=None, n_estimators=150;, score=0.986 total time=22.8min\n",
      "[CV 2/5] END bootstrap=True, max_depth=8, max_features=None, n_estimators=150;, score=0.987 total time=22.8min\n",
      "[CV 3/5] END bootstrap=True, max_depth=8, max_features=None, n_estimators=150;, score=0.987 total time=22.9min\n",
      "[CV 5/5] END bootstrap=True, max_depth=8, max_features=None, n_estimators=150;, score=0.987 total time=22.9min\n",
      "[CV 4/5] END bootstrap=True, max_depth=8, max_features=None, n_estimators=150;, score=0.987 total time=22.9min\n",
      "[CV 1/5] END bootstrap=True, max_depth=10, max_features=log2, n_estimators=100;, score=0.991 total time= 3.4min\n",
      "[CV 2/5] END bootstrap=True, max_depth=10, max_features=log2, n_estimators=100;, score=0.991 total time= 3.5min\n",
      "[CV 3/5] END bootstrap=True, max_depth=10, max_features=log2, n_estimators=100;, score=0.991 total time= 3.4min\n",
      "[CV 4/5] END bootstrap=True, max_depth=10, max_features=log2, n_estimators=100;, score=0.991 total time= 3.5min\n",
      "[CV 5/5] END bootstrap=True, max_depth=10, max_features=log2, n_estimators=100;, score=0.990 total time= 3.5min\n",
      "[CV 1/5] END bootstrap=True, max_depth=10, max_features=log2, n_estimators=150;, score=0.991 total time= 5.0min\n",
      "[CV 2/5] END bootstrap=True, max_depth=10, max_features=log2, n_estimators=150;, score=0.991 total time= 5.0min\n",
      "[CV 3/5] END bootstrap=True, max_depth=10, max_features=log2, n_estimators=150;, score=0.991 total time= 5.0min\n",
      "[CV 5/5] END bootstrap=True, max_depth=10, max_features=log2, n_estimators=150;, score=0.990 total time= 5.0min\n",
      "[CV 4/5] END bootstrap=True, max_depth=10, max_features=log2, n_estimators=150;, score=0.991 total time= 5.0min\n",
      "[CV 1/5] END bootstrap=True, max_depth=10, max_features=None, n_estimators=50;, score=0.990 total time= 9.4min\n",
      "[CV 2/5] END bootstrap=True, max_depth=10, max_features=None, n_estimators=50;, score=0.990 total time= 9.7min\n",
      "[CV 3/5] END bootstrap=True, max_depth=10, max_features=None, n_estimators=50;, score=0.990 total time= 9.3min\n",
      "[CV 4/5] END bootstrap=True, max_depth=10, max_features=None, n_estimators=50;, score=0.990 total time= 9.6min\n",
      "[CV 5/5] END bootstrap=True, max_depth=10, max_features=None, n_estimators=50;, score=0.990 total time= 9.5min\n",
      "[CV 1/5] END bootstrap=True, max_depth=10, max_features=None, n_estimators=100;, score=0.990 total time=18.2min\n",
      "[CV 2/5] END bootstrap=True, max_depth=10, max_features=None, n_estimators=100;, score=0.990 total time=18.2min\n",
      "[CV 3/5] END bootstrap=True, max_depth=10, max_features=None, n_estimators=100;, score=0.990 total time=18.2min\n",
      "[CV 4/5] END bootstrap=True, max_depth=10, max_features=None, n_estimators=100;, score=0.990 total time=18.2min\n",
      "[CV 5/5] END bootstrap=True, max_depth=10, max_features=None, n_estimators=100;, score=0.990 total time=18.2min\n",
      "[CV 1/5] END bootstrap=False, max_depth=6, max_features=sqrt, n_estimators=50;, score=0.985 total time= 1.3min\n",
      "[CV 2/5] END bootstrap=False, max_depth=6, max_features=sqrt, n_estimators=50;, score=0.986 total time= 1.4min\n",
      "[CV 3/5] END bootstrap=False, max_depth=6, max_features=sqrt, n_estimators=50;, score=0.986 total time= 1.4min\n",
      "[CV 4/5] END bootstrap=False, max_depth=6, max_features=sqrt, n_estimators=50;, score=0.986 total time= 1.3min\n",
      "[CV 5/5] END bootstrap=False, max_depth=6, max_features=sqrt, n_estimators=50;, score=0.985 total time= 1.3min\n",
      "[CV 1/5] END bootstrap=False, max_depth=6, max_features=sqrt, n_estimators=100;, score=0.986 total time= 2.6min\n",
      "[CV 3/5] END bootstrap=False, max_depth=6, max_features=sqrt, n_estimators=100;, score=0.986 total time= 2.6min\n",
      "[CV 2/5] END bootstrap=False, max_depth=6, max_features=sqrt, n_estimators=100;, score=0.986 total time= 2.6min\n",
      "[CV 4/5] END bootstrap=False, max_depth=6, max_features=sqrt, n_estimators=100;, score=0.986 total time= 2.6min\n",
      "[CV 5/5] END bootstrap=False, max_depth=6, max_features=sqrt, n_estimators=100;, score=0.986 total time= 2.6min\n",
      "[CV 1/5] END bootstrap=False, max_depth=6, max_features=sqrt, n_estimators=150;, score=0.986 total time= 4.0min\n",
      "[CV 2/5] END bootstrap=False, max_depth=6, max_features=sqrt, n_estimators=150;, score=0.986 total time= 3.9min\n",
      "[CV 3/5] END bootstrap=False, max_depth=6, max_features=sqrt, n_estimators=150;, score=0.986 total time= 4.0min\n",
      "[CV 4/5] END bootstrap=False, max_depth=6, max_features=sqrt, n_estimators=150;, score=0.986 total time= 3.9min\n",
      "[CV 5/5] END bootstrap=False, max_depth=6, max_features=sqrt, n_estimators=150;, score=0.986 total time= 3.9min\n",
      "[CV 1/5] END bootstrap=False, max_depth=6, max_features=log2, n_estimators=50;, score=0.986 total time= 1.3min\n",
      "[CV 2/5] END bootstrap=False, max_depth=6, max_features=log2, n_estimators=50;, score=0.986 total time= 1.4min\n",
      "[CV 3/5] END bootstrap=False, max_depth=6, max_features=log2, n_estimators=50;, score=0.986 total time= 1.4min\n",
      "[CV 4/5] END bootstrap=False, max_depth=6, max_features=log2, n_estimators=50;, score=0.986 total time= 1.3min\n",
      "[CV 5/5] END bootstrap=False, max_depth=6, max_features=log2, n_estimators=50;, score=0.986 total time= 1.3min\n",
      "[CV 1/5] END bootstrap=False, max_depth=6, max_features=log2, n_estimators=100;, score=0.986 total time= 2.6min\n",
      "[CV 2/5] END bootstrap=False, max_depth=6, max_features=log2, n_estimators=100;, score=0.986 total time= 2.6min\n",
      "[CV 3/5] END bootstrap=False, max_depth=6, max_features=log2, n_estimators=100;, score=0.986 total time= 2.6min\n",
      "[CV 4/5] END bootstrap=False, max_depth=6, max_features=log2, n_estimators=100;, score=0.986 total time= 2.6min\n",
      "[CV 5/5] END bootstrap=False, max_depth=6, max_features=log2, n_estimators=100;, score=0.986 total time= 2.6min\n",
      "[CV 1/5] END bootstrap=True, max_depth=10, max_features=None, n_estimators=150;, score=0.990 total time=26.7min\n",
      "[CV 3/5] END bootstrap=True, max_depth=10, max_features=None, n_estimators=150;, score=0.990 total time=26.7min\n",
      "[CV 1/5] END bootstrap=False, max_depth=6, max_features=log2, n_estimators=150;, score=0.986 total time= 3.9min\n",
      "[CV 2/5] END bootstrap=True, max_depth=10, max_features=None, n_estimators=150;, score=0.990 total time=27.6min\n",
      "[CV 2/5] END bootstrap=False, max_depth=6, max_features=log2, n_estimators=150;, score=0.986 total time= 4.0min\n",
      "[CV 3/5] END bootstrap=False, max_depth=6, max_features=log2, n_estimators=150;, score=0.986 total time= 3.9min\n",
      "[CV 4/5] END bootstrap=False, max_depth=6, max_features=log2, n_estimators=150;, score=0.986 total time= 4.0min\n",
      "[CV 5/5] END bootstrap=False, max_depth=6, max_features=log2, n_estimators=150;, score=0.986 total time= 4.1min\n",
      "[CV 4/5] END bootstrap=True, max_depth=10, max_features=None, n_estimators=150;, score=0.990 total time=27.5min\n",
      "[CV 5/5] END bootstrap=True, max_depth=10, max_features=None, n_estimators=150;, score=0.990 total time=27.5min\n",
      "[CV 1/5] END bootstrap=False, max_depth=6, max_features=None, n_estimators=50;, score=0.981 total time= 7.6min\n",
      "[CV 2/5] END bootstrap=False, max_depth=6, max_features=None, n_estimators=50;, score=0.981 total time= 7.5min\n",
      "[CV 3/5] END bootstrap=False, max_depth=6, max_features=None, n_estimators=50;, score=0.981 total time= 7.6min\n",
      "[CV 4/5] END bootstrap=False, max_depth=6, max_features=None, n_estimators=50;, score=0.981 total time= 7.6min\n",
      "[CV 5/5] END bootstrap=False, max_depth=6, max_features=None, n_estimators=50;, score=0.980 total time= 7.6min\n",
      "[CV 1/5] END bootstrap=False, max_depth=6, max_features=None, n_estimators=100;, score=0.981 total time=15.1min\n",
      "[CV 2/5] END bootstrap=False, max_depth=6, max_features=None, n_estimators=100;, score=0.981 total time=15.1min\n",
      "[CV 3/5] END bootstrap=False, max_depth=6, max_features=None, n_estimators=100;, score=0.981 total time=15.1min\n",
      "[CV 4/5] END bootstrap=False, max_depth=6, max_features=None, n_estimators=100;, score=0.981 total time=15.1min\n",
      "[CV 5/5] END bootstrap=False, max_depth=6, max_features=None, n_estimators=100;, score=0.980 total time=15.1min\n",
      "[CV 1/5] END bootstrap=False, max_depth=8, max_features=sqrt, n_estimators=50;, score=0.988 total time= 1.7min\n",
      "[CV 2/5] END bootstrap=False, max_depth=8, max_features=sqrt, n_estimators=50;, score=0.988 total time= 1.7min\n",
      "[CV 3/5] END bootstrap=False, max_depth=8, max_features=sqrt, n_estimators=50;, score=0.988 total time= 1.7min\n",
      "[CV 4/5] END bootstrap=False, max_depth=8, max_features=sqrt, n_estimators=50;, score=0.988 total time= 1.7min\n",
      "[CV 5/5] END bootstrap=False, max_depth=8, max_features=sqrt, n_estimators=50;, score=0.988 total time= 1.7min\n",
      "[CV 1/5] END bootstrap=False, max_depth=8, max_features=sqrt, n_estimators=100;, score=0.988 total time= 3.3min\n",
      "[CV 2/5] END bootstrap=False, max_depth=8, max_features=sqrt, n_estimators=100;, score=0.988 total time= 3.3min\n",
      "[CV 3/5] END bootstrap=False, max_depth=8, max_features=sqrt, n_estimators=100;, score=0.988 total time= 3.3min\n",
      "[CV 4/5] END bootstrap=False, max_depth=8, max_features=sqrt, n_estimators=100;, score=0.988 total time= 3.4min\n",
      "[CV 5/5] END bootstrap=False, max_depth=8, max_features=sqrt, n_estimators=100;, score=0.988 total time= 3.4min\n",
      "[CV 1/5] END bootstrap=False, max_depth=8, max_features=sqrt, n_estimators=150;, score=0.988 total time= 5.0min\n",
      "[CV 2/5] END bootstrap=False, max_depth=8, max_features=sqrt, n_estimators=150;, score=0.988 total time= 5.1min\n",
      "[CV 3/5] END bootstrap=False, max_depth=8, max_features=sqrt, n_estimators=150;, score=0.988 total time= 5.0min\n",
      "[CV 4/5] END bootstrap=False, max_depth=8, max_features=sqrt, n_estimators=150;, score=0.989 total time= 5.0min\n",
      "[CV 5/5] END bootstrap=False, max_depth=8, max_features=sqrt, n_estimators=150;, score=0.988 total time= 5.1min\n",
      "[CV 1/5] END bootstrap=False, max_depth=8, max_features=log2, n_estimators=50;, score=0.988 total time= 1.7min\n",
      "[CV 2/5] END bootstrap=False, max_depth=8, max_features=log2, n_estimators=50;, score=0.988 total time= 1.7min\n",
      "[CV 3/5] END bootstrap=False, max_depth=8, max_features=log2, n_estimators=50;, score=0.988 total time= 1.7min\n",
      "[CV 4/5] END bootstrap=False, max_depth=8, max_features=log2, n_estimators=50;, score=0.988 total time= 1.7min\n",
      "[CV 5/5] END bootstrap=False, max_depth=8, max_features=log2, n_estimators=50;, score=0.988 total time= 1.7min\n",
      "[CV 1/5] END bootstrap=False, max_depth=6, max_features=None, n_estimators=150;, score=0.981 total time=22.7min\n",
      "[CV 2/5] END bootstrap=False, max_depth=6, max_features=None, n_estimators=150;, score=0.981 total time=22.8min\n",
      "[CV 3/5] END bootstrap=False, max_depth=6, max_features=None, n_estimators=150;, score=0.981 total time=22.8min\n",
      "[CV 4/5] END bootstrap=False, max_depth=6, max_features=None, n_estimators=150;, score=0.981 total time=22.8min\n",
      "[CV 1/5] END bootstrap=False, max_depth=8, max_features=log2, n_estimators=100;, score=0.988 total time= 3.3min\n",
      "[CV 5/5] END bootstrap=False, max_depth=6, max_features=None, n_estimators=150;, score=0.980 total time=22.8min\n",
      "[CV 2/5] END bootstrap=False, max_depth=8, max_features=log2, n_estimators=100;, score=0.988 total time= 3.4min\n",
      "[CV 3/5] END bootstrap=False, max_depth=8, max_features=log2, n_estimators=100;, score=0.988 total time= 3.4min\n",
      "[CV 4/5] END bootstrap=False, max_depth=8, max_features=log2, n_estimators=100;, score=0.988 total time= 3.4min\n",
      "[CV 5/5] END bootstrap=False, max_depth=8, max_features=log2, n_estimators=100;, score=0.988 total time= 3.3min\n",
      "[CV 1/5] END bootstrap=False, max_depth=8, max_features=log2, n_estimators=150;, score=0.988 total time= 5.0min\n",
      "[CV 2/5] END bootstrap=False, max_depth=8, max_features=log2, n_estimators=150;, score=0.989 total time= 5.1min\n",
      "[CV 4/5] END bootstrap=False, max_depth=8, max_features=log2, n_estimators=150;, score=0.989 total time= 4.9min\n",
      "[CV 3/5] END bootstrap=False, max_depth=8, max_features=log2, n_estimators=150;, score=0.988 total time= 5.1min\n",
      "[CV 5/5] END bootstrap=False, max_depth=8, max_features=log2, n_estimators=150;, score=0.988 total time= 5.1min\n",
      "[CV 1/5] END bootstrap=False, max_depth=8, max_features=None, n_estimators=50;, score=0.985 total time= 9.9min\n",
      "[CV 2/5] END bootstrap=False, max_depth=8, max_features=None, n_estimators=50;, score=0.985 total time= 9.9min\n",
      "[CV 3/5] END bootstrap=False, max_depth=8, max_features=None, n_estimators=50;, score=0.985 total time=10.0min\n",
      "[CV 4/5] END bootstrap=False, max_depth=8, max_features=None, n_estimators=50;, score=0.986 total time= 9.9min\n",
      "[CV 5/5] END bootstrap=False, max_depth=8, max_features=None, n_estimators=50;, score=0.985 total time= 9.9min\n",
      "[CV 1/5] END bootstrap=False, max_depth=8, max_features=None, n_estimators=100;, score=0.985 total time=19.8min\n",
      "[CV 2/5] END bootstrap=False, max_depth=8, max_features=None, n_estimators=100;, score=0.985 total time=19.8min\n",
      "[CV 3/5] END bootstrap=False, max_depth=8, max_features=None, n_estimators=100;, score=0.985 total time=19.8min\n",
      "[CV 4/5] END bootstrap=False, max_depth=8, max_features=None, n_estimators=100;, score=0.986 total time=19.8min\n",
      "[CV 5/5] END bootstrap=False, max_depth=8, max_features=None, n_estimators=100;, score=0.985 total time=19.8min\n",
      "[CV 1/5] END bootstrap=False, max_depth=10, max_features=sqrt, n_estimators=50;, score=0.991 total time= 2.1min\n",
      "[CV 2/5] END bootstrap=False, max_depth=10, max_features=sqrt, n_estimators=50;, score=0.990 total time= 2.1min\n",
      "[CV 3/5] END bootstrap=False, max_depth=10, max_features=sqrt, n_estimators=50;, score=0.990 total time= 2.1min\n",
      "[CV 4/5] END bootstrap=False, max_depth=10, max_features=sqrt, n_estimators=50;, score=0.991 total time= 2.0min\n",
      "[CV 5/5] END bootstrap=False, max_depth=10, max_features=sqrt, n_estimators=50;, score=0.990 total time= 2.1min\n",
      "[CV 1/5] END bootstrap=False, max_depth=10, max_features=sqrt, n_estimators=100;, score=0.991 total time= 4.0min\n",
      "[CV 2/5] END bootstrap=False, max_depth=10, max_features=sqrt, n_estimators=100;, score=0.991 total time= 4.1min\n",
      "[CV 3/5] END bootstrap=False, max_depth=10, max_features=sqrt, n_estimators=100;, score=0.991 total time= 4.2min\n",
      "[CV 4/5] END bootstrap=False, max_depth=10, max_features=sqrt, n_estimators=100;, score=0.991 total time= 4.2min\n",
      "[CV 5/5] END bootstrap=False, max_depth=10, max_features=sqrt, n_estimators=100;, score=0.990 total time= 4.1min\n",
      "[CV 1/5] END bootstrap=False, max_depth=10, max_features=sqrt, n_estimators=150;, score=0.991 total time= 6.2min\n",
      "[CV 2/5] END bootstrap=False, max_depth=10, max_features=sqrt, n_estimators=150;, score=0.991 total time= 6.2min\n",
      "[CV 4/5] END bootstrap=False, max_depth=10, max_features=sqrt, n_estimators=150;, score=0.991 total time= 6.1min\n",
      "[CV 5/5] END bootstrap=False, max_depth=10, max_features=sqrt, n_estimators=150;, score=0.990 total time= 6.1min\n",
      "[CV 3/5] END bootstrap=False, max_depth=10, max_features=sqrt, n_estimators=150;, score=0.991 total time= 6.2min\n",
      "[CV 1/5] END bootstrap=False, max_depth=10, max_features=log2, n_estimators=50;, score=0.990 total time= 2.1min\n",
      "[CV 3/5] END bootstrap=False, max_depth=10, max_features=log2, n_estimators=50;, score=0.991 total time= 2.1min\n",
      "[CV 2/5] END bootstrap=False, max_depth=10, max_features=log2, n_estimators=50;, score=0.991 total time= 2.1min\n",
      "[CV 5/5] END bootstrap=False, max_depth=10, max_features=log2, n_estimators=50;, score=0.990 total time= 2.1min\n",
      "[CV 4/5] END bootstrap=False, max_depth=10, max_features=log2, n_estimators=50;, score=0.991 total time= 2.1min\n",
      "[CV 1/5] END bootstrap=False, max_depth=8, max_features=None, n_estimators=150;, score=0.985 total time=29.8min\n",
      "[CV 2/5] END bootstrap=False, max_depth=8, max_features=None, n_estimators=150;, score=0.985 total time=29.8min\n",
      "[CV 3/5] END bootstrap=False, max_depth=8, max_features=None, n_estimators=150;, score=0.985 total time=29.8min\n",
      "[CV 4/5] END bootstrap=False, max_depth=8, max_features=None, n_estimators=150;, score=0.986 total time=29.9min\n",
      "[CV 5/5] END bootstrap=False, max_depth=8, max_features=None, n_estimators=150;, score=0.985 total time=29.8min\n",
      "[CV 1/5] END bootstrap=False, max_depth=10, max_features=log2, n_estimators=100;, score=0.990 total time= 4.1min\n",
      "[CV 2/5] END bootstrap=False, max_depth=10, max_features=log2, n_estimators=100;, score=0.991 total time= 4.1min\n",
      "[CV 3/5] END bootstrap=False, max_depth=10, max_features=log2, n_estimators=100;, score=0.991 total time= 4.2min\n",
      "[CV 5/5] END bootstrap=False, max_depth=10, max_features=log2, n_estimators=100;, score=0.990 total time= 4.1min\n",
      "[CV 4/5] END bootstrap=False, max_depth=10, max_features=log2, n_estimators=100;, score=0.991 total time= 4.2min\n",
      "[CV 1/5] END bootstrap=False, max_depth=10, max_features=log2, n_estimators=150;, score=0.991 total time= 6.2min\n",
      "[CV 2/5] END bootstrap=False, max_depth=10, max_features=log2, n_estimators=150;, score=0.991 total time= 6.1min\n",
      "[CV 3/5] END bootstrap=False, max_depth=10, max_features=log2, n_estimators=150;, score=0.991 total time= 6.2min\n",
      "[CV 5/5] END bootstrap=False, max_depth=10, max_features=log2, n_estimators=150;, score=0.990 total time= 6.1min\n",
      "[CV 4/5] END bootstrap=False, max_depth=10, max_features=log2, n_estimators=150;, score=0.991 total time= 6.2min\n",
      "[CV 1/5] END bootstrap=False, max_depth=10, max_features=None, n_estimators=50;, score=0.987 total time=12.2min\n",
      "[CV 2/5] END bootstrap=False, max_depth=10, max_features=None, n_estimators=50;, score=0.987 total time=12.2min\n",
      "[CV 3/5] END bootstrap=False, max_depth=10, max_features=None, n_estimators=50;, score=0.988 total time=12.2min\n",
      "[CV 4/5] END bootstrap=False, max_depth=10, max_features=None, n_estimators=50;, score=0.988 total time=12.2min\n",
      "[CV 5/5] END bootstrap=False, max_depth=10, max_features=None, n_estimators=50;, score=0.987 total time=12.2min\n",
      "[CV 1/5] END bootstrap=False, max_depth=10, max_features=None, n_estimators=100;, score=0.987 total time=24.4min\n",
      "[CV 2/5] END bootstrap=False, max_depth=10, max_features=None, n_estimators=100;, score=0.987 total time=24.4min\n",
      "[CV 3/5] END bootstrap=False, max_depth=10, max_features=None, n_estimators=100;, score=0.988 total time=24.4min\n",
      "[CV 4/5] END bootstrap=False, max_depth=10, max_features=None, n_estimators=100;, score=0.988 total time=24.3min\n",
      "[CV 5/5] END bootstrap=False, max_depth=10, max_features=None, n_estimators=100;, score=0.987 total time=24.2min\n",
      "[CV 1/5] END bootstrap=False, max_depth=10, max_features=None, n_estimators=150;, score=0.987 total time=33.2min\n",
      "[CV 2/5] END bootstrap=False, max_depth=10, max_features=None, n_estimators=150;, score=0.987 total time=32.8min\n",
      "[CV 3/5] END bootstrap=False, max_depth=10, max_features=None, n_estimators=150;, score=0.988 total time=32.8min\n",
      "[CV 4/5] END bootstrap=False, max_depth=10, max_features=None, n_estimators=150;, score=0.988 total time=32.9min\n",
      "[CV 5/5] END bootstrap=False, max_depth=10, max_features=None, n_estimators=150;, score=0.987 total time=32.8min\n"
     ]
    }
   ],
   "source": [
    "rf_model = rf.fit(X_train, y_train.values.ravel())"
   ]
  },
  {
   "cell_type": "code",
   "execution_count": 9,
   "metadata": {},
   "outputs": [],
   "source": [
    "mode_file_name = \"../../analyse/models/RandomForestClassifier.pickle\" \n",
    "\n",
    "with open(mode_file_name, 'wb') as bin_file:\n",
    "    pickle.dump(\n",
    "        rf_model,\n",
    "        file=bin_file,\n",
    "        protocol=pickle.HIGHEST_PROTOCOL\n",
    "    )"
   ]
  },
  {
   "cell_type": "markdown",
   "metadata": {},
   "source": [
    "# TESTS"
   ]
  },
  {
   "cell_type": "markdown",
   "metadata": {},
   "source": [
    "**Check test dataset**"
   ]
  },
  {
   "cell_type": "code",
   "execution_count": 10,
   "metadata": {},
   "outputs": [
    {
     "name": "stdout",
     "output_type": "stream",
     "text": [
      "0.9905495956291254\n"
     ]
    }
   ],
   "source": [
    "print(rf_model.score(X_test, y_test))"
   ]
  },
  {
   "cell_type": "markdown",
   "metadata": {},
   "source": [
    "**Create some more datasets for testing and get mean**"
   ]
  },
  {
   "cell_type": "code",
   "execution_count": 11,
   "metadata": {},
   "outputs": [
    {
     "name": "stdout",
     "output_type": "stream",
     "text": [
      "0.9907657314916571\n"
     ]
    }
   ],
   "source": [
    "results = []\n",
    "\n",
    "for i in range(100):\n",
    "    X_train, X_test, y_train, y_test = train_test_split(windows_pd, classification_pd, random_state=i)\n",
    "    results.append(rf_model.score(X_test, y_test))\n",
    "\n",
    "print(np.mean(results))"
   ]
  },
  {
   "cell_type": "markdown",
   "metadata": {},
   "source": [
    "**Let's try to create dataset full of ecg siganls with defects**"
   ]
  },
  {
   "cell_type": "code",
   "execution_count": 12,
   "metadata": {},
   "outputs": [
    {
     "name": "stdout",
     "output_type": "stream",
     "text": [
      "1071632\n"
     ]
    }
   ],
   "source": [
    "only_bad_window = []\n",
    "only_bad_classification = []\n",
    "for i in range(len(windows)):\n",
    "    if classification[i] == 1:\n",
    "        only_bad_window.append(windows[i])\n",
    "        only_bad_classification.append(1)\n",
    "\n",
    "only_bad_window = pd.DataFrame(only_bad_window)\n",
    "only_bad_classification = pd.DataFrame(only_bad_classification)\n",
    "\n",
    "print(len(only_bad_window))"
   ]
  },
  {
   "cell_type": "code",
   "execution_count": 13,
   "metadata": {},
   "outputs": [
    {
     "name": "stdout",
     "output_type": "stream",
     "text": [
      "0.9608335697328934\n"
     ]
    }
   ],
   "source": [
    "print(\n",
    "    len([i for i in rf_model.predict(only_bad_window) if i == 1]) / len(only_bad_window)\n",
    ")\n"
   ]
  },
  {
   "cell_type": "markdown",
   "metadata": {},
   "source": [
    "**Let's try to create dataset full of ecg siganls without defects**"
   ]
  },
  {
   "cell_type": "code",
   "execution_count": 14,
   "metadata": {},
   "outputs": [
    {
     "name": "stdout",
     "output_type": "stream",
     "text": [
      "1222950\n"
     ]
    }
   ],
   "source": [
    "only_good_window = []\n",
    "only_good_classification = []\n",
    "for i in range(len(windows)):\n",
    "    if classification[i] == 0:\n",
    "        only_good_window.append(windows[i])\n",
    "        only_good_classification.append(1)\n",
    "\n",
    "only_good_window = pd.DataFrame(only_good_window)\n",
    "only_good_classification = pd.DataFrame(only_good_classification)\n",
    "\n",
    "print(len(only_good_window))"
   ]
  },
  {
   "cell_type": "code",
   "execution_count": 15,
   "metadata": {},
   "outputs": [
    {
     "name": "stdout",
     "output_type": "stream",
     "text": [
      "0.9698474998977882\n"
     ]
    }
   ],
   "source": [
    "print(\n",
    "    len([i for i in rf_model.predict(only_good_window) if i == 0]) / len(only_good_window)\n",
    ")"
   ]
  },
  {
   "cell_type": "markdown",
   "metadata": {},
   "source": [
    "**Check all ecg signals at once**"
   ]
  },
  {
   "cell_type": "code",
   "execution_count": 16,
   "metadata": {},
   "outputs": [
    {
     "name": "stdout",
     "output_type": "stream",
     "text": [
      "0.9907777098435466\n"
     ]
    }
   ],
   "source": [
    "print(rf_model.score(windows_pd, classification_pd))"
   ]
  }
 ],
 "metadata": {
  "interpreter": {
   "hash": "aee8b7b246df8f9039afb4144a1f6fd8d2ca17a180786b69acc140d282b71a49"
  },
  "kernelspec": {
   "display_name": "Python 3.10.0 64-bit",
   "language": "python",
   "name": "python3"
  },
  "language_info": {
   "codemirror_mode": {
    "name": "ipython",
    "version": 3
   },
   "file_extension": ".py",
   "mimetype": "text/x-python",
   "name": "python",
   "nbconvert_exporter": "python",
   "pygments_lexer": "ipython3",
   "version": "3.10.0"
  },
  "orig_nbformat": 4
 },
 "nbformat": 4,
 "nbformat_minor": 2
}
